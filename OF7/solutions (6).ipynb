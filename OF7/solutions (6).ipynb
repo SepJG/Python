{
 "cells": [
  {
   "cell_type": "markdown",
   "metadata": {},
   "source": [
    "# Øvingsforelesning 7 - ITGK\n",
    "\n",
    "Lister og tekstbehandling"
   ]
  },
  {
   "cell_type": "markdown",
   "metadata": {},
   "source": [
    "### Repetisjonsoppgave\n",
    "\n",
    "Du er gitt to lister:\n",
    " - `handleliste`, som inneholder dagligvarer du skal kjøpe\n",
    " - `priser`, som angir prisene til varene i `handleliste`\n",
    "\n",
    "Prisen til et element i handleliste er elementet i priser som har samme indeks, altså vil prisen til `handeliste[i]` være `priser[i]` der `i` er indeksen (plassen) til elementet i listen.\n",
    "\n",
    "Lag en funksjon `print_handleliste` som tar inn to parametre - en handleliste og en prislite - og som printer ut elementene i handlelisten med tilhørende pris på formatet\n",
    "\n",
    "```\n",
    "Melk: 17 kr\n",
    "Bananer: 5 kr\n",
    "```"
   ]
  },
  {
   "cell_type": "code",
   "execution_count": null,
   "metadata": {},
   "outputs": [],
   "source": [
    "# Antar at listene som er gitt inn er like lange\n",
    "def print_handleliste(handleliste, priser):\n",
    "    for i in range(len(handleliste)):\n",
    "        print(f\"{handleliste[i]}: {priser[i]} kr\")"
   ]
  },
  {
   "cell_type": "markdown",
   "metadata": {},
   "source": [
    "Testkode"
   ]
  },
  {
   "cell_type": "code",
   "execution_count": null,
   "metadata": {},
   "outputs": [],
   "source": [
    "print_handleliste([\"Eple\", \"Pære\", \"Appelsin\"], [10, 9, 8])\n",
    "print_handleliste([\"Paprika\", \"Pizza\"], [5, 65])\n",
    "print_handleliste([\"Paprika\", \"Pizza\", \"Pølse\", \"Melk\"], [5, 65, 25, 20])"
   ]
  },
  {
   "cell_type": "markdown",
   "metadata": {},
   "source": [
    "### Oppgave 1\n",
    "\n",
    "Lag en funksjon `zero_matrix(dim)` som tar inn et heltall `dim`og som oppretter en **kvadratisk tabell** (2D-liste) med antall rader og kolonner lik `dim`. Tabellen skal kun inneholde 0 i alle elementer, og funksjonen skal returnere tabellen."
   ]
  },
  {
   "cell_type": "code",
   "execution_count": null,
   "metadata": {},
   "outputs": [],
   "source": [
    "def zero_matrix(dim):\n",
    "    result = []\n",
    "    \n",
    "    for i in range(dim):\n",
    "        inner = []\n",
    "        for j in range(dim):\n",
    "            inner.append(0)\n",
    "        result.append(inner)\n",
    "\n",
    "    return result"
   ]
  },
  {
   "cell_type": "code",
   "execution_count": null,
   "metadata": {},
   "outputs": [],
   "source": [
    "# Denne hjelpefunksjonen printer en 2D-liste rad for rad\n",
    "def print_matrix(matrix):\n",
    "    for row in matrix:\n",
    "        print(row)\n",
    "\n",
    "print_matrix(zero_matrix(3))\n",
    "print_matrix(zero_matrix(4))\n",
    "print_matrix(zero_matrix(5))"
   ]
  },
  {
   "cell_type": "markdown",
   "metadata": {},
   "source": [
    "### Oppgave 2\n",
    "\n",
    "Lag en funksjon `identity_matrix(dim)` som, slik som i oppg. 6, skal returnere en kvadratisk tabll med dimensjon `dim` der alle elementer er 0, bortsett fra at **elementer på diagonalen skal være 1**."
   ]
  },
  {
   "cell_type": "code",
   "execution_count": null,
   "metadata": {},
   "outputs": [],
   "source": [
    "def identity_matrix(dim):\n",
    "    matrix = zero_matrix(dim)\n",
    "\n",
    "    for i in range(dim):\n",
    "        matrix[i][i] = 1\n",
    "\n",
    "    return matrix"
   ]
  },
  {
   "cell_type": "code",
   "execution_count": null,
   "metadata": {},
   "outputs": [],
   "source": [
    "print_matrix(identity_matrix(3))\n",
    "print_matrix(identity_matrix(4))\n",
    "print_matrix(identity_matrix(5))"
   ]
  },
  {
   "cell_type": "markdown",
   "metadata": {},
   "source": [
    "### Oppgave 3\n",
    "\n",
    " - Lag en funksjon som tar inn to ord og sjekker om **de tre første bokstavene** i ordene er like, **ikke sensitivt for store/små bokstaver**\n",
    " - Returner `True` hvis de tre første bokstavene er like, `False` ellers\n",
    " - `\"Fotball\"` og `\"fotografi\"` skal returnere `True`\n",
    "\n",
    "**Hint:**\n",
    " - Bruk slicing for å hente ut en substreng med de tre første bokstavene: `new_str = str[0:3]`\n",
    " - Bruk `str.lower()` for å kunne sammenligne små bokstaver"
   ]
  },
  {
   "cell_type": "code",
   "execution_count": null,
   "metadata": {},
   "outputs": [],
   "source": [
    "def get_first_three_letters(streng):\n",
    "    return streng[0:3]\n",
    "\n",
    "def starts_with_same(ord1, ord2):\n",
    "    start1 = get_first_three_letters(ord1)\n",
    "    start2 = get_first_three_letters(ord2)\n",
    "    start1 = start1.lower()\n",
    "    start2 = start2.lower()\n",
    "    return start1 == start2"
   ]
  },
  {
   "cell_type": "code",
   "execution_count": null,
   "metadata": {},
   "outputs": [],
   "source": [
    "print(starts_with_same(\"Fotball\", \"fotografi\"))\n",
    "print(starts_with_same(\"Fotball\", \"fisk\"))\n",
    "print(starts_with_same(\"eple\", \"ePLe\"))"
   ]
  },
  {
   "cell_type": "markdown",
   "metadata": {},
   "source": [
    "### Oppgave 4: Hva printes her?\n",
    "\n",
    "```python\n",
    "my_word = \"IATGGUK\"\n",
    "\n",
    "def myst(A):\n",
    "    new_word = \"\"\n",
    "    for i in range(0, len(A), 2):\n",
    "        new_word = new_word + A[i]\n",
    "    return new_word\n",
    "\n",
    "myst_word = myst(my_word)\n",
    "print(myst_word)\n",
    "```"
   ]
  },
  {
   "cell_type": "markdown",
   "metadata": {},
   "source": [
    "### Oppgave 5\n",
    "\n",
    " - A. Lag en funksjon som tar inn et ord og en bokstav. Funksjonen skal returnere en **liste over alle indeksene man finner bokstaven** i ordet\n",
    "\n",
    " - B. Lag en funksjon `contains_vocals(streng)` som tar inn en streng `streng` og som returnerer `True` eller `False` avhengig **om strengen inneholder vokaler** eller ikke\n",
    "\n",
    " **Hint:**\n",
    "  - Vokaler: `a`, `e`, `i`, `o`, `u`, `y`, `æ`, `ø`, `å`"
   ]
  },
  {
   "cell_type": "code",
   "execution_count": null,
   "metadata": {},
   "outputs": [],
   "source": [
    "def find_letter(word, letter):\n",
    "    result = []\n",
    "\n",
    "    for i in range(len(word)):\n",
    "        l = word[i]\n",
    "        if l == letter:\n",
    "            result.append(i)\n",
    "\n",
    "    return result\n",
    "\n",
    "def is_vocal(letter):\n",
    "    return letter.lower() in \"aeiouyæøå\"\n",
    "\n",
    "def contains_vocals(streng):\n",
    "    for char in streng:\n",
    "        if is_vocal(char):\n",
    "            return True\n",
    "    return False\n",
    "\n",
    "print(find_letter(\"ITGKGG\", \"G\"))\n",
    "print(is_vocal(\"A\"))\n",
    "print(contains_vocals(\"bc\"))"
   ]
  },
  {
   "cell_type": "markdown",
   "metadata": {},
   "source": [
    "Løsningen over sjekker hver bokstav om den er en vokal. Vi kan også løse dette ved å sjekke om hver enkelt vokal finnes i strengen ved hjelp av `in`-operatoren:"
   ]
  },
  {
   "cell_type": "code",
   "execution_count": null,
   "metadata": {},
   "outputs": [],
   "source": [
    "VOCALS = \"aeiouyæøå\"\n",
    "\n",
    "def contains_vocals(streng):\n",
    "    for vocal in VOCALS:\n",
    "        if vocal in streng:\n",
    "            return True\n",
    "    return False\n",
    "    \n",
    "print(contains_vocals(\"bc\"))"
   ]
  },
  {
   "cell_type": "markdown",
   "metadata": {},
   "source": [
    "### Oppgave 6\n",
    "\n",
    "Lag funksjonen `is_angry(word)` som tar inn en streng `word` og som returnerer `True`hvis alle alfabetiske tegn er store og strenger slutter på `\"!\"`."
   ]
  },
  {
   "cell_type": "code",
   "execution_count": null,
   "metadata": {},
   "outputs": [],
   "source": [
    "def is_angry(word):\n",
    "    for char in word:\n",
    "        if char.isalpha() and char.islower():\n",
    "            return False\n",
    "    return word[-1] == \"!\""
   ]
  },
  {
   "cell_type": "code",
   "execution_count": null,
   "metadata": {},
   "outputs": [],
   "source": [
    "print(is_angry(\"Så fin du er!\")) # False\n",
    "print(is_angry(\"Så fin du er\")) # False\n",
    "print(is_angry(\"SÅ FIN DU ER!\")) # True\n",
    "print(is_angry(\"SÅ FIN DU ER\")) # False"
   ]
  },
  {
   "cell_type": "markdown",
   "metadata": {},
   "source": [
    "### Oppgave 7\n",
    "\n",
    "Lag en funksjon som tar inn en liste med strenger og som returnerer en sammensatt streng bestående av strengene i listen som inneholder vokaler\n",
    "\n",
    "**Hint:**\n",
    " - Bruk `contains_vocals(streng)` fra oppgave 5B"
   ]
  },
  {
   "cell_type": "code",
   "execution_count": null,
   "metadata": {},
   "outputs": [],
   "source": [
    "def concat_vocal_strings(strings):\n",
    "    result = \"\"\n",
    "\n",
    "    for string in strings:\n",
    "        if contains_vocals(string):\n",
    "            result += string\n",
    "\n",
    "    return result\n",
    "\n",
    "tmp = [\"hei\", \"på\", \"deg\"]\n",
    "print(concat_vocal_strings(tmp))"
   ]
  },
  {
   "cell_type": "markdown",
   "metadata": {},
   "source": [
    "### Oppgave 8\n",
    "\n",
    " - Lag en funksjon som tar inn en streng og som returnerer en liste med alle ord i strengen\n",
    " - Listen skal kun inneholde ord uten mellomrom og andre ikke-alfabetiske tegn"
   ]
  },
  {
   "cell_type": "code",
   "execution_count": null,
   "metadata": {},
   "outputs": [],
   "source": [
    "def get_words(streng):\n",
    "    return streng.split() # Splitter strengen på mellomrom\n",
    "\n",
    "print(get_words(\"Dette er en setning!\"))"
   ]
  },
  {
   "cell_type": "markdown",
   "metadata": {},
   "source": [
    "## Eksamensoppgave\n",
    "\n",
    "Kontinuasjonseksamen, august 2020 | Oppgave 2"
   ]
  },
  {
   "cell_type": "markdown",
   "metadata": {},
   "source": [
    "### K2020, Oppgave 2.1\n",
    "\n",
    "Lag funksjonen `home_draw_away(matches)` som har en input-parameter `matches` som er en liste som inneholder informasjon om fotballkamper i siste runde ble hjemmeseier (`\"H\"`), uavgjort (`\"U\"`) eller borteseier (`\"B\"`).\n",
    "Funksjonen skal returnere ei liste med 3 tall, der det første tallet er antallet hjemmeseire, det andre tallet er antallet uavgjort, og det siste tallet er antallet borteseiere. Funksjonen skal fungere på lister av ulik lengde, skal fungere for stor og liten bokstav for H, U og B, samt at den skal ignorere resultat som ikke er H, U, eller B.\n",
    "\n",
    "Eksempel på kjøring av kode:\n",
    "```\n",
    ">>> matches = ('H', 'u', 'B', 'h', 'b', 'H', 'U', 'H', 'h', 'B', 'H', 'U', 'x', 'h', 'U')\n",
    ">>> res = home_draw_away(matches)\n",
    ">>> print(res)\n",
    "[7, 4, 3]\n",
    "```"
   ]
  },
  {
   "cell_type": "code",
   "execution_count": null,
   "metadata": {},
   "outputs": [],
   "source": [
    "def home_draw_away(matches):\n",
    "    result = [0] * 3 # Oppretter en liste med 3 0 i seg\n",
    "    # Kan også skrive result = [0, 0, 0], men om vi har mange verdier kan det bli langt\n",
    "\n",
    "    for match in matches:\n",
    "        match = match.upper() # Sørg for at alle bokstavene er store\n",
    "\n",
    "        if match == \"H\":\n",
    "            result[0] += 1 # Legg til 1 på det første tallet i listen\n",
    "        elif match == \"U\":\n",
    "            result[1] += 1\n",
    "        elif match == \"B\":\n",
    "            result[2] += 1\n",
    "    \n",
    "    return result\n",
    "\n",
    "matches = ('H', 'u', 'B', 'h', 'b', 'H', 'U', 'H', 'h', 'B', 'H', 'U', 'x', 'h', 'U')\n",
    "res = home_draw_away(matches)\n",
    "print(res)"
   ]
  },
  {
   "cell_type": "markdown",
   "metadata": {},
   "source": [
    "### K2020, Oppgave 2.2\n",
    "\n",
    "Lag funksjon `pos_vocals(text)` som tar inn en parameter `text` som er en tekststreng og returnerer posisjonen til alle norske vokaler i strengen text som ei liste. Funksjonen skal fungere for vokaler skrevet med stor og liten bokstav.\n",
    "\n",
    "Eksempel på kjøring av kode: \n",
    "```\n",
    ">>> test = \"DettE er et eksempel pÅ lAng liste med vokaler\"\n",
    ">>> pos = pos_vocals(test)\n",
    ">>> print(pos)\n",
    "[1, 4, 6, 7, 12, 15, 18, 22, 25, 30, 33, 36, 40, 42, 44] \n",
    "```"
   ]
  },
  {
   "cell_type": "code",
   "execution_count": null,
   "metadata": {},
   "outputs": [],
   "source": [
    "# Benytter is_vocal funksjonen vår fra tidligere!\n",
    "\n",
    "def pos_vocals(text):\n",
    "    positions = []\n",
    "\n",
    "    for i in range(len(text)):\n",
    "        if is_vocal(text[i]):\n",
    "            positions.append(i)\n",
    "    \n",
    "    return positions\n",
    "\n",
    "test = \"DettE er et eksempel pÅ lAng liste med vokaler\"\n",
    "pos = pos_vocals(test)\n",
    "print(pos)"
   ]
  },
  {
   "cell_type": "markdown",
   "metadata": {},
   "source": [
    "### Kode 2020, Oppgave 2.3\n",
    "\n",
    "Lag funksjon uniqe(text) som har en inn-parameter text som er en tekststreng.\n",
    "\n",
    "Funksjonen skal returnere en liste med alle unike ord i teksten skrevet med små bokstaver. Rekkefølgen ordene i lista har er ikke bestemt. Merk at funksjonen skal returnere kun ord og tegn som man typisk har i en setning skal fjernes. Man kan anta at tekstrengen starter med en bokstav, at ordene er adskilt med mellomrom, at man ikke har tegn inne i et ord, og at man ikke har flere enn et tegn etter hverandre.\n",
    "\n",
    "Eksempel på kjøring av kode:\n",
    "```\n",
    ">>> test = \"Er dette greit, eller er det IKKE greit? Det er greit tror jeg!\"\n",
    ">>> words = unique(test)\n",
    ">>> print(words)\n",
    "['er', 'dette', 'greit', 'eller', 'det', 'ikke', 'tror', 'jeg']\n",
    "```"
   ]
  },
  {
   "cell_type": "code",
   "execution_count": 34,
   "metadata": {},
   "outputs": [
    {
     "name": "stdout",
     "output_type": "stream",
     "text": [
      "['er', 'dette', 'greit', 'eller', 'det', 'ikke', 'tror', 'jeg']\n"
     ]
    }
   ],
   "source": [
    "TYPICAL_SYMBOLS = \".,:;!?-\" # Vi kan legge til flere symboler her, men dette er de mest vanlige å ha i en setning\n",
    "\n",
    "def unique(text):\n",
    "    text = text.lower() # Gjør om teksten til små bokstaver siden dette er det vi skal returnere\n",
    "    for symbol in TYPICAL_SYMBOLS:\n",
    "        text = text.replace(symbol, \"\") # Fjerner alle symbolene fra teksten\n",
    "    \n",
    "    result = []\n",
    "    words = text.split() # Splitter teksten på mellomrom\n",
    "\n",
    "    for word in words:\n",
    "        if word not in result: # Sjekker om dette ordet er lagt til tidligere\n",
    "            result.append(word) # Hvis ikke, legg det til i resultat-listen\n",
    "    \n",
    "    return result\n",
    "\n",
    "test = \"Er dette greit, eller er det IKKE greit? Det er greit tror jeg!\"\n",
    "words = unique(test)\n",
    "print(words)\n"
   ]
  }
 ],
 "metadata": {
  "kernelspec": {
   "display_name": "Python 3.10.7 64-bit",
   "language": "python",
   "name": "python3"
  },
  "language_info": {
   "codemirror_mode": {
    "name": "ipython",
    "version": 3
   },
   "file_extension": ".py",
   "mimetype": "text/x-python",
   "name": "python",
   "nbconvert_exporter": "python",
   "pygments_lexer": "ipython3",
   "version": "3.10.7"
  },
  "orig_nbformat": 4,
  "vscode": {
   "interpreter": {
    "hash": "b0fa6594d8f4cbf19f97940f81e996739fb7646882a419484c72d19e05852a7e"
   }
  }
 },
 "nbformat": 4,
 "nbformat_minor": 2
}
