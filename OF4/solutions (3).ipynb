{
 "cells": [
  {
   "cell_type": "markdown",
   "metadata": {},
   "source": [
    "# Øvingsforelesning 4 - ITGK\n",
    "\n",
    "### Funksjoner/insperaøving\n",
    "\n",
    "Husk at hvis du skal bruke en funksjon definert i en annen celle må den cellen kjøres først!"
   ]
  },
  {
   "cell_type": "markdown",
   "metadata": {},
   "source": [
    "## Repetisjonsoppgave"
   ]
  },
  {
   "cell_type": "markdown",
   "metadata": {},
   "source": [
    "### Lag et program som gjør følgende:\n",
    "* Tar inn et heltall max_rand_int fra brukeren\n",
    "* Tar inn et heltall target fra brukeren\n",
    "* Genererer tilfeldige tall mellom 0 og max_rand_int, helt til det genererer target\n",
    "* Printer hvert genererte tall"
   ]
  },
  {
   "cell_type": "code",
   "execution_count": null,
   "metadata": {},
   "outputs": [],
   "source": [
    "from random import randint \n",
    "\n",
    "max_rand_int = int(input(\"Skriv inn maks: \"))\n",
    "target = int(input(\"Skriv inn målet: \"))\n",
    "\n",
    "generated = randint(0, max_rand_int)\n",
    "print(generated)\n",
    "\n",
    "while generated != target:\n",
    "    generated = randint(0, max_rand_int)\n",
    "    print(generated)"
   ]
  },
  {
   "cell_type": "markdown",
   "metadata": {},
   "source": [
    "## Oppgave 1"
   ]
  },
  {
   "cell_type": "markdown",
   "metadata": {},
   "source": [
    "*Matematiske funksjoner i Python*"
   ]
  },
  {
   "cell_type": "markdown",
   "metadata": {},
   "source": [
    "Lag en funksjon som gjør følgende:\n",
    "1. Tar inn parameter x\n",
    "2. Utfører operasjoner som svarer til den matematiske funksjonen\n",
    "$$f(x) = x^2 + 2x -3 $$\n",
    "3. __returnerer__ svaret\n",
    "\n",
    "<br>"
   ]
  },
  {
   "cell_type": "code",
   "execution_count": 1,
   "metadata": {
    "tags": []
   },
   "outputs": [
    {
     "name": "stdout",
     "output_type": "stream",
     "text": [
      "-3\n",
      "-4\n",
      "-3\n",
      "0\n",
      "5\n",
      "12\n",
      "21\n",
      "32\n",
      "45\n",
      "60\n"
     ]
    }
   ],
   "source": [
    "def f(x):\n",
    "    y = x ** 2 - 2 * x - 3\n",
    "    return y\n",
    "\n",
    "# Her kan vi raskt evaluere funksjonen for mange ulike verdier\n",
    "for i in range(10):\n",
    "    print(f(i))"
   ]
  },
  {
   "cell_type": "markdown",
   "metadata": {},
   "source": [
    "## Oppgave 2\n",
    "\n",
    "Lag en funksjon som tar inn et parameter x og som returnerer absoluttverdien av x, uten å bruke innebygde funksjoner!\n",
    "\n",
    "Altså, implementer den matematiske funksjonen $$f(x) = |x| $$\n",
    "* f(1) = 1\n",
    "* f(-1) = 1\n",
    "* f(100) = 100\n",
    "* f(-100) = 100\n"
   ]
  },
  {
   "cell_type": "code",
   "execution_count": null,
   "metadata": {},
   "outputs": [],
   "source": [
    "def absoluttverdi(x):\n",
    "    if x >= 0:\n",
    "        verdi = x\n",
    "    else:\n",
    "        verdi = -x\n",
    "    return verdi\n",
    "\n",
    "print(absoluttverdi(1))\n",
    "print(absoluttverdi(-1))\n",
    "print(absoluttverdi(100))\n",
    "print(absoluttverdi(-100))"
   ]
  },
  {
   "cell_type": "markdown",
   "metadata": {},
   "source": [
    "## Oppgave 3"
   ]
  },
  {
   "cell_type": "markdown",
   "metadata": {},
   "source": [
    "*Du ønsker å fremstå sint på et diskusjonsforum på nett, uten den ekstra jobben det er å trykke på Caps Lock*"
   ]
  },
  {
   "cell_type": "markdown",
   "metadata": {},
   "source": [
    "Lag en funksjon som ber om input fra bruker, og skriver ut det den får i **STORE BOKSTAVER** med et utropstegn på slutten! <br>\n",
    "\n",
    "Hint:\n",
    " - [str.upper()](https://docs.python.org/3/library/stdtypes.html#str.upper)\n",
    "\n",
    "Ekstraoppgave:\n",
    " - Endre programmet til å returnere strengen i stedenfor å printe den ut"
   ]
  },
  {
   "cell_type": "code",
   "execution_count": null,
   "metadata": {
    "collapsed": true,
    "jupyter": {
     "outputs_hidden": true
    }
   },
   "outputs": [],
   "source": [
    "def sintify(sentence):\n",
    "    sentence = sentence.upper()\n",
    "    return sentence\n",
    "\n",
    "sentence = input(\"Skriv inn en ikke så veldig sint setning: \")\n",
    "sentence = sintify(sentence)\n",
    "print(sentence)"
   ]
  },
  {
   "cell_type": "markdown",
   "metadata": {},
   "source": [
    "## Oppgave 4\n",
    "\n",
    "Lag en funksjon som tar inn to parametre - en setning (streng) og et tegn (streng) - og som returnerer en kopi av setningen med tegnet fjernet.\n",
    "\n",
    "__Hint:__\n",
    "```\n",
    "for hver karakter i strengen:\n",
    "\thvis karakteren ikke er lik tegnet vi leter etter:\n",
    "\t\t legg til karakteren i en variabel som holder den nye setningen\n",
    "```\n",
    "\n",
    "__Ekstraoppgave:__\n",
    "* Endre funksjonen slik at den returnerer antall tegn som er fjernet\n"
   ]
  },
  {
   "cell_type": "code",
   "execution_count": null,
   "metadata": {},
   "outputs": [],
   "source": [
    "def remove_symbol(sentence, symbol):\n",
    "    result = \"\"\n",
    "    \n",
    "    \"\"\"\n",
    "    Tankegangen her er at vi går gjennom hvert symbol i sentence, og \n",
    "    sjekker om det er likt symbolet vi ønsker å fjerne. Hvis ikke legger\n",
    "    vi det til i result, som fungerer som et buffer. F. eks. med\n",
    "\n",
    "    sentence = \"abc\" og symbol = \"b\"\n",
    "\n",
    "    character = \"a\"\n",
    "    character er ikke lik \"b\" => result = \"a\"\n",
    "\n",
    "    character = \"b\"\n",
    "    character er lik \"b\" => vi oppdaterer ikke resultat\n",
    "\n",
    "    character = \"c\"\n",
    "    character er ikke lik \"b\" => result = \"ac\"\n",
    "    \"\"\"\n",
    "\n",
    "    for character in sentence:\n",
    "        if character != symbol:\n",
    "            result = result + character\n",
    "    \n",
    "    return result\n",
    "\n",
    "print(remove_symbol(\"Hello this is a sentence\", \" \"))\n",
    "print(remove_symbol(\"Hello this is sentence\", \"s\"))\n",
    "print(remove_symbol(\"Hello this is sentence\", \"i\"))\n",
    "print(remove_symbol(\"Hello this is also sentence\", \"a\"))\n",
    "# Python har en innebygd funksjon som gjør noe lignende.\n",
    "print(\"Hello this is a sentence\".replace(\" \", \"\"))\n",
    "# Her kan vi også velge å bytte ut med et annet tegn\n",
    "print(\"Hello this is a sentence\".replace(\" \", \"_\"))"
   ]
  },
  {
   "cell_type": "markdown",
   "metadata": {},
   "source": [
    "## Oppgave 5"
   ]
  },
  {
   "cell_type": "markdown",
   "metadata": {},
   "source": [
    "*Du ønsker å vite om strenger er like, uavhengig av store og små bokstaver*"
   ]
  },
  {
   "cell_type": "markdown",
   "metadata": {},
   "source": [
    "Lag en funksjon som tar inn to strenger og returnerer `True` dersom de er like uavhengig av store og små bokstaver, og `False` ellers\n",
    "\n",
    "Hint:\n",
    " - [str.lower()](https://docs.python.org/3/library/stdtypes.html#str.lower)\n",
    " - [str.upper()](https://docs.python.org/3/library/stdtypes.html#str.upper)\n"
   ]
  },
  {
   "cell_type": "code",
   "execution_count": null,
   "metadata": {
    "collapsed": true,
    "jupyter": {
     "outputs_hidden": true
    }
   },
   "outputs": [],
   "source": [
    "def equals_ignore_case(str1, str2):\n",
    "    str1_lower = str1.lower()\n",
    "    str2_lower = str2.lower()\n",
    "    return str1_lower == str2_lower\n",
    "\n",
    "print(equals_ignore_case(\"hEi jEg liKER ITGK\", \"hei jeg L1KER itgk\"))"
   ]
  },
  {
   "cell_type": "markdown",
   "metadata": {},
   "source": [
    "## Oppgave 6"
   ]
  },
  {
   "cell_type": "markdown",
   "metadata": {},
   "source": [
    "*Forsikring av input-type*"
   ]
  },
  {
   "cell_type": "markdown",
   "metadata": {},
   "source": [
    "* Lag en funksjon som spør bruker om et heltall, og spør igjen dersom brukeren ikke skriver inn et heltall\n",
    "* Når brukeren har skrevet inn et heltall, skal funksjonen skal returnere tallet \n",
    "\n",
    "Hint: \n",
    " - [str.isdigit()](https://docs.python.org/3/library/stdtypes.html#str.isdigit) sjekker om en streng kun inneholder tall \n"
   ]
  },
  {
   "cell_type": "code",
   "execution_count": null,
   "metadata": {
    "collapsed": true,
    "jupyter": {
     "outputs_hidden": true
    }
   },
   "outputs": [],
   "source": [
    "def int_input():\n",
    "    value = input(\"Skriv inn et heltall: \")\n",
    "\n",
    "    # Hvis value ikke er et positivt tall så vil value.isdigit() være False,\n",
    "    # og vi går inn i løkken\n",
    "    while not value.isdigit():\n",
    "        # Her ber vi om nytt input fra brukeren, men det skjer kun så lenge\n",
    "        # value ikke er et tall\n",
    "        value = input(\"Ikke et tall! Prøv på nytt: \")\n",
    "    \n",
    "    return int(value)\n",
    "\n",
    "\n",
    "print(int_input())"
   ]
  },
  {
   "cell_type": "markdown",
   "metadata": {},
   "source": [
    "#### Med custom \"prompt\""
   ]
  },
  {
   "cell_type": "code",
   "execution_count": null,
   "metadata": {},
   "outputs": [],
   "source": [
    "def int_input_prompt(prompt):\n",
    "    value = input(prompt)\n",
    "\n",
    "    while not value.isdigit():\n",
    "        value = input(\"Ikke et tall! Prøv på nytt: \")\n",
    "    \n",
    "    return int(value)\n",
    "\n",
    "\n",
    "print(int_input_prompt(\"Hvor gammel er du? \"))"
   ]
  },
  {
   "cell_type": "markdown",
   "metadata": {},
   "source": [
    "## Oppgave 7\n",
    "*Fakultetsfunksjon*\n",
    "* Skriv en funksjon som regner ut fakultetet til et tall og deretter returnerer svaret \n",
    "* Fakultetet er gitt ved \n",
    "$$x! = x*(x-1)*(x-2)*...*3*2*1$$"
   ]
  },
  {
   "cell_type": "code",
   "execution_count": null,
   "metadata": {
    "collapsed": true,
    "jupyter": {
     "outputs_hidden": true
    }
   },
   "outputs": [],
   "source": [
    "# Denne håndterer ikke grunntilfellet x = 0 som skal gi 1. \n",
    "# Det får dere finne ut av på egenhånd :)\n",
    "def factorial(x):\n",
    "    result = 1\n",
    "\n",
    "    for i in range(2, x + 1):\n",
    "        result = result * i\n",
    "    \n",
    "    return result\n",
    "\n",
    "print(factorial(3))"
   ]
  },
  {
   "cell_type": "markdown",
   "metadata": {},
   "source": [
    "## Oppgave 8 - Terningspill \n",
    "### Del 1\n",
    "*Vi skal lage et enkelt terningspill. I spillet trenger vi mulighet til å trille en terning*"
   ]
  },
  {
   "cell_type": "markdown",
   "metadata": {},
   "source": [
    "* Lag en funksjon som triller en terning, dvs. returnerer et tall fra og med 1 til og med 6\n",
    "\n",
    "Hint: \n",
    "```python\n",
    "import random\n",
    "num = random.randint(1, 6)\n",
    "```"
   ]
  },
  {
   "cell_type": "code",
   "execution_count": null,
   "metadata": {
    "collapsed": true,
    "jupyter": {
     "outputs_hidden": true
    }
   },
   "outputs": [],
   "source": [
    "from random import randint\n",
    "\n",
    "def roll_dice():\n",
    "    return randint(1, 6)"
   ]
  },
  {
   "cell_type": "markdown",
   "metadata": {},
   "source": [
    "#### Trill noen terninger"
   ]
  },
  {
   "cell_type": "code",
   "execution_count": null,
   "metadata": {},
   "outputs": [],
   "source": [
    "for i in range(10):\n",
    "    print(roll_dice())"
   ]
  },
  {
   "cell_type": "markdown",
   "metadata": {},
   "source": [
    "###  Del 2\n",
    "*En runde i spillet består av at spilleren gjetter hvor mye hen til sammen kommer til å trille, før 6 terninger trilles. Hvis hen gjettet riktig, får hen 3 poeng. Hvis hen var innenfor 5 fra riktig verdi, får hen 1 poeng.*\n",
    "\n",
    "* Lag en funksjon for å beregne poeng gitt spilleren, basert på spillerens gjett og verdien til de trillede terningene. \n",
    "\n",
    "* Lag så en funksjon for en runde, som spør spilleren om å gjette, triller terninger, og returnerer poengsummen for den runden. \n"
   ]
  },
  {
   "cell_type": "code",
   "execution_count": null,
   "metadata": {
    "collapsed": true,
    "jupyter": {
     "outputs_hidden": true
    }
   },
   "outputs": [],
   "source": [
    "def calculate_score(guess, total):\n",
    "    if guess == total:\n",
    "        return 3\n",
    "    elif abs(guess - total) <= 5:\n",
    "        return 1\n",
    "    else:\n",
    "        return 0\n",
    "\n",
    "def play_round():\n",
    "    # Her gjenbruker vi funksjonen vi lagde tidligere og har dermed\n",
    "    # inputvalidering!\n",
    "    guess = int_input_prompt(\"Gjett et tall: \")\n",
    "\n",
    "    die_sum = 0\n",
    "\n",
    "    print(\"Triller terninger...\")\n",
    "\n",
    "    # Trill 6 terninger\n",
    "    for i in range(6):\n",
    "        dice = roll_dice()\n",
    "        die_sum += dice\n",
    "        print(f\"{dice} \", end=\"\")\n",
    "\n",
    "    print(f\"=> {die_sum}\")\n",
    "    \n",
    "    score = calculate_score(guess, die_sum)\n",
    "    print(f\"Poeng: {score} poeng\")\n",
    "    return score"
   ]
  },
  {
   "cell_type": "code",
   "execution_count": null,
   "metadata": {},
   "outputs": [],
   "source": [
    "play_round()"
   ]
  },
  {
   "cell_type": "markdown",
   "metadata": {},
   "source": [
    "### Del 3\n",
    "*Til slutt vil vi ha mulighet til å spille hele spillet*\n",
    "\n",
    "* Husk: main() kaller de andre funksjonene og står for kommunikasjon med bruker\n",
    "\n",
    "* Spør spilleren først hvor mange runder h*n vil spille, og kjør så gjennom `<antall>` mange runder. Hold kontroll på poengsummen til brukeren, og skriv den ut til slutt. \n",
    "\n",
    "Ekstraoppgave:\n",
    "* Utvid spillet til å være for to spillere \n"
   ]
  },
  {
   "cell_type": "code",
   "execution_count": null,
   "metadata": {
    "collapsed": true,
    "jupyter": {
     "outputs_hidden": true
    }
   },
   "outputs": [],
   "source": [
    "def main():\n",
    "    # Her og kan vi gjenbruke funksjonen vår!\n",
    "    rounds = int_input_prompt(\"Hvor mange runder vil du spille? \")\n",
    "\n",
    "    total_score = 0\n",
    "\n",
    "    for i in range(rounds):\n",
    "        total_score += play_round()\n",
    "    \n",
    "    print(f\"Total poengsum: {total_score}\")\n",
    "\n",
    "main()"
   ]
  },
  {
   "cell_type": "markdown",
   "metadata": {},
   "source": [
    "## Oppgave 9 \n",
    "### Del 1\n",
    "\n",
    "Lag en funksjon omkrets som gjør følgende:\n",
    "* Tar inn et tall radius som parameter\n",
    "* Returnerer omkretsen til en sirkel med radius `<radius>`\n",
    "\n",
    "Lag en funksjon areal som gjør følgende:\n",
    "* Tar inn et tall radius som parameter\n",
    "* Returnerer omkretsen til en sirkel med areal `<radius>`"
   ]
  },
  {
   "cell_type": "code",
   "execution_count": null,
   "metadata": {
    "collapsed": true,
    "jupyter": {
     "outputs_hidden": true
    }
   },
   "outputs": [],
   "source": [
    "def omkrets(radius):\n",
    "    return 2 * 3.14 * radius\n",
    "\n",
    "\n",
    "def areal(radius):\n",
    "    return 3.14 * radius ** 2"
   ]
  },
  {
   "cell_type": "markdown",
   "metadata": {},
   "source": [
    "### Del 2\n",
    "Lag en main()-funksjon som gjør følgende:\n",
    "1. Tar inn en radius fra bruker\n",
    "2. Regner ut omkretsen av en sirkel med radius `<radius>`\n",
    "3. Regner ut arealet av en sirkel med radius `<radius>`\n",
    "4. Skriver ut resultatet fra del (2) og (3)\n"
   ]
  },
  {
   "cell_type": "code",
   "execution_count": null,
   "metadata": {
    "collapsed": true,
    "jupyter": {
     "outputs_hidden": true
    }
   },
   "outputs": [],
   "source": [
    "def main():\n",
    "    # Her med input som heltall. Kunne vært flyttall også\n",
    "    radius = int_input_prompt(\"Skriv inn radius: \")\n",
    "\n",
    "    print(f\"Omkrets: {omkrets(radius)}\")\n",
    "    print(f\"Areal: {areal(radius)}\")"
   ]
  },
  {
   "cell_type": "markdown",
   "metadata": {},
   "source": [
    "## Oppgave 10"
   ]
  },
  {
   "cell_type": "markdown",
   "metadata": {},
   "source": [
    "* Skriv en funksjon som tar inn et heltall, og returnerer True hvis tallet er et primtall, ellers False\n",
    "\n",
    "* Husk: Et tall er et primtall hvis det ikke er delelig på noen andre tall enn seg selv og 1\n"
   ]
  },
  {
   "cell_type": "code",
   "execution_count": null,
   "metadata": {},
   "outputs": [],
   "source": [
    "def is_prime(num):\n",
    "    # Vi sjekker om num er delelig på alle tall fra 2 til num - 1\n",
    "    for i in range(2, num):\n",
    "        if num % i == 0:\n",
    "            return False\n",
    "    return True"
   ]
  },
  {
   "cell_type": "code",
   "execution_count": null,
   "metadata": {},
   "outputs": [],
   "source": [
    "for i in range(11):\n",
    "    print(f\"{i}: {is_prime(i)}\")"
   ]
  },
  {
   "cell_type": "markdown",
   "metadata": {},
   "source": [
    "#### Raskere versjon som utnytter litt matte"
   ]
  },
  {
   "cell_type": "code",
   "execution_count": null,
   "metadata": {},
   "outputs": [],
   "source": [
    "def is_prime_fast(num):\n",
    "    # Grunntilfelle. 2 er eneste primtall som er et partall\n",
    "    if num > 2 and num % 2 == 0:\n",
    "        return False\n",
    "    # Vi sjekker alle oddetall fra 3 til sqrt(num) + 1. Vi trenger ikke sjekke\n",
    "    # høyere enn dette, fordi hvis num er delelig på et tall større enn sqrt(num)\n",
    "    # så er det også delelig på et tall mindre enn sqrt(num) siden sqrt(num) ** 2 = num\n",
    "    for i in range(3, int(num ** 0.5) + 1, 2):\n",
    "        if num % i == 0:\n",
    "            return False\n",
    "    return True"
   ]
  },
  {
   "cell_type": "code",
   "execution_count": null,
   "metadata": {},
   "outputs": [],
   "source": [
    "for i in range(11):\n",
    "    print(f\"{i}: {is_prime_fast(i)}\")"
   ]
  }
 ],
 "metadata": {
  "kernelspec": {
   "display_name": "Python 3 (ipykernel)",
   "language": "python",
   "name": "python3"
  },
  "language_info": {
   "codemirror_mode": {
    "name": "ipython",
    "version": 3
   },
   "file_extension": ".py",
   "mimetype": "text/x-python",
   "name": "python",
   "nbconvert_exporter": "python",
   "pygments_lexer": "ipython3",
   "version": "3.9.7"
  },
  "vscode": {
   "interpreter": {
    "hash": "b0fa6594d8f4cbf19f97940f81e996739fb7646882a419484c72d19e05852a7e"
   }
  }
 },
 "nbformat": 4,
 "nbformat_minor": 4
}
