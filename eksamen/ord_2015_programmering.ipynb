{
 "cells": [
  {
   "cell_type": "markdown",
   "metadata": {
    "deletable": false,
    "editable": false,
    "run_control": {
     "frozen": true
    }
   },
   "source": [
    "# Eksamen 2015 Programmering\n",
    "**Merk at teori og kodeforståelse ikke er med her.**\n",
    "\n",
    "Hele eksamen ligger på BlackBoard. Her ligger også funksjoner som var vedlagt oppgaven, som kan være nyttig å bruke mens du arbeider med oppgavene under."
   ]
  },
  {
   "cell_type": "markdown",
   "metadata": {
    "deletable": false,
    "editable": false,
    "run_control": {
     "frozen": true
    }
   },
   "source": [
    "## *Oppgave 3 Programmering reisetid (20%)*\n",
    "\n",
    "Skriv funksjonene slik at du kan gjenbruke dem. Hvis du ikke klarer å løse en oppgave kan du likevel gjenbruke funksjoner fra den oppgaven i en senere oppgave.\n",
    "\n",
    "## Oppgave 3a (5%)\n",
    "\n",
    "Lag funksjonen **readTime** (ingen input-parametere) som spør brukeren om å skrive inn et klokkeslett med time, minutt og sekund angitt separat som angitt i eksemplet under. Funksjonen skal sørge for at brukeren skriver inn et korrekt klokkeslett (man kan anta at bruker skriver inn et tall og ikke bokstaver). Den skal gi feilmelding ved feil brukerinput og spørre brukeren å oppgi time, minutt eller sekund på nytt hvis tallet ikke er korrekt. Funksjonen skal returnere en liste med tre elementer [hour, minute, sec].\n",
    "\n",
    "Eksempel på kjøring og på hva som skal skrives ut til skjerm (brukerinput er vist med understrekning og fet skrift):\n",
    "\n",
    "<img src=\"img/3a_ex.png\" width=\"700px\" align=\"left\">"
   ]
  },
  {
   "cell_type": "code",
   "execution_count": 1,
   "metadata": {},
   "outputs": [],
   "source": [
    "def readValidInt(unit,low,high):\n",
    "  number=int(input('Enter'+unit.lower()+':'))\n",
    "  while number<low or number>high:\n",
    "    print('-ERROR:',unit,'mustbebetween',low,'and',high,'!')\n",
    "    number=int(input('Enter'+unit.lower()+':'))\n",
    "  return number \n",
    "\n",
    "def readTime():\n",
    "  hour=readValidInt('Hour',0,23)\n",
    "  minute=readValidInt('Minute',0,59)\n",
    "  sec=readValidInt('Second',0,59)\n",
    "  return[hour,minute,sec]"
   ]
  },
  {
   "cell_type": "markdown",
   "metadata": {
    "deletable": false,
    "editable": false,
    "run_control": {
     "frozen": true
    }
   },
   "source": [
    "## Oppgave 3b (5%)\n",
    "\n",
    "Lag funksjonen **convertTime** som tar inn to parametere **time** og **mode**. Parameteren **mode** kan ha to verdier: ’time’ eller ’sec’. Hvis mode har verdien ’time’, skal funksjonen konvertere tid angitt i sekunder til tid angitt som en liste på formatet [hour, min, sec] og returnere dette. Hvis mode har verdien ’sec’, skal funksjonen returnere antall sekunder en liste på formatet [hour, min, sec] tilsvarer. Parameteren **time** kan altså både være et heltall og en liste med heltall avhengig av verdien a **mode**.\n",
    "\n",
    "Eksempel på kjøring:\n",
    "\n",
    "<img src=\"img/3b_ex.png\" width=\"700px\" align=\"left\">"
   ]
  },
  {
   "cell_type": "code",
   "execution_count": 2,
   "metadata": {},
   "outputs": [],
   "source": [
    "def convertTime(time,mode):\n",
    "  if mode=='time':\n",
    "    hour=time//3600\n",
    "    time=time-(hour*3600)\n",
    "    minute=time//60\n",
    "    time=time-(minute*60)\n",
    "    sec=time\n",
    "    return[hour,minute,sec]\n",
    "  elif mode=='sec':\n",
    "    return(time[0]*3600+time[1]*60+time[2])"
   ]
  },
  {
   "cell_type": "markdown",
   "metadata": {
    "deletable": false,
    "editable": false,
    "run_control": {
     "frozen": true
    }
   },
   "source": [
    "## Oppgave 3c (5%)\n",
    "\n",
    "Lag funksjonen **travelTime** som hverken har input parametere eller returnerer noe. Funksjonen skal først spørre brukeren om et starttidspunkt og deretter et sluttidspunkt for en reise. Funksjonen skal sørge for at det blir lagt inn gyldige tidspunkt. Hvis brukeren prøver å legge inn et sluttidspunkt som er tidligere enn starttidspunktet, skal funksjonen skrive følgende feilmelding:\n",
    "*”- ERROR: Arrival time must be later than Departure time”*, samt spørre brukeren om et nytt sluttidspunkt. Funksjonen trenger ikke å ta hensyn til reiser som varer over midnatt. Funksjonen skal ikke returnere noe, men skrive ut reisetid angitt i timer, minutter og sekunder som vist under.\n",
    "\n",
    "Eksempel på kjøring (bruker-input er vist med understrekning og fet font):\n",
    "\n",
    "<img src=\"img/3c_ex.png\" width=\"700px\" align=\"left\">"
   ]
  },
  {
   "cell_type": "code",
   "execution_count": 3,
   "metadata": {},
   "outputs": [],
   "source": [
    "def travelTime():\n",
    "  print(\"Givedeparturetimeinhour,minuteandsecond:\")\n",
    "  starttime=readTime()\n",
    "  stoptime=[0,0,0]\n",
    "  while(convertTime(starttime,'sec')>convertTime(stoptime,'sec')):\n",
    "    print(\"Givearrivaltimeinhour,minuteandsecond:\")\n",
    "    stoptime=readTime()\n",
    "    if(convertTime(starttime,'sec')>convertTime(stoptime,'sec')):\n",
    "      print(\"-ERROR:ArrivaltimemustbelaterthanDeparturetime\")\n",
    "  traveltime=convertTime(stoptime,'sec')-convertTime(starttime,'sec')\n",
    "  travelTab=convertTime(traveltime,'time')\n",
    "  print('Traveltime:',travelTab[0],'hours,',travelTab[1],'min,',travelTab[2],'sec')"
   ]
  },
  {
   "cell_type": "markdown",
   "metadata": {
    "deletable": false,
    "editable": false,
    "run_control": {
     "frozen": true
    }
   },
   "source": [
    "## Oppgave 3d (5%)\n",
    "\n",
    "Lag funksjonen **analyzeBusRoutes** som tar inn en parameter **BusTables** som er en todimensjonal tabell av heltall der hver rekke inneholder følgende: nummer på bussrute, starttidspunkt (angitt med time, minutt) og sluttidspunkt (angitt med time, minutt). Funksjonen skal ikke returnere noe, men skal skrive ut til skjerm nummer og reisetid på bussruten som tar lengst tid, og nummer og reisetid på bussruten som tar kortest tid som vist i eksempel på kjøring under. Hvis det finnes flere bussruter med samme kjøretid, skal funksjonen skrive ut rutenummer på den første den finner.\n",
    "\n",
    "Hvis man kjører funksjonen med følgende opplysninger:\n",
    "- Buss nr. 1, Starttid 15:00, stopptid: 15:19\n",
    "- Buss nr. 3, Starttid 15:32, stopptid: 16:45\n",
    "- Buss nr. 4, starttid 15:45, stopptid: 16:23\n",
    "- Buss nr. 5, starttid 15:55, stopptid: 16:11 \n",
    "\n",
    "vil eksempel på kjøring bli som følger:\n",
    "\n",
    "<img src=\"img/3d_ex.png\" width=\"700px\" align=\"left\">"
   ]
  },
  {
   "cell_type": "code",
   "execution_count": 4,
   "metadata": {},
   "outputs": [],
   "source": [
    "def busTime(BusRoute):\n",
    "  return convertTime(BusRoute[3:5]+[0],'sec')-convertTime(BusRoute[1:3]+[0],'sec')\n",
    "\n",
    "def analyzeBusRoutes(BusTables):\n",
    "  slowestTimeSec=fastestTimeSec=busTime(BusTables[0])\n",
    "  slowestBus=fastestBus=BusTables[0][0]\n",
    "  for BusRoute in BusTables:\n",
    "    if busTime(BusRoute)>slowestTimeSec:\n",
    "      slowestTimeSec=busTime(BusRoute)\n",
    "      slowestBus=BusRoute[0]\n",
    "    elif busTime(BusRoute)<fastestTimeSec:\n",
    "      fastestTimeSec=busTime(BusRoute)\n",
    "      fastestBus=BusRoute[0]\n",
    "  slowestTime=convertTime(slowestTimeSec,'time')\n",
    "  fastestTime=convertTime(fastestTimeSec,'time')\n",
    "  print(\"Theslowestbusrouteisbusnr.\",slowestBus,'andittakes',slowestTime[0],'hour,',slowestTime[1],'min.')\n",
    "  print(\"Thefastestbusrouteisbusnr.\",fastestBus,'andittakes',fastestTime[0],'hour,',fastestTime[1],'min.')"
   ]
  },
  {
   "cell_type": "markdown",
   "metadata": {
    "deletable": false,
    "editable": false,
    "run_control": {
     "frozen": true
    }
   },
   "source": [
    "## *Oppgave 4 Programmering Sensur (40%)*\n",
    "\n",
    "Hvert år tar ca. 2000 studenter ITGK-eksamen, og mye tid går med til å sensurere og sette karakterer. Derfor er det bestemt at det skal programmeres et system som skal hjelpe til med dette. For å sikre at andre universiteter/fag også kan få nytte av programmet bør det gjøres en del generaliseringer.\n",
    "Du skal lage et system for registrere sensur av eksamen. Eksamen består vanligvis av fire oppgaver som hver teller 25%, 15%, 20% og 40% av karakteren. Den andre oppgaven har tre underoppgaver, den tredje har fire og den fjerde har åtte underoppgaver. Underoppgavene skal vektes slik at hver teller et bestemt antall prosent av hundre.\n",
    "Det er en fordel å gjenbruke tidligere del-oppgaver der det er mulig. Du kan anta at alle funksjonene mottar gyldige argumenter (inn-verdier), hvis ikke annet er oppgitt.\n",
    "\n",
    "## Oppgave 4 a) (5%)\n",
    "\n",
    "Lag starten på hovedprogrammet (ikke funksjon) som lagres i fila **grades.py**. Starten skal bare\n",
    "inneholde de konstantene som programmet trenger og ikke skrive ut noe til skjerm.\n",
    "\n",
    "Eksempel på kjøring av Python-programmet **grades** og hvilke verdier NTNU_scores, NTNU_letters, TASKS og WEIGHTS da vil ha etter kjøring:\n",
    "\n",
    "<img src=\"img/4a_ex.png\" width=\"700px\" align=\"left\">"
   ]
  },
  {
   "cell_type": "code",
   "execution_count": 16,
   "metadata": {},
   "outputs": [],
   "source": [
    "NTNU_scores = (89,77,65,53,41,0)\n",
    "NTNU_letters = ('A','B','C','D','E','F')\n",
    "TASKS = ('1','2a','2b','2c','3a','3b','3c','3d','4a','4b','4c','4d','4e','4f','4g','4h')\n",
    "WEIGHTS = tuple([25]+(15*[5]))"
   ]
  },
  {
   "cell_type": "markdown",
   "metadata": {
    "deletable": false,
    "editable": false,
    "run_control": {
     "frozen": true
    }
   },
   "source": [
    "## Oppgave 4 b) (5%)\n",
    "\n",
    "Lag funksjonen **makeArray** som har to inn-parametere (**Numbers** og **Texts**), der **Numbers** er en liste av tall, og **Texts** er en liste av tegn og/eller bokstaver (begge listene har samme lengde). Funksjonen skal returnere en to-dimensjonal tabell (lister i liste) som inneholder all informasjonen fra de to inn-parameterne som vist i eksemplet på kjøring under.\n",
    "\n",
    "Eksempel på kjøring av funksjonen og hva den skal returnere (med input fra Oppgave 4a) ):\n",
    "\n",
    "<img src=\"img/4b_ex.png\" width=\"700px\" align=\"left\">"
   ]
  },
  {
   "cell_type": "code",
   "execution_count": 5,
   "metadata": {},
   "outputs": [],
   "source": [
    "def makeArray(Numbers,Texts):\n",
    "  ReturnList=[]\n",
    "  for i in range(len(Numbers)):\n",
    "    ReturnList+= [[Numbers[i],Texts[i]]]\n",
    "  return ReturnList"
   ]
  },
  {
   "cell_type": "markdown",
   "metadata": {
    "deletable": false,
    "editable": false,
    "run_control": {
     "frozen": true
    }
   },
   "source": [
    "## Oppgave 4 c) (5%)\n",
    "\n",
    "Sensor retter eksamen og setter poeng på hver oppgave med en poengsum som går fra og med 0 til og med 10, der 0 er dårligst (0% score) mens 10 er best (100% score). Sensur av en eksamen består av en liste med ett tall for hver deloppgave, i samme rekkefølge som de kommer (dvs. 1,2a,2b, osv.)\n",
    "\n",
    "Lag funksjonen **computeScore** med inn-parameteren **Points** som er en liste med poengsummer for deloppgavene, og konstanten **WEIGHTS** fra Oppgave 4 a). Funksjonen skal regne ut en totalscore i prosent for en eksamen, basert på vektingen av oppgavene.\n",
    "\n",
    "Eksempel på kjøring av funksjonen og hva den returnerer:\n",
    "\n",
    "<img src=\"img/4c_ex.png\" width=\"700px\" align=\"left\">"
   ]
  },
  {
   "cell_type": "code",
   "execution_count": 6,
   "metadata": {},
   "outputs": [],
   "source": [
    "def computeScore(Points, WEIGHTS):\n",
    "  score=0 \n",
    "  for i in range(len(Points)):\n",
    "    score+=Points[i]*WEIGHTS[i]\n",
    "  return score/10"
   ]
  },
  {
   "cell_type": "markdown",
   "metadata": {
    "deletable": false,
    "editable": false,
    "run_control": {
     "frozen": true
    }
   },
   "source": [
    "## Oppgave 4 d) (5%)\n",
    "\n",
    "Skriv en funksjon **score2Letter** med to inn-parametere **scoreSum** (prosentvise total-poengsummen for en kandidat fra Oppgave 4 c) ) og **limitLetters**-tabellen fra Oppgave 4b).\n",
    "\n",
    "Funksjonen skal returnere den høyeste bokstavkarakteren som kandidaten har nok poeng til (uten avrunding). For eksempel vil 40.9 poeng gi F, mens 41.0 poeng gir E.\n",
    "\n",
    "Eksempel på kjøring av funksjonen og hva den returnerer:\n",
    "\n",
    "<img src=\"img/4d_ex.png\" width=\"700px\" align=\"left\">"
   ]
  },
  {
   "cell_type": "code",
   "execution_count": 7,
   "metadata": {},
   "outputs": [],
   "source": [
    "def score2Letter(scoreSum,limitLetters):\n",
    "  for item in limitLetters:\n",
    "    if scoreSum>item[0]:\n",
    "      return item[1]"
   ]
  },
  {
   "cell_type": "markdown",
   "metadata": {
    "deletable": false,
    "editable": false,
    "run_control": {
     "frozen": true
    }
   },
   "source": [
    "## Oppgave 4 e) (5%)\n",
    "\n",
    "Skriv en funksjon **addCandidate** som tar inn tre parametere: **candidateNumber**, **Scores** (en liste), og konstanten **WEIGHTS** fra Oppgave 4a). Funksjonen skal legge til følgende (adskilt med tabulator) som en linje på slutten av en fil med navn '**eksamen.txt**':\n",
    "\n",
    "**candidateNumber** kommer først på linjen, så alle del-poengsummene fra **Scores**, og til slutt den prosentvise scoren med én desimals nøyaktighet og et linjeskift. Dersom fila ikke finnes, skal den opprettes. Dersom den ikke kan opprettes skal funksjonen avsluttes med Python’s systemgenererte (default) feilmelding .\n",
    "\n",
    "Eksempel på kjøring av funksjonen og hva den returnerer:\n",
    "\n",
    "<img src=\"img/4e_ex.png\" width=\"700px\" align=\"left\">"
   ]
  },
  {
   "cell_type": "code",
   "execution_count": 8,
   "metadata": {},
   "outputs": [],
   "source": [
    "def addCandidate(candidateNumber,Scores,WEIGHTS):\n",
    "  scoreSum=computeScore(Scores,WEIGHTS)\n",
    "  try:\n",
    "    f = open('eksamen.txt','a')\n",
    "    s = str(candidateNumber)\n",
    "    for number in Scores:\n",
    "      s+=\"\\t\"+str(number)\n",
    "    s+=\"\\t\"+str(round(scoreSum,1))+\"\\n\"\n",
    "    f.write(s)\n",
    "    f.close()\n",
    "  except Exception as errorMessage:\n",
    "    print(errorMessage)"
   ]
  },
  {
   "cell_type": "markdown",
   "metadata": {
    "deletable": false,
    "editable": false,
    "run_control": {
     "frozen": true
    }
   },
   "source": [
    "## Oppgave 4 f) (5%)\n",
    "\n",
    "Skriv en funksjon **readResultFile** som har en inn-parameter **filename**. Funksjonen skal lese innholdet i fila med navn **filename** som er formatert som beskrevet i Oppgave 4 e) og legge innholdet i en to-dimensjonal tabell der hver rekke inneholder kandidatnummer, alle del-poengsummene og den prosentvise scoren. Kandidatnummer og del-poengsummene skal være av typen heltall, mens den prosentvise scoren skal være av typen flyttall. Funksjonen trenger ikke å håndtere feil som at filen ikke finnes eller filen ikke kan åpnes.\n",
    "\n",
    "\n",
    "Eksempel på kjøring med fila ”eksamen.txt” med innhold som i Oppgave 4e):\n",
    "\n",
    "<img src=\"img/4f_ex.png\" width=\"700px\" align=\"left\">"
   ]
  },
  {
   "cell_type": "code",
   "execution_count": 9,
   "metadata": {},
   "outputs": [],
   "source": [
    "def nummarizeTable(Table):\n",
    "  for i in range(len(Table)):\n",
    "    if(i<len(Table)-1):\n",
    "      Table[i]=int(Table[i])\n",
    "    else:\n",
    "      Table[i]=float(Table[i])               \n",
    "  return Table \n",
    "  \n",
    "def readResultFile(filename):\n",
    "  f = open(filename,'r')\n",
    "  results = []\n",
    "  for line in f:\n",
    "    line=line.strip()\n",
    "    listline = line.split('\\t')\n",
    "    listline=nummarizeTable(listline)\n",
    "    results+=[listline]\n",
    "  f.close()\n",
    "  return results"
   ]
  },
  {
   "cell_type": "markdown",
   "metadata": {
    "deletable": false,
    "editable": false,
    "run_control": {
     "frozen": true
    }
   },
   "source": [
    "## Oppgave 4 g) (5%)\n",
    "Skriv en funksjon **checkResultOK** som tar inn to parametere **filename** (navnet på fila med eksamensresultater som skal sjekkes) og **WEIGHTS** (fra Oppgave 4a) ). Funksjonen skal lese inn fila og returnerer **True** hvis følgende er oppfylt:\n",
    "\n",
    "- ingen kandidat er listet mer enn en gang i samme fil\n",
    "- ingen har fått mindre enn 0 poeng eller mer enn 10 poeng på noen oppgave\n",
    "- den prosentvise poengsummen for alle kandidatene er korrekt utregnet som i Oppgave 4c) over.\n",
    "\n",
    "Funksjonen skal skrive ut feilmeldinger hvis den finner feil.\n",
    "\n",
    "Eksempel på kjøring av funksjonen som viser hva den skriver ut og hva den returnerer (fil uten feil):\n",
    "\n",
    "<img src=\"img/4g_ex.png\" width=\"700px\" align=\"left\">"
   ]
  },
  {
   "cell_type": "code",
   "execution_count": 10,
   "metadata": {},
   "outputs": [],
   "source": [
    "def checkResultOK(filename, WEIGHTS):\n",
    "  allOK = Trueresults = readResultFile(filename)\n",
    "  count={}\n",
    "  for line in results:\n",
    "    if(max(line[1:-1])>10 or min(line[1:-1])<0):\n",
    "      print(\"ERROR: Candidate\",line[0],\"scores are not between 0-10!\")\n",
    "      allOK = False\n",
    "    if line[-1]!=computeScore(line[1:-1],WEIGHTS):\n",
    "      print(\"ERROR: Candidate\",line[0],\"has wrong total score!\")\n",
    "      allOK = False\n",
    "    count[line[0]]=count.get(line[0],0) +1\n",
    "  for key in count:\n",
    "    if count[key]>1:\n",
    "      print(\"ERROR: Candidate\",key,\"appears more than once!\")\n",
    "      allOK = False\n",
    "  return allOK"
   ]
  },
  {
   "cell_type": "markdown",
   "metadata": {
    "deletable": false,
    "editable": false,
    "run_control": {
     "frozen": true
    }
   },
   "source": [
    "## Oppgave 4 h) (5%)\n",
    "\n",
    "Skriv en funksjon **listAll** med inn-parametere **filename** og **limitLetters**. Funksjonen skal lese inn resultatene fra **filename** med samme formatet som i Oppgave 4e), og skrive ut en liste der hver linje inneholder femsifret kandidatnummer, prosentvis poengsum med ett siffers nøyaktighet og tilhørende bokstavkarakter etter reglene i Oppgave 4d). Kolonnene skal være justert vertikalt som vist her.\n",
    "\n",
    "<img src=\"img/4h_1_ex.png\" width=\"700px\" align=\"left\">"
   ]
  },
  {
   "cell_type": "markdown",
   "metadata": {
    "deletable": false,
    "editable": false,
    "run_control": {
     "frozen": true
    }
   },
   "source": [
    "Utskriften skal være sortert etter kandidatnummer i stigende rekkefølge. Funksjonens returverdi skal være antallet kandidater som ble skrevet ut.\n",
    "\n",
    "Eksempel på kjøring av funksjonen, hva den skriver ut, og hva den returnerer:\n",
    "\n",
    "<img src=\"img/4h_2_ex.png\" width=\"700px\" align=\"left\">"
   ]
  },
  {
   "cell_type": "code",
   "execution_count": 23,
   "metadata": {},
   "outputs": [],
   "source": [
    "def listAll(filename,limitLetters):\n",
    "  results = readResultFile(filename)\n",
    "  results.sort() # Sorterer etter kandidatnr\n",
    "  count = 0\n",
    "  for line in results:\n",
    "    grade = score2Letter(line[-1], limitLetters)\n",
    "    print(str(line[0]),str(round(line[-1],1)).rjust(5),grade)\n",
    "    count+=1\n",
    "  return count"
   ]
  }
 ],
 "metadata": {
  "kernelspec": {
   "display_name": "Python 3.10.0 ('.venv': venv)",
   "language": "python",
   "name": "python3"
  },
  "language_info": {
   "codemirror_mode": {
    "name": "ipython",
    "version": 3
   },
   "file_extension": ".py",
   "mimetype": "text/x-python",
   "name": "python",
   "nbconvert_exporter": "python",
   "pygments_lexer": "ipython3",
   "version": "3.10.0"
  },
  "vscode": {
   "interpreter": {
    "hash": "f4aba26d267655b48f503c42d1d85e548697804d81a01ab4c1b97aa9d4975a22"
   }
  }
 },
 "nbformat": 4,
 "nbformat_minor": 4
}
