{
 "cells": [
  {
   "cell_type": "markdown",
   "metadata": {
    "deletable": false,
    "editable": false,
    "run_control": {
     "frozen": true
    }
   },
   "source": [
    "# Eksamen kont 2019 Programmering\n",
    "**Merk at teori og kodeforståelse ikke er med her.**\n",
    "\n",
    "Hele eksamen ligger på BlackBoard. Her ligger også funksjoner som var vedlagt oppgaven, som kan være nyttig å bruke mens du arbeider med oppgavene under."
   ]
  },
  {
   "cell_type": "markdown",
   "metadata": {
    "deletable": false,
    "editable": false,
    "run_control": {
     "frozen": true
    }
   },
   "source": [
    "## Oppgave 3 - Programmering"
   ]
  },
  {
   "cell_type": "markdown",
   "metadata": {
    "deletable": false,
    "editable": false,
    "run_control": {
     "frozen": true
    }
   },
   "source": [
    "## Beskrivelse"
   ]
  },
  {
   "cell_type": "markdown",
   "metadata": {
    "deletable": false,
    "editable": false,
    "run_control": {
     "frozen": true
    }
   },
   "source": [
    "Bakgrunn\n",
    "\n",
    "Programmeringsoppgaven tar utgangspunkt i oppskrifter. Et sett med ingredienser til oppskrifter skal leses inn\n",
    "fra fil. Deretter skal du lage funksjoner for å finne oppskrifter med gitte ingredienser, og komme med forslag til\n",
    "en tilfeldig rett som inneholder disse.\n",
    "Et sett med navn på matretter og tilhørende ingredienser befinner seg i filen food.txt. Den har følgene struktur:\n",
    "(Det er ikke et ekstra linjeskift mellom hver rett.)\n",
    "\n",
    "Food.txt:"
   ]
  },
  {
   "cell_type": "markdown",
   "metadata": {
    "deletable": false,
    "editable": false,
    "run_control": {
     "frozen": true
    }
   },
   "source": [
    "<img src=\"img/beskrivelse.png\" width=\"700px\" align=\"left\">"
   ]
  },
  {
   "cell_type": "markdown",
   "metadata": {
    "deletable": false,
    "editable": false,
    "run_control": {
     "frozen": true
    }
   },
   "source": [
    "## Oppgave 3-1 (5%)\n",
    "\n",
    "Oppgave 3-1 Lesing fra fil: **read_file(filename):**\n",
    "\n",
    "Skriv funksjonen **_read_file(filename)_** som skal lese inn en fil, og returnere en liste. Hver linje i filen blir ett\n",
    "element i denne listen, slik som i eksempelet under:\n",
    "\n",
    "<img src=\"img/3-1_ex.png\" width=\"700px\" align=\"left\">"
   ]
  },
  {
   "cell_type": "code",
   "execution_count": 4,
   "metadata": {},
   "outputs": [
    {
     "name": "stdout",
     "output_type": "stream",
     "text": [
      "['pannekaker: egg, mel, salt, melk\\n', 'grandiosa: grandiosa\\n', 'paprikasaus: sjalottløk, hvitløk, olje, buljong, smør, salt, pepper\\n', 'omelett: egg, vann, salt, smør, skinke, hvitost, paprika']\n"
     ]
    }
   ],
   "source": [
    "def read_file(filename):\n",
    "  with open(\"food.txt\", \"r\") as f:\n",
    "    return list(f.readlines())\n",
    "    \n",
    "print(read_file(\"food.txt\"))"
   ]
  },
  {
   "cell_type": "markdown",
   "metadata": {
    "deletable": false,
    "editable": false,
    "run_control": {
     "frozen": true
    }
   },
   "source": [
    "## Oppgave 3-2 (5%)\n",
    "\n",
    "Oppgave 2 Lag et sett med ingredienser: **fix_ingredients(string)**\n",
    "\n",
    "Gitt en streng med ord atskilt av komma og mellomrom **‘, ‘**, lag funksjonen **fix_ingredients(string)** som\n",
    "returnerer en liste med alle substrenger som elementer i en liste. Funksjonen skal fungere på vilkårlige\n",
    "matvarer, som vist i eksempelet under. Legg merke til hva som skjer med mellomrom og andre ‘whitespace’-\n",
    "tegn.\n",
    "\n",
    "<img src=\"img/3-2_ex.png\" width=\"700px\" align=\"left\">"
   ]
  },
  {
   "cell_type": "code",
   "execution_count": 3,
   "metadata": {},
   "outputs": [
    {
     "name": "stdout",
     "output_type": "stream",
     "text": [
      "['pannekaker: egg', 'mel', 'salt', 'melk']\n"
     ]
    }
   ],
   "source": [
    "def fix_ingredients(string):\n",
    "  return string.strip().split(', ')  \n",
    "\n",
    "print(fix_ingredients('pannekaker: egg, mel, salt, melk\\n'))"
   ]
  },
  {
   "cell_type": "markdown",
   "metadata": {
    "deletable": false,
    "editable": false,
    "run_control": {
     "frozen": true
    }
   },
   "source": [
    "## Oppgave 3-3 (5%)\n",
    "\n",
    "Oppgave 3: gjør om liste til dictionary: **make_dict(foodlist)**:\n",
    "\n",
    "Du skal nå lage en funksjon **_make_dict(foodlist)_**. Denne tar inn resultatet av oppgave 3-1, altså en liste med\n",
    "strenger. Funksjonen skal returnere en ordbok (dictionary). Nøkkelen til hvert oppslag skal være alt som står\n",
    "foran det første kolonet ‘:’ i hvert element (altså matretten det er snakk om). Innholdet bak nøkkelen skal være\n",
    "en liste som inneholder ingrediensene til hver matrett. Funksjonen skal fungere for vilkårlige matretter, og som\n",
    "vist under:\n",
    "\n",
    "<img src=\"img/3-3_ex.png\" width=\"700px\" align=\"left\">"
   ]
  },
  {
   "cell_type": "code",
   "execution_count": 5,
   "metadata": {},
   "outputs": [],
   "source": [
    "def make_dict(foodlist):\n",
    "  dikt = {}\n",
    "  for line in foodlist:\n",
    "    name, ingredients = line.strip().split(':')\n",
    "    dikt[name] = fix_ingredients(ingredients)\n",
    "  return dikt\n"
   ]
  },
  {
   "cell_type": "markdown",
   "metadata": {
    "deletable": false,
    "editable": false,
    "run_control": {
     "frozen": true
    }
   },
   "source": [
    "## Oppgave 3-4 (10%)\n",
    "\n",
    "Oppgave 4: Skriv oppsummering og ingredienser for én spesifikk rett: **print_recipe()**:\n",
    "\n",
    "Nå skal du bruke ordboken food_dict fra forrige oppgave. Funksjonen **_print_recipe()_** skal ta inn denne\n",
    "ordboken samt en matrett (streng), og skrive ut informasjon om hvor mange ingredienser retten inneholder og\n",
    "hva disse er. Under vises hva funksjonen har som input, og hva som skal skrives ut. Legg merke til at listen\n",
    "over ingredienser skal skrives ut på en fin måte, f.eks som vist under:\n",
    "\n",
    "<img src=\"img/3-4_ex.png\" width=\"700px\" align=\"left\">"
   ]
  },
  {
   "cell_type": "code",
   "execution_count": 15,
   "metadata": {},
   "outputs": [],
   "source": [
    "def print_recipe(food_dict, dish):\n",
    "  if dish not in food_dict:\n",
    "    print(f\"No dish called {dish}\")\n",
    "  else:\n",
    "    ingredients = food_dict[dish]\n",
    "\n",
    "    ingredient_str = \"\"\n",
    "    for ingredient in ingredients:\n",
    "      ingredient_str += ingredient\n",
    "      ingredient_str += \", \"\n",
    "    \n",
    "    ingredient_str = ingredient_str[:-2]\n",
    "    print(f\"{dish} has {len(ingredients)} ingredients(s): {ingredient_str}\")"
   ]
  },
  {
   "cell_type": "markdown",
   "metadata": {
    "deletable": false,
    "editable": false,
    "run_control": {
     "frozen": true
    }
   },
   "source": [
    "## Oppgave 3-5 (5%)\n",
    "\n",
    "Oppgave 5: Sorter retter etter ingredienser: **all_recipes_with(food)**:\n",
    "\n",
    "Nå skal du søke i den samme ordboken som i forrige oppgave. Du skal lage en ny ordbok, der nøkkelen er\n",
    "hver type ingrediens. Verdien som er knyttet til hver nøkkel er en liste som inneholder alle matrettene som\n",
    "inneholder akkurat denne ingrediensen. Funksjonen skal returnere den nye ordboken, se eksempel under:\n",
    "\n",
    "<img src=\"img/3-5_ex.png\" width=\"700px\" align=\"left\">"
   ]
  },
  {
   "cell_type": "code",
   "execution_count": 6,
   "metadata": {},
   "outputs": [],
   "source": [
    "def all_recipes_with(food_dict):\n",
    "  result = {}\n",
    "  for dish, ingredients in food_dict.items():\n",
    "    for ingredient in ingredients:\n",
    "      if ingredient not in result:\n",
    "        result[ingredient] = [dish]\n",
    "      else:\n",
    "        used_in = result[ingredient]\n",
    "        used_in.append(dish)\n",
    "  return result"
   ]
  },
  {
   "cell_type": "markdown",
   "metadata": {
    "deletable": false,
    "editable": false,
    "run_control": {
     "frozen": true
    }
   },
   "source": [
    "## Oppgave 3-6 (5%)\n",
    "Oppgave 6: Velg en tilfeldig matrett med en ingrediens og skriv den ut på en fin måte\n",
    "\n",
    "Til nå har du laget to ordbøker som inneholder informasjon om matrettene i tekstfilen. Du skal nå skrive kode\n",
    "som skriver ut antall ingredienser og innholdet til en tilfeldig matrett som inneholder egg. Du har et sett med\n",
    "funksjoner laget over til å hjelpe deg med arbeidet, i tillegg til de to ordbøkene som er beskrevet i tidligere\n",
    "deloppgaver (food_dict og recipe_dishes). Du må selv lage eventuelle hjelpefunksjoner du trenger ut over\n",
    "dette, men i utgangspunket trenger du ikke lage noen nye funksjoner for å gjennomføre denne oppgaven. Du\n",
    "trenger ikke skrive at du importerer moduler dersom det er lett å forstå hva du bruker. Du skal som sagt basere\n",
    "koden din på at du skal vise innholdet til en tilfeldig rett som inneholder egg, noe teksten under baserer seg på:\n",
    "\n",
    "<img src=\"img/3-6_ex.png\" width=\"700px\" align=\"left\">"
   ]
  },
  {
   "cell_type": "code",
   "execution_count": 7,
   "metadata": {},
   "outputs": [
    {
     "ename": "NameError",
     "evalue": "name 'fix_ingredients' is not defined",
     "output_type": "error",
     "traceback": [
      "\u001b[0;31m---------------------------------------------------------------------------\u001b[0m",
      "\u001b[0;31mNameError\u001b[0m                                 Traceback (most recent call last)",
      "Cell \u001b[0;32mIn [7], line 2\u001b[0m\n\u001b[1;32m      1\u001b[0m \u001b[39mimport\u001b[39;00m \u001b[39mrandom\u001b[39;00m \n\u001b[0;32m----> 2\u001b[0m food_dict \u001b[39m=\u001b[39m make_dict(read_file(\u001b[39m\"\u001b[39;49m\u001b[39mfood.txt\u001b[39;49m\u001b[39m\"\u001b[39;49m)) \n\u001b[1;32m      3\u001b[0m recipe_dishes \u001b[39m=\u001b[39m all_recipes_with(food_dict) \n\u001b[1;32m      4\u001b[0m egg_dishes \u001b[39m=\u001b[39m recipe_dishes[\u001b[39m'\u001b[39m\u001b[39megg\u001b[39m\u001b[39m'\u001b[39m] \n",
      "Cell \u001b[0;32mIn [5], line 5\u001b[0m, in \u001b[0;36mmake_dict\u001b[0;34m(foodlist)\u001b[0m\n\u001b[1;32m      3\u001b[0m \u001b[39mfor\u001b[39;00m line \u001b[39min\u001b[39;00m foodlist:\n\u001b[1;32m      4\u001b[0m   name, ingredients \u001b[39m=\u001b[39m line\u001b[39m.\u001b[39mstrip()\u001b[39m.\u001b[39msplit(\u001b[39m'\u001b[39m\u001b[39m:\u001b[39m\u001b[39m'\u001b[39m)\n\u001b[0;32m----> 5\u001b[0m   dikt[name] \u001b[39m=\u001b[39m fix_ingredients(ingredients)\n\u001b[1;32m      6\u001b[0m \u001b[39mreturn\u001b[39;00m dikt\n",
      "\u001b[0;31mNameError\u001b[0m: name 'fix_ingredients' is not defined"
     ]
    }
   ],
   "source": [
    "import random \n",
    "food_dict = make_dict(read_file(\"food.txt\")) \n",
    "recipe_dishes = all_recipes_with(food_dict) \n",
    "egg_dishes = recipe_dishes['egg'] \n",
    "random_dish = random.choice(egg_dishes) \n",
    "print(f\"Today you'll be eating {random_dish}\") \n",
    "print_recipe(food_dict,random_dish)"
   ]
  },
  {
   "cell_type": "markdown",
   "metadata": {
    "deletable": false,
    "editable": false,
    "run_control": {
     "frozen": true
    }
   },
   "source": [
    "## Oppgave 3-7 (5%)\n",
    "\n",
    "<img src=\"img/3-7_ex.png\" width=\"400px\" align=\"left\">"
   ]
  },
  {
   "cell_type": "markdown",
   "metadata": {
    "deletable": false,
    "editable": false,
    "run_control": {
     "frozen": true
    }
   },
   "source": [
    "Oppgave 7: Beregn bokstavverdien til en matrett: **value_food(food)**:\n",
    "Gitt at vokaler (aeiouyæøå) har verdien 5, og konsonanter har verdien 1.\n",
    "\n",
    "Skriv funksjonen **_value_food(dict)_**. Denne skal ta inn en ordbok med matretter slik som food_dict (forklart i\n",
    "oppgave 3-3 / 10). Den skal skrive ut den matretten som har ingredienser med totalt sett høyest bokstavverdi,\n",
    "og verdien av denne matretten.\n",
    "\n",
    "NB: Du må gjerne lage ekstra funksjoner som kan hjelpe deg på veien, alt må ikke gjøres spesifikt i\n",
    "value_food."
   ]
  },
  {
   "cell_type": "code",
   "execution_count": 18,
   "metadata": {},
   "outputs": [],
   "source": [
    "def beregn_verdi(liste):\n",
    "  vokaler = 'aeiouyæøå' \n",
    "  summ = 0   \n",
    "  for element in liste:\n",
    "    for bokstav in element: \n",
    "      if bokstav in vokaler:   \n",
    "        summ += 5  \n",
    "      else: \n",
    "        summ += 1     \n",
    "  return summ\n",
    "\n",
    "def value_food(food):\n",
    "  maks = 0\n",
    "  for key in food.keys():\n",
    "    verdi = beregn_verdi(food[key])\n",
    "    if verdi > maks:\n",
    "      maks = verdi \n",
    "      mat = key\n",
    "  print(mat, maks)"
   ]
  }
 ],
 "metadata": {
  "kernelspec": {
   "display_name": "Python 3.10.0 64-bit",
   "language": "python",
   "name": "python3"
  },
  "language_info": {
   "codemirror_mode": {
    "name": "ipython",
    "version": 3
   },
   "file_extension": ".py",
   "mimetype": "text/x-python",
   "name": "python",
   "nbconvert_exporter": "python",
   "pygments_lexer": "ipython3",
   "version": "3.10.0"
  },
  "vscode": {
   "interpreter": {
    "hash": "aee8b7b246df8f9039afb4144a1f6fd8d2ca17a180786b69acc140d282b71a49"
   }
  }
 },
 "nbformat": 4,
 "nbformat_minor": 2
}
