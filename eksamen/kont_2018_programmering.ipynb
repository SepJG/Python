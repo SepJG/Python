{
 "cells": [
  {
   "cell_type": "markdown",
   "metadata": {
    "deletable": false,
    "editable": false,
    "run_control": {
     "frozen": true
    }
   },
   "source": [
    "# Eksamen kont 2018 Programmering\n",
    "\n",
    "**Merk at teori og kodeforståelse ikke er med her.**\n",
    "Hele eksamen ligger på BlackBoard. Her ligger også funksjoner som var vedlagt oppgaven, som kan være nyttig å bruke mens du arbeider med oppgavene under"
   ]
  },
  {
   "cell_type": "markdown",
   "metadata": {
    "deletable": false,
    "editable": false,
    "run_control": {
     "frozen": true
    }
   },
   "source": [
    "## PasswordManager – Programmering (Oppgave 3)\n",
    "\n",
    "Du kan anta at alle funksjonene mottar gyldige argumenter (inn-verdier), og at filen alltid lar\n",
    "seg åpne. Du kan benytte deg av funksjoner fra andre deloppgaver selv om du ikke har løst de\n",
    "deloppgavene.\n",
    "\n",
    "Du sitter på eksamen i pythonprogrammering. Du blir bedt om å lage et program for å\n",
    "håndtere passord som brukes på nettsteder. Her skal du legge inn passord for ulike nettsteder\n",
    "du vil huske, liste dem opp, og endre passord hvis du må. Du skal til og med kunne sjekke om\n",
    "du bruker det samme passordet på ulike steder.\n",
    "\n",
    "Passord blir i dette systemet lagret i en dictionary kalt *notebook*. Hvert innslag i notebook er\n",
    "knyttet til ett brukernavn og en liste over passord til nettstedet:\n",
    "\n",
    "`notebook = {'Nettside': ['brukernavn',['gammeltpassord','nyttpassord']]}`\n",
    "\n",
    "I eksempelet over er det vist to passord, ett nytt og ett gammelt. Det kan være fra ett til et\n",
    "vilkårlig antall passord lagret, alt etter hver mange ganger det er endret for nettstedet. Det\n",
    "nyeste og aktive passordet er lagret sist i listen.\n",
    "\n",
    "Vi vil bruke variabelen notebook til denne passordlisten i hele oppgaven. Du trenger ikke\n",
    "sjekke for alle typer feil i inputdata dersom det ikke er spesifisert"
   ]
  },
  {
   "cell_type": "markdown",
   "metadata": {
    "deletable": false,
    "editable": false,
    "run_control": {
     "frozen": true
    }
   },
   "source": [
    "## Oppgave 3a) Legg til en nettside: (5%)\n",
    "\n",
    "<ins>Lag funksjonen addSite(notebook)</ins>\n",
    "\n",
    "Et nytt nettsted defineres ved et nettstedsnavn, et brukernavn, og et passord. Du skal lage en\n",
    "funksjon som har en dictionary kalt ‘notebook’ som spesifisert over som input. Funksjonen\n",
    "skal returnere notebook, der det er lagt til et nytt nettsted med et brukernavn og et passord.\n",
    "Dersom nettstedet allerede er lagt inn skal funksjonen gi beskjed om dette, og returnere\n",
    "notebook uten å ha endret den.\n",
    "\n",
    "Eksempel på kall av funksjon (bruker-input er skrevet med **fet font**):\n",
    "\n",
    "<img src=\"img/3a_ex.png\" width=\"250px\" align=\"left\">"
   ]
  },
  {
   "cell_type": "code",
   "execution_count": 55,
   "metadata": {},
   "outputs": [],
   "source": [
    "def addSite(notebook):\n",
    "  nettsted = input(\"nettsted: \")\n",
    "  notebook.values()\n",
    "  if nettsted in notebook.keys():\n",
    "    print(\"finnes\")\n",
    "    return notebook\n",
    "  brukernavn = input(\"brukernavn: \")\n",
    "  passord = input(\"passord: \")\n",
    "  notebook[nettsted] = [brukernavn, [passord]]\n",
    "  return notebook\n",
    "\n",
    "notebook = {'reddit': ['foo', ['bar']]}\n",
    "notebook = addSite(notebook)\n",
    "print(notebook)"
   ]
  },
  {
   "cell_type": "markdown",
   "metadata": {
    "deletable": false,
    "editable": false,
    "run_control": {
     "frozen": true
    }
   },
   "source": [
    "## Oppgave 3b) Skriv ut en liste over nettsider og deres nyeste passord: (5%)\n",
    "\n",
    "<ins>Lag funksjonen showSites(notebook)</ins>\n",
    "\n",
    "Funksjonen tar inn den samme notebook-dictionary, og skriver ut en oversikt over alle\n",
    "nettsteder, brukernavn og det **siste** passordet som er lagt inn (sist i listen). Hvis nettstedet har\n",
    "et navn som er mer enn 15 tegn langt skal du bare bruke de 15 første, mens selve feltet for\n",
    "nettstedet skal være 17 tegn langt. For brukernavnet holder det å bruke 15 tegn.\n",
    "\n",
    "Eksempel: (input splittet på flere linjer for å få det mer leselig)\n",
    "\n",
    "<img src=\"img/3b_ex.png\" width=\"400px\" align=\"left\">"
   ]
  },
  {
   "cell_type": "code",
   "execution_count": 56,
   "metadata": {},
   "outputs": [],
   "source": [
    "def showSites(notebook):\n",
    "  print(\"Sted\\t\", \"bruker\\t\", \"pwd\")\n",
    "  for nettsted, verdi in notebook.items():\n",
    "    print(nettsted, verdi[0], verdi[1][-1])\n",
    "\n",
    "notebook = {'Facebook': ['Urgle', ['pwd1']],\n",
    "  'reddit': ['urgle', ['asdf1234', 'pwd1']],\n",
    "  'Aftenposten': ['ivrig', ['pwdold', 'pwdnew']]}\n",
    "showSites(notebook)\n",
    "\n"
   ]
  },
  {
   "cell_type": "markdown",
   "metadata": {
    "deletable": false,
    "editable": false,
    "run_control": {
     "frozen": true
    }
   },
   "source": [
    "## Oppgave 3c) Hjelpefunksjon: formattering av liste til streng (3%)\n",
    "\n",
    "<ins>Lag funksjonen formatList(list)</ins>\n",
    "\n",
    "Du vil snart ha bruk for å formatere en liste full av strenger til en mer lesbar tekst.\n",
    "Funksjonen tar imot en liste, og returnerer en streng med alle elementene. Hvert element skal\n",
    "være separert av komma og mellomrom ', '.\n",
    "\n",
    "Eksempel:\n",
    "\n",
    "<img src=\"img/3c_ex.png\" width=\"300px\" align=\"left\">"
   ]
  },
  {
   "cell_type": "code",
   "execution_count": 57,
   "metadata": {},
   "outputs": [],
   "source": [
    "def formatList(liste):\n",
    "  return \", \".join(liste)"
   ]
  },
  {
   "cell_type": "markdown",
   "metadata": {
    "deletable": false,
    "editable": false,
    "run_control": {
     "frozen": true
    }
   },
   "source": [
    "## Oppgave 3 d) Endre passord på nettsted: (6%)\n",
    "\n",
    "<ins>Lag funksjonen editSite(notebook, site)</ins>\n",
    "\n",
    "På grunn av sikkerheten bør en endre passordet på nettsteder innimellom. Funksjonen editSite\n",
    "tar inn notebook, samt navnet på nettstedet vi vil lage et nytt passord for. Vi ønsker også å\n",
    "lagre de gamle passordene. Hvis det nye passordet allerede har blitt brukt skal den liste opp\n",
    "passordene som er brukt for dette nettstedet før, og spørre etter et nytt. Hvis det nye passordet\n",
    "ikke er brukt før skal det legges til i slutten av passordlisten for dette nettstedet. Bruk\n",
    "funksjonen fra c) for å hjelpe deg. Funksjonen editSite skal returnere en oppdatert notebook.\n",
    "\n",
    "Eksempel på kall av funksjon (bruker-input i det kjørende programmet er skrevet med **fet\n",
    "font**):\n",
    "\n",
    "<img src=\"img/3d_1_ex.png\" width=\"500px\" align=\"left\">\n",
    "<img src=\"img/3d_2_ex.png\" width=\"500px\" align=\"left\">"
   ]
  },
  {
   "cell_type": "code",
   "execution_count": 58,
   "metadata": {},
   "outputs": [],
   "source": [
    "def editSite(notebook, site):\n",
    "  old = True\n",
    "  \n",
    "  while old:\n",
    "    password = input(f\"Add new site password for {site}: \")\n",
    "    if password in str(notebook[site][1]):\n",
    "      print(\"Already used: {formatList(notebook[site][1])}\")\n",
    "    else:\n",
    "      old = False\n",
    "  notebook[site][1].append(password)\n",
    "  print(f\"{site} has been updated with a new password\")\n",
    "  return notebook\n",
    "\n",
    "notebook = editSite(notebook, 'reddit')\n",
    "print(notebook)"
   ]
  },
  {
   "cell_type": "markdown",
   "metadata": {
    "deletable": false,
    "editable": false,
    "run_control": {
     "frozen": true
    }
   },
   "source": [
    "## Oppgave 3 e) Sjekke om passord er brukt flere steder: (6%)\n",
    "\n",
    "<ins>Lag funksjonen secureSites(notebook)</ins>\n",
    "\n",
    "Det er viktig å ikke bruke det samme passordet på flere steder. Denne funksjonen skal ta inn\n",
    "notebook, og gå igjennom hvert eneste av de sist innlagte passordene for hvert nettsted. Hvis\n",
    "et aktivt passord (altså ikke et gammelt) brukes på mer enn ett nettsted skal den vise hvilket\n",
    "passord dette gjelder, og hvilke nettsteder det er brukt på. Hvis alle de nyeste passordene er\n",
    "unike skal den gratulere brukeren med en god jobb.\n",
    "\n",
    "Eksempel der samme passord 'pwd1' brukes to ganger:\n",
    "\n",
    "<img src=\"img/3e_1_ex.png\" width=\"700px\" align=\"left\">"
   ]
  },
  {
   "cell_type": "markdown",
   "metadata": {
    "deletable": false,
    "editable": false,
    "run_control": {
     "frozen": true
    }
   },
   "source": [
    "Hvis du ikke har noen like passord:\n",
    "\n",
    "<img src=\"img/3e_2_ex.png\" width=\"700px\" align=\"left\">"
   ]
  },
  {
   "cell_type": "code",
   "execution_count": 59,
   "metadata": {},
   "outputs": [],
   "source": [
    "def secureSites(notebook):\n",
    "  pwds = {}\n",
    "  for site, passlist in notebook.items():\n",
    "    currentpwd = passlist[1][-1]\n",
    "    if currentpwd in pwds: \n",
    "      pwds[currentpwd].append(site)\n",
    "    else:\n",
    "      pwds[currentpwd] = [site]\n",
    "  for currentpwd in pwds:\n",
    "    if len(pwds[currentpwd]) > 1:\n",
    "      duplicates = True\n",
    "      print(\"You have used the password '{0}' at the following sites: {1}.\".format(currentpwd, formatList(pwds[currentpwd])))\n",
    "  if not duplicates:\n",
    "    print(\"No sites had similar passwords. Good job!\")"
   ]
  },
  {
   "cell_type": "markdown",
   "metadata": {
    "deletable": false,
    "editable": false,
    "run_control": {
     "frozen": true
    }
   },
   "source": [
    "## Fotball – Programmering (Oppgave 4)\n",
    "\n",
    "Din tante har en særegen interesse for spesielle fotballkamper. Som familiens datakyndige\n",
    "har du blitt engasjert for å hjelpe henne med å automatisere hobbyen hennes. Hun har skrevet\n",
    "ned noen kampresultater i en tekstfil, på dette formatet: *(vedlegget er kopiert helt nederst på dette oppgavearket)*\n",
    "\n",
    "<img src=\"img/beskrivelse.png\" width=\"250px\" align=\"left\">"
   ]
  },
  {
   "cell_type": "markdown",
   "metadata": {
    "deletable": false,
    "editable": false,
    "run_control": {
     "frozen": true
    }
   },
   "source": [
    "Din jobb er å lage funksjoner som kan hjelpe henne med å få hente ut og tolke dette\n",
    "materialet"
   ]
  },
  {
   "cell_type": "markdown",
   "metadata": {
    "deletable": false,
    "editable": false,
    "run_control": {
     "frozen": true
    }
   },
   "source": [
    "## Oppgave 4 a) Lesing fra fil: (5%)\n",
    "\n",
    "<ins>Lag funksjonen importResults(file)</ins>\n",
    "\n",
    "Alle resultater i serien ligger i en tekstfil kalt _[Matches.txt](Matches.txt)_ i den samme folderen som\n",
    "programmet, din funksjon skal lese fra denne filen. Hvis filen som er spesifisert ikke\n",
    "eksisterer må du be brukeren om å skrive inn rett filnavn eller trykke 'q' for å avslutte.\n",
    "Innparameter til funksjonen skal være filnavn, og funksjonen skal returnere en liste der hver\n",
    "tekstlinje (med unntak av linjeskift) blir ett element i listen, se eksemplet under:\n",
    "\n",
    "Kall og resultat:\n",
    "\n",
    "<img src=\"img/4a_1_ex.png\" width=\"700px\" align=\"left\">"
   ]
  },
  {
   "cell_type": "markdown",
   "metadata": {
    "deletable": false,
    "editable": false,
    "run_control": {
     "frozen": true
    }
   },
   "source": [
    "Hvis filnavn ikke finnes:\n",
    "\n",
    "<img src=\"img/4a_2_ex.png\" width=\"700px\" align=\"left\">"
   ]
  },
  {
   "cell_type": "code",
   "execution_count": 5,
   "metadata": {},
   "outputs": [
    {
     "name": "stdout",
     "output_type": "stream",
     "text": [
      "'Matches'"
     ]
    },
    {
     "data": {
      "text/plain": [
       "['Steinkjer,Byåsen,3-5',\n",
       " 'Byåsen,Steinkjer,2-1',\n",
       " 'Byåsen,Kvik Halden,2-10',\n",
       " 'Byåsen,Borg,0-0',\n",
       " 'Borg,Lade,3-2',\n",
       " 'Byåsen,Borg,0-0',\n",
       " 'Lade,Steinkjer,5-1',\n",
       " 'Nardo,Borg,3-3',\n",
       " 'Borg,Nardo,11-3',\n",
       " 'Steinkjer,Borg,2-2']"
      ]
     },
     "execution_count": 5,
     "metadata": {},
     "output_type": "execute_result"
    }
   ],
   "source": [
    "def importResults(file):\n",
    "  foundFile = False\n",
    "  keepOn = True\n",
    "  while keepOn and not foundFile:\n",
    "    try:\n",
    "      open_file = open(file,\"r\")\n",
    "      if open_file:\n",
    "        foundFile = True\n",
    "    except IOError:\n",
    "      print(\"'\"+file+\"'\",end=\"\")\n",
    "      file = input(\"Skriv inn riktig filnavn. (q for å avslutte):\")\n",
    "      if file == 'q' or file == 'Q':\n",
    "        return None\n",
    "\n",
    "  if foundFile:\n",
    "    textResults = list(open_file.read().splitlines())\n",
    "    open_file.close()\n",
    "    return textResults\n",
    "\n",
    "  else:\n",
    "    return\n",
    "\n",
    "importResults(\"Matches\")"
   ]
  },
  {
   "cell_type": "markdown",
   "metadata": {
    "deletable": false,
    "editable": false,
    "run_control": {
     "frozen": true
    }
   },
   "source": [
    "## Oppgave 4 b) Analyse av resultater: (6%)\n",
    "\n",
    "<ins>Lag en funksjon analyzeResults(results)</ins>\n",
    "\n",
    "Funksjonen tar *results* fra oppgave a som input, og returnerer en *liste av lister* med\n",
    "’hjemmelag’, ’bortelag’, hjemmemål og bortemål. Legg merke til at målene ikke lagres som\n",
    "tekststrenger men som tall.\n",
    "\n",
    "Eksempel på kall av funksjon og resultat:\n",
    "\n",
    "<img src=\"img/4b_ex.png\" width=\"700px\" align=\"left\">"
   ]
  },
  {
   "cell_type": "code",
   "execution_count": 7,
   "metadata": {},
   "outputs": [
    {
     "data": {
      "text/plain": [
       "[['Steinkjer', 'Byåsen', 3, 5],\n",
       " ['Byåsen', 'Steinkjer', 2, 1],\n",
       " ['Byåsen', 'Kvik Halden', 2, 10],\n",
       " ['Byåsen', 'Borg', 0, 0],\n",
       " ['Borg', 'Lade', 3, 2],\n",
       " ['Byåsen', 'Borg', 0, 0],\n",
       " ['Lade', 'Steinkjer', 5, 1],\n",
       " ['Nardo', 'Borg', 3, 3],\n",
       " ['Borg', 'Nardo', 11, 3],\n",
       " ['Steinkjer', 'Borg', 2, 2]]"
      ]
     },
     "execution_count": 7,
     "metadata": {},
     "output_type": "execute_result"
    }
   ],
   "source": [
    "def analyzeResults(results):\n",
    "  matches = []\n",
    "  for match in results:\n",
    "    lst = match.split(',')\n",
    "    goals = lst[2].split('-')\n",
    "    lst[2] = int(goals[0])\n",
    "    lst.append(int(goals[1]))\n",
    "    matches.append(lst)\n",
    "  return matches\n",
    "\n",
    "results = importResults('Matches.txt')\n",
    "analyzeResults(results)"
   ]
  },
  {
   "cell_type": "markdown",
   "metadata": {
    "deletable": false,
    "editable": false,
    "run_control": {
     "frozen": true
    }
   },
   "source": [
    "## Oppgave 4 c) Beregning av poeng fra kamper: (3%)\n",
    "\n",
    "<ins>Lag funksjonen calculateScores(homeGoals, awayGoals)</ins>\n",
    "\n",
    "Nå har du tilgang til alle kampene, og hvor mange mål hvert lag fikk. Din neste oppgave er å\n",
    "lage en funksjon som beregner poengene til de to ulike lagene i en enkelt kamp: Den skal ha\n",
    "som inputparametre målene fra en fotballkamp: (hjemmemål, bortemål). Funksjonen skal\n",
    "returnere to verdier: poengene til hjemmelaget og poengene til bortelaget.\n",
    "Tap gir 0 poeng, uavgjort gir 1 poeng, seier gir 3 poeng.\n",
    "\n",
    "Eksempel for første kamp, der Byåsen slo Steinkjer på bortebane:\n",
    "\n",
    "<img src=\"img/4c_ex.png\" width=\"700px\" align=\"left\">"
   ]
  },
  {
   "cell_type": "code",
   "execution_count": 8,
   "metadata": {},
   "outputs": [
    {
     "data": {
      "text/plain": [
       "(0, 3)"
      ]
     },
     "execution_count": 8,
     "metadata": {},
     "output_type": "execute_result"
    }
   ],
   "source": [
    "def calculateScores(homeGoals, awayGoals):\n",
    "  if homeGoals > awayGoals:\n",
    "    return 3,0 \n",
    "  elif homeGoals < awayGoals:\n",
    "    return 0,3\n",
    "  else:\n",
    "    return 1,1\n",
    "\n",
    "calculateScores(3,5)"
   ]
  },
  {
   "cell_type": "markdown",
   "metadata": {
    "deletable": false,
    "editable": false,
    "run_control": {
     "frozen": true
    }
   },
   "source": [
    "## Oppgave 4 d) Analyse av resultat: (5%)\n",
    "\n",
    "<ins>Lag funksjonen sumTeamValues(analyzed)</ins>\n",
    "\n",
    "Det neste du skal gjøre er å lage en oversikt over hvor mange poeng hvert enkelt lag har, og\n",
    "hvor mange kamper de har spilt. Funksjonen skal ha som input *analyzed* fra oppgave b. I\n",
    "retur skal du få en dictionary der nøklene er lagnavn som peker til en liste med lagets totale\n",
    "poengsum og totalt antall kamper. Det er nok lurt å bruke calculateScores fra forrige oppgave\n",
    "for å forenkle prosessen.\n",
    "\n",
    "<img src=\"img/4d_ex.png\" width=\"700px\" align=\"left\">"
   ]
  },
  {
   "cell_type": "code",
   "execution_count": 9,
   "metadata": {},
   "outputs": [
    {
     "name": "stdout",
     "output_type": "stream",
     "text": [
      "{'Steinkjer': [1, 4], 'Byåsen': [8, 5], 'Kvik Halden': [3, 1], 'Borg': [10, 6], 'Lade': [3, 2], 'Nardo': [1, 2]}\n"
     ]
    }
   ],
   "source": [
    "def sumTeamValues(analyzed):\n",
    "  team_values = {}\n",
    "  for match in analyzed:\n",
    "    home,away,=match[0],match[1]\n",
    "    homepoints,awaypoints =calculateScores(match[2],match[3])\n",
    "    if home in team_values:\n",
    "      team_values[home]=[team_values[home][0]+homepoints,\n",
    "                        team_values[home][1]+1]\n",
    "    else:\n",
    "      team_values[home]=[homepoints,1]\n",
    "    if away in team_values:\n",
    "      team_values[away]=[team_values[away][0]+awaypoints,\n",
    "                        team_values[away][1]+1]\n",
    "    else:\n",
    "      team_values[away]=[awaypoints,1]\n",
    "  return team_values\n",
    "\n",
    "analyzed = analyzeResults(results)\n",
    "team_data = sumTeamValues(analyzed)\n",
    "print(team_data)"
   ]
  },
  {
   "cell_type": "markdown",
   "metadata": {
    "deletable": false,
    "editable": false,
    "run_control": {
     "frozen": true
    }
   },
   "source": [
    "## Oppgave 4 e) Sammenstilling av resultater: (5%)\n",
    "\n",
    "<ins>Lag funksjonen showResults(analyzed)</ins>\n",
    "\n",
    "Din tante vil gjerne ha sammenstilt alle kampene på en fin og lesbar måte. Hun vil ha\n",
    "sammenstilt alle kampdata på formatet du ser under. Hjemmeseier markeres med (H),\n",
    "uavgjort markeres med (U), mens borteseier markeres med (B). Funksjonen bruker de\n",
    "analyserte kampene fra oppgave b som input. Du kan forutsette at ingen lag har navn som er\n",
    "over fjorten tegn lange.\n",
    "\n",
    "Funksjonen skriver ut tabellen under. Den er 45 tegn bred, feltene for hvert lagnavn skal være\n",
    "femten tegn lange. Legg også merke til hvordan målene er høyrestilt.\n",
    "\n",
    "Eksempel på kjøring:\n",
    "\n",
    "<img src=\"img/4e_ex.png\" width=\"700px\" align=\"left\">"
   ]
  },
  {
   "cell_type": "code",
   "execution_count": 12,
   "metadata": {},
   "outputs": [
    {
     "name": "stdout",
     "output_type": "stream",
     "text": [
      "#############################################\n",
      "# Steinkjer      Byåsen          3 - 5 (B) #\n",
      "# Byåsen         Steinkjer       2 - 1 (H) #\n",
      "# Byåsen         Kvik Halden     2 -10 (B) #\n",
      "# Byåsen         Borg            0 - 0 (U) #\n",
      "# Borg           Lade            3 - 2 (H) #\n",
      "# Byåsen         Borg            0 - 0 (U) #\n",
      "# Lade           Steinkjer       5 - 1 (H) #\n",
      "# Nardo          Borg            3 - 3 (U) #\n",
      "# Borg           Nardo          11 - 3 (H) #\n",
      "# Steinkjer      Borg            2 - 2 (U) #\n",
      "#############################################\n"
     ]
    }
   ],
   "source": [
    "def showResults(analyzed):\n",
    "  print(\"#\"*45)\n",
    "  for match in analyzed:\n",
    "    homepoints,awaypoints=calculateScores(match[2],match[3])\n",
    "    if homepoints == 1:\n",
    "      score = 'U'\n",
    "    elif homepoints == 3:\n",
    "      score = 'H'\n",
    "    else:\n",
    "      score = 'B'\n",
    "    print(\"# %s%s%s -%s (%s) #\"%(match[0].ljust(15),\n",
    "                                          match[1].ljust(15),\n",
    "                                          str(match[2]).rjust(2),\n",
    "                                          str(match[3]).rjust(2),\n",
    "                                          score))\n",
    "  print(\"#\"*45)\n",
    "\n",
    "showResults(analyzed)"
   ]
  },
  {
   "cell_type": "markdown",
   "metadata": {
    "deletable": false,
    "editable": false,
    "run_control": {
     "frozen": true
    }
   },
   "source": [
    "## 4 f) Sammenstilling av resultater: (6%)\n",
    "\n",
    "<ins>Lag funksjonen savePoints(team_data)</ins>\n",
    "\n",
    "Nå skal du bruke resultatene fra sumTeamValues (dictionary-resultatet fra oppgave d) til å\n",
    "lage en ordnet liste av alle lagene som har spilt, hvor mange poeng de har tilsammen og hvor\n",
    "mange kamper de har spilt til nå. Lagene skal skrives ut etter hvor mange poeng de har.\n",
    "Resultatet skal lagres i filen *Points.txt* i den samme katalogen som Python-programmet.\n",
    "Dersom filen finnes fra før skal du overskrive den. Filen skal se ut som vist under og i\n",
    "vedlegget [Points.txt](Points.txt). Det vil ikke legges vekt på helt perfekt treff på lengde av strenger, det er\n",
    "å vise at en forstår prinsippene som er viktig.\n",
    "\n",
    "Eksempel på kjøring og resultat:\n",
    "\n",
    "<img src=\"img/4f_1_ex.png\" width=\"700px\" align=\"left\">"
   ]
  },
  {
   "cell_type": "markdown",
   "metadata": {
    "deletable": false,
    "editable": false,
    "run_control": {
     "frozen": true
    }
   },
   "source": [
    "Points.txt vil da inneholde: (Det er 35 tegns bredde totalt)\n",
    "\n",
    "<img src=\"img/4f_2_ex.png\" width=\"700px\" align=\"left\">"
   ]
  },
  {
   "cell_type": "code",
   "execution_count": 14,
   "metadata": {},
   "outputs": [
    {
     "name": "stdout",
     "output_type": "stream",
     "text": [
      "###################################\n",
      "# Navn             Poeng   Kamper #\n",
      "# Borg             10      6      #\n",
      "# Byåsen            8      5      #\n",
      "# Lade              3      2      #\n",
      "# Kvik Halden       3      1      #\n",
      "# Steinkjer         1      4      #\n",
      "# Nardo             1      2      #\n",
      "###################################\n"
     ]
    }
   ],
   "source": [
    "def savePoints2(team_data):\n",
    "  print(\"#\"*35)\n",
    "  print(\"# %s  %s  %s #\"%(\"Navn\".ljust(15),\"Poeng\".ljust(6),\"Kamper\".ljust(6)))\n",
    "\n",
    "  team_list =[]\n",
    "  for t in team_data.items():\n",
    "    team_list.append([t[1][0],t[0],t[1][1]])\n",
    "    \n",
    "  team_list =sorted(team_list,reverse=True)\n",
    "\n",
    "  for team in team_list:\n",
    "    print(\"# %s  %s  %s #\\n\"%(team[1].ljust(15),str(team[0]).rjust(2).ljust(6),str(team[2]).ljust(6)),end=\"\")\n",
    "  print(\"#\"*35)\n",
    "\n",
    "savePoints2(team_data)"
   ]
  },
  {
   "cell_type": "markdown",
   "metadata": {
    "deletable": false,
    "editable": false,
    "run_control": {
     "frozen": true
    }
   },
   "source": [
    "## Vedlegg\n",
    "\n",
    "<img src=\"img/kampresultater.png\" width=\"200px\" align=\"left\">"
   ]
  }
 ],
 "metadata": {
  "kernelspec": {
   "display_name": "Python 3.10.0 64-bit",
   "language": "python",
   "name": "python3"
  },
  "language_info": {
   "codemirror_mode": {
    "name": "ipython",
    "version": 3
   },
   "file_extension": ".py",
   "mimetype": "text/x-python",
   "name": "python",
   "nbconvert_exporter": "python",
   "pygments_lexer": "ipython3",
   "version": "3.10.0"
  },
  "vscode": {
   "interpreter": {
    "hash": "aee8b7b246df8f9039afb4144a1f6fd8d2ca17a180786b69acc140d282b71a49"
   }
  }
 },
 "nbformat": 4,
 "nbformat_minor": 2
}
