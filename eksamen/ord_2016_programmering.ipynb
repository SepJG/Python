{
 "cells": [
  {
   "cell_type": "markdown",
   "metadata": {
    "deletable": false,
    "editable": false,
    "run_control": {
     "frozen": true
    }
   },
   "source": [
    "# Eksamen 2016 Programmering\n",
    "\n",
    "**Merk at teori og kodeforståelse ikke er med her.**\n",
    "\n",
    "Hele eksamen ligger på BlackBoard. Her ligger også funksjoner som var vedlagt oppgaven, som kan være nyttig å bruke mens du arbeider med oppgavene under."
   ]
  },
  {
   "cell_type": "markdown",
   "metadata": {
    "deletable": false,
    "editable": false,
    "run_control": {
     "frozen": true
    }
   },
   "source": [
    "## Oppgave 3: Programmering Valg (25%)\n",
    "\n",
    "I et land langt borte skal det avholdes valg. Hvert valgdistrikt telles manuelt. Du skal skrive kode for\n",
    "å regne sammen resultatene som rapporteres inn. Landet er delt inn i 92 valgdistrikt som hver velger\n",
    "én representant til parlamentet, samt at presidenten velges ved flertall blant de stemmeberettigete på\n",
    "tvers av alle valgdistriktene.\n",
    "\n",
    "Du kan anta at innparameterne til funksjonene alltid inneholder lovlige verdier."
   ]
  },
  {
   "cell_type": "markdown",
   "metadata": {
    "deletable": false,
    "editable": false,
    "run_control": {
     "frozen": true
    }
   },
   "source": [
    "## Oppgave 3a: Initialisering (5%)\n",
    "\n",
    "Det er registrert fem ulike partier i landet, og navnene er definert i en liste kalt `parties`. Skriv en\n",
    "funksjon `initElection` som oppretter en tabell for å lagre stemmetall for hvert parti i hvert av de\n",
    "92 valgdistriktene, og la funksjonen returnere denne tabellen initialisert til situasjonen før valget - dvs\n",
    "at alle har 0 stemmer.\n",
    "\n",
    "Eksempel på bruk av funksjonen til å opprette tabellen med 92 linjer og en kolonne for hvert parti,\n",
    "pluss utlisting av de tre første linjene er vist her:\n",
    "\n",
    "<img src=\"img/3a_ex.png\" width=\"700px\" align=\"left\">"
   ]
  },
  {
   "cell_type": "code",
   "execution_count": 1,
   "metadata": {},
   "outputs": [],
   "source": [
    "DISTRICTS = 92\n",
    "parties = ['Tea Party', 'Coffee Party', 'Milk Party','House Party', 'Beach Party']\n",
    "\n",
    "def initElection(parties):\n",
    "  election = []\n",
    "  for i in range(DISTRICTS):\n",
    "    election.append([0]*len(parties))\n",
    "  return election"
   ]
  },
  {
   "cell_type": "markdown",
   "metadata": {
    "deletable": false,
    "editable": false,
    "run_control": {
     "frozen": true
    }
   },
   "source": [
    "## Oppgave 3b: Oppdatering (5%)\n",
    "\n",
    "Etter hvert som resultatene strømmer på, må de settes inn i tabellen som ble opprettet av funksjonen i\n",
    "oppgave (a). Skriv en funksjon `updateElection` som tar tre parametere inn: tabellen med\n",
    "valgdata, nummeret på valgdistriktet, og en liste med stemmetall for de deltakende partiene, i samme\n",
    "rekkefølge som de er listet i variabelen `parties`. Hvert valgdistrikt kan ha flere stemmelokaler, slik\n",
    "at det kan bli lagt inn stemmer for et distrikt flere ganger. Nye tall som kommer inn skal plusses\n",
    "sammen med tall som ligger der fra før. Funksjonen skal returnere en oppdatert tabell.\n",
    "\n",
    "Eksempel på kjøring:\n",
    "\n",
    "<img src=\"img/3b_ex.png\" width=\"700px\" align=\"left\">"
   ]
  },
  {
   "cell_type": "code",
   "execution_count": 2,
   "metadata": {},
   "outputs": [],
   "source": [
    "def updateElection(election, district, votes):\n",
    "  for i in range(len(votes)):\n",
    "    election[district][i] += votes[i]\n",
    "  return election"
   ]
  },
  {
   "cell_type": "markdown",
   "metadata": {
    "deletable": false,
    "editable": false,
    "run_control": {
     "frozen": true
    }
   },
   "source": [
    "## Oppgave 3c: Presidentvalget (5%)\n",
    "\n",
    "Skriv funksjonen `printLeadP` som tar resultatene i tabellen `election` med valgdata, og regner ut\n",
    "hvilket parti som totalt har fått flest stemmer, og som skriver ut at dette partiet leder.\n",
    "I denne deloppgaven kan du gjøre en forenklende antagelse at funksjonen `printLeadP` kun kalles\n",
    "etter at det har blitt registrert noen stemmer (dvs. ikke hele tabellen er null), og at det ikke er delt\n",
    "ledelse mellom flere partier, dvs. ett unikt parti har flest stemmer.\n",
    "\n",
    "Eksempel på kjøring (NB: eksemplene her og videre utover antar at det er satt inn vesentlig mer\n",
    "data i tabellen enn bare det som ble gjort i eksemplet i 3b):\n",
    "\n",
    "<img src=\"img/3c_ex.png\" width=\"700px\" align=\"left\">"
   ]
  },
  {
   "cell_type": "code",
   "execution_count": 4,
   "metadata": {},
   "outputs": [],
   "source": [
    "def sumVotes(election): \n",
    "  total = [0] * 5\n",
    "  for row in election:\n",
    "    for i in range(len(row)):\n",
    "      total[i] += row[i]\n",
    "  return total \n",
    "\n",
    "def leadIndex(votes):\n",
    "  lead = 0\n",
    "  for i in range(1, len(votes)):\n",
    "    if votes[i] > votes[lead]:\n",
    "      lead = i\n",
    "  return lead\n",
    "\n",
    "def printLeadP(election):\n",
    "  sums = sumVotes(election)\n",
    "  lead = leadIndex(sums)\n",
    "  print(parties[lead], 'is leading the election with',sums[lead], 'votes')"
   ]
  },
  {
   "cell_type": "markdown",
   "metadata": {
    "deletable": false,
    "editable": false,
    "run_control": {
     "frozen": true
    }
   },
   "source": [
    "## Oppgave 3d: Parlamentsvalget (10%)\n",
    "\n",
    "Siden det kun er en person som velges i hver enmannskrets, er det partiet med flest stemmer i kretsen\n",
    "som får valgt inn sin kandidat.\n",
    "\n",
    "Skriv funksjonen `printResults` som skriver ut på skjerm gjeldende mandatfordeling i\n",
    "parlamentet basert på data som hittil har kommet inn for valgdistriktene. For å få full pott må tallene\n",
    "komme ut høyrejustert på en jevn kolonne, som vist under. Hvis et parti kun har 1 delegat hittil, skal\n",
    "man skrive ordet `delegate` i entall, ellers `delegates` (også for null). Det kan antas at maksimalt\n",
    "antall delegater er tresifret. I denne deloppgaven skal det tas høyde for at to eller flere partier kan\n",
    "ligge likt i teten i et valgdistrikt. Hvis ett parti er alene i teten i et valgdistrikt, skal distriktet telles for\n",
    "dette partiet. Hvis flere partier deler ledelsen, skal distriktet telles som `Undecided (tied)`. Hvis\n",
    "det ennå ikke har blitt registrert noen stemmer i distriktet, skal det derimot telles som `Undecided (no votes)`.\n",
    "\n",
    "Eksempel på kjøring:\n",
    "\n",
    "<img src=\"img/3d_ex.png\" width=\"700px\" align=\"left\">"
   ]
  },
  {
   "cell_type": "code",
   "execution_count": 5,
   "metadata": {},
   "outputs": [],
   "source": [
    "def sumDelegates(election):\n",
    "  d = [0] * (len(election[0]) + 2)\n",
    "  for row in election:\n",
    "    if sum(row) == 0:\n",
    "      d[-1] += 1 \n",
    "    else:\n",
    "      i = leadIndex(row)\n",
    "      if row[i] in row[i+1:]: \n",
    "        d[-2] += 1   \n",
    "      else:\n",
    "        d[i] += 1 \n",
    "  return d\n",
    "\n",
    "def printResults(election):\n",
    "  nd = sumDelegates(election)\n",
    "  t = parties + ['Undecided (tied)'] + ['Undecided (no votes)']\n",
    "  for i in range(len(t)):\n",
    "    print((t[i]+':').ljust(30), format(nd[i], '3d'), end=' ')\n",
    "    if nd[i] == 1:\n",
    "      print('delegate')\n",
    "    else:\n",
    "      print('delegates')"
   ]
  },
  {
   "cell_type": "markdown",
   "metadata": {
    "deletable": false,
    "editable": false,
    "run_control": {
     "frozen": true
    }
   },
   "source": [
    "## Oppgave 4: Programmering Penger (30%)\n",
    "\n",
    "Firmaer som setter opp kjøpskontrakter har ofte behov for å oppgi beløpet som skal betales både med\n",
    "tall og tekst. Store beløp blir en lang tekst og ansatte har lett for å skrive feil slik at tall og tekst ikke\n",
    "stemmer overens. Man ønsker derfor et program som automatisk kan oversette tall til tekst. I denne\n",
    "oppgaven skal tallene omformes til engelsk tekst. Du kan anta at det allerede er deklarert to globale\n",
    "variable D og L som du kan benytte deg av i koden din hvis du ønsker det, men det er ikke noe krav\n",
    "at disse må brukes.\n",
    "\n",
    "Skriv funksjonene under slik at du kan gjenbruke dem. Hvis du ikke klarer å løse en del-oppgave kan\n",
    "du likevel anta at funksjonen virker som oppgitt og gjenbruke den i en senere del-oppgave. Du kan\n",
    "anta at funksjonene alltid får inn lovlige verdier.\n",
    "D og L inneholder følgende konstante verdier (skal ikke endres underveis).\n",
    "\n",
    "<img src=\"img/4_beskrivelse.png\" width=\"700px\" align=\"left\">"
   ]
  },
  {
   "cell_type": "code",
   "execution_count": 6,
   "metadata": {},
   "outputs": [],
   "source": [
    "D = {1: 'one', 2: 'two', 3: 'three', 4: 'four', 5: 'five',\n",
    "     6: 'six',7: 'seven', 8: 'eight', 9: 'nine', 10: 'ten',\n",
    "    11: 'eleven', 12: 'twelve', 13: 'thirteen', 14: 'fourteen',\n",
    "    15: 'fifteen', 16: 'sixteen', 17: 'seventeen',18: 'eighteen', \n",
    "    19: 'nineteen', 20: 'twenty', 30: 'thirty',40: 'forty', 50: 'fifty', \n",
    "    60: 'sixty', 70: 'seventy',80: 'eighty', 90: 'ninety'}\n",
    "\n",
    "L = [ 1000000, ' million', 1000, ' thousand', 1, '']"
   ]
  },
  {
   "cell_type": "markdown",
   "metadata": {
    "deletable": false,
    "editable": false,
    "run_control": {
     "frozen": true
    }
   },
   "source": [
    "## Oppgave 4a: 2-digit (7%)\n",
    "\n",
    "Skriv en funksjon `i2_txt` som kan ta som argument et positivt heltall med maksimalt to siffer\n",
    "(dvs. 1 <= tallet <= 99) og returnere samme tall som engelsk tekst. Eksempel på bruk:\n",
    "\n",
    "<img src=\"img/4a_ex.png\" width=\"700px\" align=\"left\">"
   ]
  },
  {
   "cell_type": "code",
   "execution_count": 9,
   "metadata": {},
   "outputs": [],
   "source": [
    "def i2_txt(tt):\n",
    "  if D.get(tt) == None:\n",
    "    return D.get(tt//10 * 10) + '-' + D.get(tt % 10)\n",
    "  else:\n",
    "    return D.get(tt)"
   ]
  },
  {
   "cell_type": "markdown",
   "metadata": {
    "deletable": false,
    "editable": false,
    "run_control": {
     "frozen": true
    }
   },
   "source": [
    "## Oppgave 4b: 3-digit (7%)\n",
    "\n",
    "Skriv en funksjon `i3_txt` som kan ta som argument et positivt heltall med maksimalt tre siffer (dvs.\n",
    "1 <= tallet <= 999) og returnere samme tall som engelsk tekst. Tall med bare ett eller to siffer skal gi\n",
    "samme resultat som i (a). Eksempel på bruk med tresifrede tall:\n",
    "\n",
    "<img src=\"img/4b_ex.png\" width=\"700px\" align=\"left\">"
   ]
  },
  {
   "cell_type": "code",
   "execution_count": 11,
   "metadata": {},
   "outputs": [],
   "source": [
    "def i3_txt(ttt):\n",
    "  text = ''\n",
    "  rest = ttt % 100\n",
    "  if ttt >= 100:\n",
    "    text += D[ttt//100] + ' hundred'\n",
    "  if ttt >= 100 and rest > 0:\n",
    "    text += ' '\n",
    "  if rest > 0:\n",
    "    text += i2_txt(rest)\n",
    "  return text"
   ]
  },
  {
   "cell_type": "markdown",
   "metadata": {
    "deletable": false,
    "editable": false,
    "run_control": {
     "frozen": true
    }
   },
   "source": [
    "## Oppgave 4c: 9-digit (7%)\n",
    "\n",
    "Skriv en funksjon `i9_txt` som kan ta som argument et positivt heltall med maksimalt ni siffer (dvs.\n",
    "1 <= tallet <= 999 999 999) og returnere samme tall i dets tekstlige form. Tall med tre eller færre\n",
    "siffer skal gi resultat som vist i (a) og (b). Eksempel på bruk med større tall:\n",
    "\n",
    "<img src=\"img/4c_ex.png\" width=\"700px\" align=\"left\">"
   ]
  },
  {
   "cell_type": "code",
   "execution_count": 12,
   "metadata": {},
   "outputs": [],
   "source": [
    "def i9_txt(num):\n",
    "  text = ''\n",
    "  for i in range(0, len(L), 2):\n",
    "    if num >= L[i]:\n",
    "      text += ' ' +i3_txt(num//L[i]) + L[i+1]\n",
    "    num = num % L[i]\n",
    "  return text.strip()"
   ]
  },
  {
   "cell_type": "markdown",
   "metadata": {
    "deletable": false,
    "editable": false,
    "run_control": {
     "frozen": true
    }
   },
   "source": [
    "## Oppgave 4d: Sett inn tekst (9%)\n",
    "\n",
    "Skriv en funksjon `add_words` som kan ta inn som argument en setning (tekststreng) som potensielt\n",
    "inneholder ett eller flere beløp gitt som en serie siffer, og returnere samme setning med tekstlige\n",
    "varianter av beløpene innskutt bak tallet omsluttet av tankestreker. Hvis man ikke finner noen tall,\n",
    "skal setningen være uendret, og du kan anta at det kun er snakk om heltall, ikke beløp med desimaler.\n",
    "Eksempler på bruk:\n",
    "\n",
    "<img src=\"img/4d_ex.png\" width=\"700px\" align=\"left\">"
   ]
  },
  {
   "cell_type": "code",
   "execution_count": 17,
   "metadata": {},
   "outputs": [],
   "source": [
    "def add_words(text):\n",
    "  wl = text.split()\n",
    "  for i in range(len(wl)):\n",
    "    try:\n",
    "      num = int(wl[i])\n",
    "      wl[i] += ' -' + i9_txt(num) + ' -'\n",
    "    except:\n",
    "      pass                # do nothing\n",
    "  return ' '.join(wl)"
   ]
  }
 ],
 "metadata": {
  "kernelspec": {
   "display_name": "Python 3.10.0 64-bit",
   "language": "python",
   "name": "python3"
  },
  "language_info": {
   "codemirror_mode": {
    "name": "ipython",
    "version": 3
   },
   "file_extension": ".py",
   "mimetype": "text/x-python",
   "name": "python",
   "nbconvert_exporter": "python",
   "pygments_lexer": "ipython3",
   "version": "3.10.0"
  },
  "vscode": {
   "interpreter": {
    "hash": "aee8b7b246df8f9039afb4144a1f6fd8d2ca17a180786b69acc140d282b71a49"
   }
  }
 },
 "nbformat": 4,
 "nbformat_minor": 2
}
