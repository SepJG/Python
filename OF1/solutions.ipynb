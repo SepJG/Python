{
 "cells": [
  {
   "cell_type": "markdown",
   "metadata": {},
   "source": [
    "# Øvingsforelesning 1 - TDT4109"
   ]
  },
  {
   "cell_type": "markdown",
   "metadata": {},
   "source": [
    "**Læremål**:\n",
    "\n",
    "* Bli introdusert til hva programmering er\n",
    "\n",
    "* Grunnleggende syntaks\n",
    "\n",
    "* Utføre enkle utregninger i Python\n"
   ]
  },
  {
   "cell_type": "markdown",
   "metadata": {},
   "source": [
    "**Kommentar:** Jeg har brukt en del mellomrom for å gjøre koden \"finere\". Dette har ingen betydning på \"resultatet\" av koden, og er kun av estetiske grunner."
   ]
  },
  {
   "cell_type": "markdown",
   "metadata": {},
   "source": [
    "## Oppgave 1"
   ]
  },
  {
   "cell_type": "markdown",
   "metadata": {},
   "source": [
    "**Hva tilsvarer 80 grader celsius i Fahrenheit?**\n",
    "\n",
    "$F = \\frac{9}{5} \\cdot Celsius + 32$"
   ]
  },
  {
   "cell_type": "code",
   "execution_count": null,
   "metadata": {
    "collapsed": false,
    "pycharm": {
     "name": "#%%\n"
    }
   },
   "outputs": [],
   "source": [
    "print(9/5 * 80 + 32)"
   ]
  },
  {
   "cell_type": "markdown",
   "metadata": {},
   "source": [
    "Med variabel:"
   ]
  },
  {
   "cell_type": "code",
   "execution_count": null,
   "metadata": {},
   "outputs": [],
   "source": [
    "celsius = 80\n",
    "print(9/5 * celsius + 32)"
   ]
  },
  {
   "cell_type": "markdown",
   "metadata": {
    "collapsed": false,
    "pycharm": {
     "name": "#%% md\n"
    }
   },
   "source": [
    "## Oppgave 2"
   ]
  },
  {
   "cell_type": "markdown",
   "metadata": {},
   "source": [
    "**Regn ut følgende i Python ved hjelp av kode**\n",
    "\n",
    "$4 \\cdot -2-2\\left(2+-5\\right)$\n",
    "\n",
    "$-2--2-2$\n",
    "\n",
    "$5-2^{-1\\cdot-1}$\n",
    "\n",
    "$-(1 \\cdot 1 \\cdot 2 \\cdot 3 \\cdot 5 \\cdot -8)$"
   ]
  },
  {
   "cell_type": "code",
   "execution_count": null,
   "metadata": {},
   "outputs": [],
   "source": [
    "print(4 * (-2) - 2 * (2 + (-5)))"
   ]
  },
  {
   "cell_type": "code",
   "execution_count": null,
   "metadata": {},
   "outputs": [],
   "source": [
    "print(-2 - (- 2) -2)"
   ]
  },
  {
   "cell_type": "code",
   "execution_count": null,
   "metadata": {
    "collapsed": true
   },
   "outputs": [],
   "source": [
    "print(5 - 2 ** (-1 * -1))"
   ]
  },
  {
   "cell_type": "code",
   "execution_count": null,
   "metadata": {
    "collapsed": true
   },
   "outputs": [],
   "source": [
    "print(-(1*1*2*3*5*-8))"
   ]
  },
  {
   "cell_type": "markdown",
   "metadata": {},
   "source": [
    "## Oppgave 3"
   ]
  },
  {
   "cell_type": "markdown",
   "metadata": {},
   "source": [
    "**Er 1000 000 000 større enn $2^{30}$?**"
   ]
  },
  {
   "cell_type": "code",
   "execution_count": null,
   "metadata": {
    "tags": []
   },
   "outputs": [],
   "source": [
    "print(1000000000 - 2 ** 30)"
   ]
  },
  {
   "cell_type": "markdown",
   "metadata": {},
   "source": [
    "Med sammenligningsoperator:"
   ]
  },
  {
   "cell_type": "code",
   "execution_count": null,
   "metadata": {},
   "outputs": [],
   "source": [
    "print(1000000000 > 2 ** 30)"
   ]
  },
  {
   "cell_type": "markdown",
   "metadata": {},
   "source": [
    "## Oppgave 4\n",
    "\n",
    "Hva blir resten når $2^7$ deles på $42$ "
   ]
  },
  {
   "cell_type": "code",
   "execution_count": null,
   "metadata": {},
   "outputs": [],
   "source": [
    "2 ** 7 - ((2 ** 7 // 42) * 42)\n",
    "# Anbefaler ikke å gjøre dette. Det er kun inkludert for å \n",
    "# illustrere poenget om hvor nyttig modulooperatoren er."
   ]
  },
  {
   "cell_type": "markdown",
   "metadata": {},
   "source": [
    "Med modulooperator (`%`):"
   ]
  },
  {
   "cell_type": "code",
   "execution_count": null,
   "metadata": {},
   "outputs": [],
   "source": [
    "2 ** 7 % 42"
   ]
  },
  {
   "cell_type": "markdown",
   "metadata": {},
   "source": [
    "## Oppgave 5: Input\n",
    "\n",
    "**Lag et program som gjør følgende:**\n",
    "1. Tar inn to tall fra bruker\n",
    "2. Multipliserer dem \n",
    "3. Skriver ut `(tall 1) * (tall 2) = (resultat)`"
   ]
  },
  {
   "cell_type": "markdown",
   "metadata": {},
   "source": [
    "**Kommentar:** Oppgaven spesifiserer ikke om dette skal være heltall eller flyttall. Har her valgt å ta inn flyttall (`float`)."
   ]
  },
  {
   "cell_type": "code",
   "execution_count": null,
   "metadata": {},
   "outputs": [],
   "source": [
    "# Dette er helt ekvivalent med\n",
    "str1 = input(\"Skriv inn tall 1: \")\n",
    "tall1 = float(str1)\n",
    "# dette. Vi har bare brukt et ekstra steg for tall1\n",
    "# ved å også lagre input før vi gjør det om til int\n",
    "# i en variabel\n",
    "tall2 = float(input(\"Skriv inn tall 2: \"))\n",
    "\n",
    "resultat = tall1 * tall2\n",
    "print(f\"{tall1} * {tall2} = {resultat}\")"
   ]
  },
  {
   "cell_type": "markdown",
   "metadata": {},
   "source": [
    "## Oppgave 6: Innebygde funksjoner \n",
    "\n",
    "Skriv et program som spør brukeren om to tall og printer absoluttverdien av differansen\n",
    "<br>\n",
    "\n",
    "Hint: Bruk den innebygde funksjonen **abs()**"
   ]
  },
  {
   "cell_type": "markdown",
   "metadata": {},
   "source": [
    "**Kommentar:** Oppgaven spesifiserer ikke om dette skal være heltall eller flyttall. Har her valgt å ta inn heltall (`int`)."
   ]
  },
  {
   "cell_type": "code",
   "execution_count": null,
   "metadata": {},
   "outputs": [],
   "source": [
    "tall1 = int(input(\"Skriv inn tall 1: \"))\n",
    "tall2 = int(input(\"Skriv inn tall 2: \"))\n",
    "\n",
    "print(abs(tall1 - tall2))"
   ]
  },
  {
   "cell_type": "markdown",
   "metadata": {},
   "source": [
    "## Oppgave 7: Feilretting og variabeltyper\n",
    "\n",
    "Følgende program skal regne ut og printe summen av prisen på tre varer. Prisene er lagret som forskjellige variabeltyper. Undersøk feilmeldingene og rett koden slik at den skriver ut riktig totalsum."
   ]
  },
  {
   "cell_type": "code",
   "execution_count": null,
   "metadata": {},
   "outputs": [],
   "source": [
    "banan_pris = 10.50\n",
    "melk_pris = 23.50 # Dette var en streng fordi den hadde fnutter\n",
    "havregryn_pris = 15\n",
    "\n",
    "total_sum = banan_pris + melk_pris + havregryn_pris\n",
    "\n",
    "# Vi kan ikke kombinere en streng og en float uten å gjøre om floaten første\n",
    "# Ulike måter å gjøre dette på som gir akkurat samme resultat:\n",
    "print(\"Totalsummen for varene er \" + str(total_sum))\n",
    "print(\"Totalsummen for varene er\", total_sum)\n",
    "print(f\"Totalsummen for varene er {total_sum}\")"
   ]
  },
  {
   "cell_type": "markdown",
   "metadata": {},
   "source": [
    "## Oppgave 8: Bruk av variabler\n",
    "\n",
    "Regn ut volumet av en kjegle med radius 3 og høyde 7.\n",
    "\n",
    "$V = \\frac{\\pi r^2 h}{3}$"
   ]
  },
  {
   "cell_type": "code",
   "execution_count": null,
   "metadata": {},
   "outputs": [],
   "source": [
    "radius = 3\n",
    "height = 7\n",
    "pi = 3.14\n",
    "\n",
    "volume = pi * radius ** 2 * height / 3\n",
    "\n",
    "print(round(volume, 2))"
   ]
  },
  {
   "cell_type": "markdown",
   "metadata": {},
   "source": [
    "## Oppgave 9: Variabler og input \n",
    "\n",
    "1. Endre kjegleprogrammet fra oppgave 6 til å ta inn radius og høyde fra brukeren\n",
    "2. Verdiene skal være av desimaltall (float) "
   ]
  },
  {
   "cell_type": "code",
   "execution_count": null,
   "metadata": {},
   "outputs": [],
   "source": [
    "radius = float(input(\"Radius: \"))\n",
    "height = float(input(\"Høyde: \"))\n",
    "pi = 3.14\n",
    "\n",
    "volume = pi * radius ** 2 * height / 3\n",
    "\n",
    "print(round(volume, 2))"
   ]
  },
  {
   "cell_type": "markdown",
   "metadata": {},
   "source": [
    "## Oppgave 10: Sammenligning\n",
    "\n",
    "Ta inn to tall fra brukeren og skriv ut True om det første tallet er større enn det andre, False dersom ikke"
   ]
  },
  {
   "cell_type": "code",
   "execution_count": null,
   "metadata": {},
   "outputs": [],
   "source": [
    "# Her valgt å ta inn flyttall (float)\n",
    "tall1 = float(input(\"Skriv inn tall 1: \"))\n",
    "tall2 = float(input(\"Skriv inn tall 2: \"))\n",
    "\n",
    "print(tall1 > tall2)"
   ]
  },
  {
   "cell_type": "markdown",
   "metadata": {
    "collapsed": false,
    "pycharm": {
     "name": "#%% md\n"
    }
   },
   "source": [
    "## Fritt kodefelt (Du kan bruke  dette for å teste egen kode)"
   ]
  },
  {
   "cell_type": "code",
   "execution_count": null,
   "metadata": {
    "collapsed": false,
    "pycharm": {
     "name": "#%%\n"
    }
   },
   "outputs": [],
   "source": [
    "# Skriv koden din her"
   ]
  }
 ],
 "metadata": {
  "kernelspec": {
   "display_name": "Python 3.10.6 64-bit",
   "language": "python",
   "name": "python3"
  },
  "language_info": {
   "codemirror_mode": {
    "name": "ipython",
    "version": 3
   },
   "file_extension": ".py",
   "mimetype": "text/x-python",
   "name": "python",
   "nbconvert_exporter": "python",
   "pygments_lexer": "ipython3",
   "version": "3.10.6"
  },
  "vscode": {
   "interpreter": {
    "hash": "b0fa6594d8f4cbf19f97940f81e996739fb7646882a419484c72d19e05852a7e"
   }
  }
 },
 "nbformat": 4,
 "nbformat_minor": 2
}
