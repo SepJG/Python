{
 "cells": [
  {
   "cell_type": "markdown",
   "metadata": {},
   "source": [
    "# Øvingsforelesning 6 - ITGK\n",
    "\n",
    "### Lister"
   ]
  },
  {
   "cell_type": "markdown",
   "metadata": {},
   "source": [
    "#### Forskjellige måter å lage lister på"
   ]
  },
  {
   "cell_type": "code",
   "execution_count": null,
   "metadata": {},
   "outputs": [],
   "source": [
    "liste = []\n",
    "liste.append(23)\n",
    "print(liste)"
   ]
  },
  {
   "cell_type": "code",
   "execution_count": null,
   "metadata": {},
   "outputs": [],
   "source": [
    "liste = [23, 42, 34, 43]\n",
    "print(liste)"
   ]
  },
  {
   "cell_type": "code",
   "execution_count": null,
   "metadata": {},
   "outputs": [],
   "source": [
    "liste = [0] * 4\n",
    "print(liste)"
   ]
  },
  {
   "cell_type": "code",
   "execution_count": null,
   "metadata": {},
   "outputs": [],
   "source": [
    "liste = list(\"Hei\")\n",
    "print(liste)"
   ]
  },
  {
   "cell_type": "markdown",
   "metadata": {},
   "source": [
    "Nyttig tips til øvingen!"
   ]
  },
  {
   "cell_type": "code",
   "execution_count": null,
   "metadata": {},
   "outputs": [],
   "source": [
    "liste = list(range(10))\n",
    "print(liste)"
   ]
  },
  {
   "cell_type": "markdown",
   "metadata": {},
   "source": [
    "Dette heter \"list comprehension\" og kan brukes til å lage lister av andre lister. Det fungerer litt som en for-løkke på en linje. Det er ikke krav om å kunne dette, men det kan være nyttig i mange tilfeller"
   ]
  },
  {
   "cell_type": "code",
   "execution_count": null,
   "metadata": {},
   "outputs": [],
   "source": [
    "liste = [i for i in range(100)]\n",
    "print(liste)"
   ]
  },
  {
   "cell_type": "markdown",
   "metadata": {},
   "source": [
    "Det går ann å ha med \"conditions\" i en list comprehension:"
   ]
  },
  {
   "cell_type": "code",
   "execution_count": null,
   "metadata": {},
   "outputs": [],
   "source": [
    "liste = [i for i in range(100) if i % 2 == 0]\n",
    "print(liste)"
   ]
  },
  {
   "cell_type": "markdown",
   "metadata": {},
   "source": [
    "### Oppgave 1\n",
    "\n",
    "1. Opprett en liste med tall fra 0 til 5\n",
    "2. Opprett en liste med bokstavene i ordene \"Jeg bor på Gløshaugen\"\n",
    "3. Opprett en liste med annethvert tall fra 0 til 50\n",
    "4. Opprett en liste med annenhver `True` og `False` ned lengde 20\n",
    "\n",
    "Lister kan printes til brukeren med `print()` slik som andre datatyper. Gjør dette for alle listene."
   ]
  },
  {
   "cell_type": "code",
   "execution_count": null,
   "metadata": {},
   "outputs": [],
   "source": [
    "#1\n",
    "liste1 = list(range(6))\n",
    "print(liste1)\n",
    "\n",
    "#2\n",
    "liste2 = list(\"JegborpåGløshaugen\")\n",
    "print(liste2)\n",
    "\n",
    "#3\n",
    "liste3 = [i for i in range(51) if i % 2 == 0]\n",
    "print(liste3)\n",
    "\n",
    "#4\n",
    "liste4 = [True if i%2 == 0 else False for i in range(20)]\n",
    "print(liste4)\n",
    "\n",
    "\n"
   ]
  },
  {
   "cell_type": "markdown",
   "metadata": {},
   "source": [
    "### Bruke lister\n"
   ]
  },
  {
   "cell_type": "code",
   "execution_count": null,
   "metadata": {},
   "outputs": [],
   "source": [
    "liste = [\"a\", \"b\", 2, \"d\", \"!\", True, 99]\n",
    "print(liste[3])\n",
    "liste[3] = \"Hey\"\n",
    "print(liste)\n",
    "print(liste[3])"
   ]
  },
  {
   "cell_type": "markdown",
   "metadata": {},
   "source": [
    "### Oppgave 2\n",
    "\n",
    "Velg en av listene du lagde i oppgave 1 og bruk i denne oppgaven\n",
    "\n",
    "  a) Hent ut elementet på indes 4 og skriv det til bruker med `print()`\n",
    "\n",
    "  b) Endre det siste elementet i listen til 0\n",
    "  \n",
    "  c) Lag en funksjon `print_element_in_list(i, lst)` som tar inn et heltall `i` og en liste `lst`. Funksjonen skal printe element på indeks fra `i` fra listen `lst` på formatet `Element på indeks {i} er {verdi}`"
   ]
  },
  {
   "cell_type": "code",
   "execution_count": null,
   "metadata": {},
   "outputs": [],
   "source": [
    "# a\n",
    "liste = [\"a\", \"b\", 2, \"d\", \"!\", True, 99]\n",
    "print(liste[4])\n",
    "\n",
    "#b\n",
    "print(len(liste))\n",
    "liste[len(liste)-1] = 0\n",
    "print(liste)\n",
    "\n",
    "#c\n",
    "def print_element_in_list(i,lst):\n",
    "    print(f\"Element på indeks {i} er {lst[i]}\")\n",
    "\n",
    "\n"
   ]
  },
  {
   "cell_type": "code",
   "execution_count": null,
   "metadata": {},
   "outputs": [],
   "source": [
    "lst = [50, 51, 52, 54, 54, 55]\n",
    "\n",
    "print_element_in_list(1, lst)\n",
    "print_element_in_list(4, lst)\n",
    "print_element_in_list(0, lst)"
   ]
  },
  {
   "cell_type": "markdown",
   "metadata": {},
   "source": [
    "### Lister har en fast lengde"
   ]
  },
  {
   "cell_type": "code",
   "execution_count": null,
   "metadata": {},
   "outputs": [],
   "source": [
    "liste = [1, 2, 3, 4, 5, 6, 7, 8, 9, 10]\n",
    "print(liste[len(liste)])"
   ]
  },
  {
   "cell_type": "markdown",
   "metadata": {},
   "source": [
    "### Slicing"
   ]
  },
  {
   "cell_type": "code",
   "execution_count": null,
   "metadata": {},
   "outputs": [],
   "source": [
    "liste = [\"a\", \"b\", 2, \"d\", \"!\", True, 99]\n",
    "print(liste[0:5])\n",
    "print(liste[:5])\n",
    "print(liste[1:5])\n",
    "print(liste[1:7])\n",
    "print(liste[3:6])\n",
    "print(liste[3:])"
   ]
  },
  {
   "cell_type": "markdown",
   "metadata": {},
   "source": [
    "### Oppgave 3\n",
    "\n",
    "Lag en **funksjon** som tar inn en liste og **returnerer** første halvdelen av listen\n",
    "\n",
    "**Tips:**\n",
    "\n",
    " - Bruk slicing\n",
    " - Her må vi vite hvor lang listen er - `len()` fungerer også på lister, og returnerer antall elementer i listen"
   ]
  },
  {
   "cell_type": "code",
   "execution_count": null,
   "metadata": {},
   "outputs": [],
   "source": [
    "def first_half(lst):\n",
    "    first_half = lst[:len(lst)//2]\n",
    "    return first_half\n",
    "    "
   ]
  },
  {
   "cell_type": "code",
   "execution_count": null,
   "metadata": {},
   "outputs": [],
   "source": [
    "liste = [\"a\", \"b\", 2, \"d\", \"!\", True, 99]\n",
    "print(first_half(liste))\n",
    "print(first_half(first_half(liste)))"
   ]
  },
  {
   "cell_type": "markdown",
   "metadata": {},
   "source": [
    "### Oppgave 4\n",
    "\n",
    "Lag en **funksjon** som tar inn en liste, og som kopierer alt uten det første og siste elementet i en ny liste, og **returnerer** den nye listen.\n",
    "\n",
    "**Tips:**\n",
    "\n",
    " - Bruk slicing\n",
    " - Her må vi vite hvor lang listen er - `len()` fungerer også på lister, og returnerer antall elementer i listen"
   ]
  },
  {
   "cell_type": "code",
   "execution_count": null,
   "metadata": {},
   "outputs": [],
   "source": [
    "def remove_ends(lst):\n",
    "    new_list = lst[1:len(lst)-1]\n",
    "    return new_list\n"
   ]
  },
  {
   "cell_type": "code",
   "execution_count": null,
   "metadata": {},
   "outputs": [],
   "source": [
    "liste = [\"a\", \"b\", 2, \"d\", \"!\", True, 99]\n",
    "print(remove_ends(liste))\n",
    "print(remove_ends(remove_ends(liste)))"
   ]
  },
  {
   "cell_type": "markdown",
   "metadata": {},
   "source": [
    "### Traversering"
   ]
  },
  {
   "cell_type": "code",
   "execution_count": null,
   "metadata": {},
   "outputs": [],
   "source": [
    "liste = [\"a\", \"b\", 2, \"d\", \"!\", True, 99]\n",
    "print(liste[::2])\n",
    "print(liste[::-1])"
   ]
  },
  {
   "cell_type": "markdown",
   "metadata": {},
   "source": [
    "### Negativ indeks"
   ]
  },
  {
   "cell_type": "code",
   "execution_count": null,
   "metadata": {},
   "outputs": [],
   "source": [
    "liste = [\"a\", \"b\", 2, \"d\", \"!\", True, 99]\n",
    "print(liste[-1])\n",
    "print(liste[:-1])\n",
    "print(liste[::-2])"
   ]
  },
  {
   "cell_type": "markdown",
   "metadata": {},
   "source": [
    "### Iterere gjennom lister\n",
    "\n",
    "Med indeks-counter"
   ]
  },
  {
   "cell_type": "code",
   "execution_count": null,
   "metadata": {},
   "outputs": [],
   "source": [
    "my_list = [\"a\", \"b\", 2, \"d\", \"!\"]\n",
    "\n",
    "for i in range(len(my_list)):\n",
    "    print(my_list[i])"
   ]
  },
  {
   "cell_type": "markdown",
   "metadata": {},
   "source": [
    "Elementvis iterasjon"
   ]
  },
  {
   "cell_type": "code",
   "execution_count": null,
   "metadata": {},
   "outputs": [],
   "source": [
    "for element in my_list:\n",
    "    print(element)"
   ]
  },
  {
   "cell_type": "markdown",
   "metadata": {},
   "source": [
    "### Yatzy: Oppgave 5a\n",
    "\n",
    "Vi fortsetter med terninger, denne gangen med bruk av lister. Vi ønsker først en funksjon som triller 5 terninger for oss.\n",
    "\n",
    " - Lag en **funksjon** sin lager en liste med 5 tilfeldige heltall mellom 1 og 6\n",
    "\n",
    "**Hint:**\n",
    "```python\n",
    "import random\n",
    "\n",
    "random.randint(1, 6)\n",
    "```"
   ]
  },
  {
   "cell_type": "code",
   "execution_count": null,
   "metadata": {},
   "outputs": [],
   "source": [
    "import random \n",
    "\n",
    "def roll_dice():\n",
    "    liste = list(random.randint(1,6) for i in range(5))\n",
    "    return liste\n",
    "\n",
    "def roll_dice():\n",
    "    liste = []\n",
    "    for i in range(5):\n",
    "        n = random.randint(1,6)\n",
    "        liste.append(n)\n",
    "    return liste\n",
    "    "
   ]
  },
  {
   "cell_type": "code",
   "execution_count": null,
   "metadata": {},
   "outputs": [],
   "source": [
    "print(roll_dice())\n",
    "print(roll_dice())\n",
    "print(roll_dice())"
   ]
  },
  {
   "cell_type": "markdown",
   "metadata": {},
   "source": [
    "### Yatzy: Oppgave 5b\n",
    "\n",
    "Videre trenger vi en funksjon for å telle antall forekomster av en gitt verdi, f. eks. enere og toere\n",
    "\n",
    " - Lag en **funksjon** som tar inn listen med tall og et heltall mellom 1 og 6, og **returnerer** antallet terninger som har den heltallsverdien"
   ]
  },
  {
   "cell_type": "code",
   "execution_count": null,
   "metadata": {},
   "outputs": [],
   "source": [
    "def count_numbers(lst,i):\n",
    "    count = 0\n",
    "    for item in lst:\n",
    "        if item == i:\n",
    "            count += 1\n",
    "    return count\n",
    "\n",
    "def count_numbers(lst,i):\n",
    "    return lst.count(i)\n"
   ]
  },
  {
   "cell_type": "code",
   "execution_count": null,
   "metadata": {},
   "outputs": [],
   "source": [
    "print(count_numbers([1, 3, 2, 5, 5], 5)) # 2\n",
    "print(count_numbers([1, 3, 2, 5, 5], 2)) # 1\n",
    "print(count_numbers([1, 3, 2, 5, 5], 4)) # 0"
   ]
  },
  {
   "cell_type": "markdown",
   "metadata": {},
   "source": [
    "### Yatzy: Oppgave 5c\n",
    "\n",
    "Til slutt vil vi kunne spille hele den første delen av et Yatzy-spill\n",
    "\n",
    " - Lag en **funksjon** som kaster terningene seks ganger, og gir poeng for antall enere i det første kastet, toere i det andre, osv.\n",
    "\n",
    " Poengsum beregnes ut ifra `antall terninger * øyne på terningen`"
   ]
  },
  {
   "cell_type": "code",
   "execution_count": null,
   "metadata": {},
   "outputs": [],
   "source": [
    "def yatzy():\n",
    "    sum = 0\n",
    "    for i in range(1,7):\n",
    "        current_throw = roll_dice()\n",
    "        sum += count_numbers(current_throw,i) * i\n",
    "        print(f\"Number: {i}. Number of occurences: {count_numbers(current_throw,i)}\")\n",
    "    print(f\"Sum: {sum}\")\n",
    "    return sum\n",
    "\n",
    "yatzy()"
   ]
  },
  {
   "cell_type": "markdown",
   "metadata": {},
   "source": [
    "### Oppgave 6\n",
    "\n",
    "Lag en funksjon `zero_matrix(dim)` som tar inn et heltall `dim`og som oppretter en **kvadratisk tabell** (2D-liste) med antall rader og kolonner lik `dim`. Tabellen skal kun inneholde 0 i alle elementer, og funksjonen skal returnere tabellen."
   ]
  },
  {
   "cell_type": "code",
   "execution_count": null,
   "metadata": {},
   "outputs": [],
   "source": [
    "def zero_matrix(dim):\n",
    "    matrix = [0] * dim\n",
    "    for i in range(dim):\n",
    "        matrix[i] = [0] * dim\n",
    "    return matrix\n",
    "\n",
    "\n",
    "def zero_matrix(dim):\n",
    "    arr = [[0] * dim for i in range(dim)]\n",
    "    return arr\n"
   ]
  },
  {
   "cell_type": "code",
   "execution_count": null,
   "metadata": {},
   "outputs": [],
   "source": [
    "# Denne hjelpefunksjonen printer en 2D-liste rad for rad\n",
    "def print_matrix(matrix):\n",
    "    for row in matrix:\n",
    "        print(row)\n",
    "\n",
    "print_matrix(zero_matrix(3))\n",
    "print_matrix(zero_matrix(4))\n",
    "print_matrix(zero_matrix(5))"
   ]
  },
  {
   "cell_type": "markdown",
   "metadata": {},
   "source": [
    "### Oppgave 7\n",
    "\n",
    "Lag en funksjon `identity_matrix(dim)` som, slik som i oppg. 6, skal returnere en kvadratisk tabll med dimensjon `dim` der alle elementer er 0, bortsett fra at **elementer på diagonalen skal være 1**."
   ]
  },
  {
   "cell_type": "code",
   "execution_count": null,
   "metadata": {},
   "outputs": [],
   "source": [
    "def identity_matrix(dim):\n",
    "    matrix = []\n",
    "    for rows in range(dim):\n",
    "        row = []\n",
    "        for col in range(dim):\n",
    "            if rows == col:\n",
    "                row.append(1)\n",
    "            else:\n",
    "                row.append(0)\n",
    "        matrix.append(row)\n",
    "    return matrix\n"
   ]
  },
  {
   "cell_type": "code",
   "execution_count": null,
   "metadata": {},
   "outputs": [],
   "source": [
    "print_matrix(identity_matrix(3))\n",
    "print_matrix(identity_matrix(4))\n",
    "print_matrix(identity_matrix(5))"
   ]
  }
 ],
 "metadata": {
  "kernelspec": {
   "display_name": "Python 3.7.0 64-bit",
   "language": "python",
   "name": "python3"
  },
  "language_info": {
   "codemirror_mode": {
    "name": "ipython",
    "version": 3
   },
   "file_extension": ".py",
   "mimetype": "text/x-python",
   "name": "python",
   "nbconvert_exporter": "python",
   "pygments_lexer": "ipython3",
   "version": "3.7.0"
  },
  "vscode": {
   "interpreter": {
    "hash": "aee8b7b246df8f9039afb4144a1f6fd8d2ca17a180786b69acc140d282b71a49"
   }
  }
 },
 "nbformat": 4,
 "nbformat_minor": 4
}
