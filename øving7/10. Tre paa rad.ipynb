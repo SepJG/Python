{
 "cells": [
  {
   "cell_type": "markdown",
   "metadata": {
    "deletable": false,
    "editable": false,
    "run_control": {
     "frozen": true
    }
   },
   "source": [
    "<nav class=\"navbar navbar-default\">\n",
    "  <div class=\"container-fluid\">\n",
    "    <div class=\"navbar-header\">\n",
    "      <a class=\"navbar-brand\" href=\"_Oving7.ipynb\">Øving 7</a>\n",
    "    </div>\n",
    "    <ul class=\"nav navbar-nav\">\n",
    "    <li ><a href=\"Generelt%20om%20dictionary.ipynb\">Generelt om dictionary</a></li>\n",
    "    <li ><a href=\"Innebygde%20funksjoner%20i%20dictionaries.ipynb\">Innebygde funksjoner</a></li>\n",
    "    <li ><a href=\"Generelt%20om%20sets.ipynb\">Generelt om sets</a></li>\n",
    "    <li ><a href=\"Generelt%20om%20filbehandling.ipynb\">Generelt om filbehandling</a></li>\n",
    "    <li ><a href=\"Osteviruset.ipynb\">Osteviruset</a></li>\n",
    "    <li ><a href=\"Bursdagsdatabasen.ipynb\">Bursdagsdatabasen</a></li>\n",
    "    <li ><a href=\"Tallak%20teller%20antall%20tall.ipynb\">Tallak teller antall tall</a></li>\n",
    "    <li ><a href=\"Opptaksgrenser.ipynb\">Opptaksgrenser</a></li>\n",
    "        <li ><a href=\"Soke%20i%20tekst.ipynb\">Søke i tekst</a></li>\n",
    "    <li class=\"active\"><a href=\"Tre%20paa%20rad.ipynb\">Tre på rad</a></li>\n",
    "    </ul>\n",
    "  </div>\n",
    "</nav>\n",
    "\n",
    "# Tre på rad\n",
    "\n",
    "**Læringsmål:**\n",
    "\n",
    "* Lister\n",
    "* Funksjoner \n",
    "* Betingelser\n",
    "* Strenger\n",
    " \n",
    "I denne oppgaven skal du implementere det populære spillet 3 på rad. Spillet er for to spillere; x og o, som plasserer brikker . En spiller vinner om den klarer å få 3 på rad, enten horisontalt, vertikalt eller diagonalt.\n",
    "\n",
    "\n",
    "**a)** Lag en funksjon som skriver ut brettet, det kan f.eks. se slikt ut om du vil:\n",
    "\n",
    "```python\n",
    "    1   2   3\n",
    "  -------------\n",
    "1 |   |   |   |\n",
    "  -------------\n",
    "2 |   |   |   |\n",
    "  -------------\n",
    "3 |   |   |   |\n",
    "  -------------\n",
    "    ```"
   ]
  },
  {
   "cell_type": "code",
   "execution_count": 1,
   "metadata": {},
   "outputs": [],
   "source": [
    "brett = [[' ',' ',' '],[' ',' ',' '],[' ',' ',' ']]\n",
    "def print_Board():\n",
    "    i = 1\n",
    "    print(\"     1   2   3\")\n",
    "    for j in range(3):\n",
    "        print(\"   -------------\")\n",
    "        print(\"\",i,\"|\",brett[j][0],\"|\",brett[j][1],\"|\",brett[j][2],\"|\")\n",
    "        i +=1\n",
    "    print(\"   -------------\")"
   ]
  },
  {
   "cell_type": "markdown",
   "metadata": {
    "deletable": false,
    "editable": false,
    "run_control": {
     "frozen": true
    }
   },
   "source": [
    "**b)** Lag en funksjon som sjekker om en spiller har vunnet"
   ]
  },
  {
   "cell_type": "code",
   "execution_count": 2,
   "metadata": {},
   "outputs": [],
   "source": [
    "def has_Won(x,y,merke):\n",
    "    if brett[x][y] == merke and brett[(x+1)%3][y] == merke  and brett[(x+2)%3][y] == merke :\n",
    "        return True\n",
    "    elif brett[x][y] == merke and brett[x][(y+1)%3] == merke  and brett[x][(y+2)%3] == merke :\n",
    "        return True\n",
    "    elif brett[0][0] == merke and brett[1][1] == merke  and brett[2][2] == merke:\n",
    "        return True\n",
    "    elif brett[2][0] == merke and brett[1][1] == merke  and brett[0][2] == merke:\n",
    "        return True\n",
    "    return False"
   ]
  },
  {
   "cell_type": "markdown",
   "metadata": {
    "deletable": false,
    "editable": false,
    "run_control": {
     "frozen": true
    }
   },
   "source": [
    "**c)** Lag en funksjon som tar inn navnene til de to brukerne."
   ]
  },
  {
   "cell_type": "code",
   "execution_count": 3,
   "metadata": {},
   "outputs": [],
   "source": [
    "def get_Players():\n",
    "    navn1 = input(\"Skriv inn navnet på spiller 1 (x): \")\n",
    "    navn2 = input(\"Skriv inn navnet på spiller 2 (o): \")\n",
    "    return navn1,navn2\n"
   ]
  },
  {
   "cell_type": "markdown",
   "metadata": {
    "deletable": false,
    "editable": false,
    "run_control": {
     "frozen": true
    }
   },
   "source": [
    "**d)** Lag en funksjon som sjekker om et trekk er lovlig, altså at det ikke finnes andre brikker der."
   ]
  },
  {
   "cell_type": "code",
   "execution_count": 4,
   "metadata": {},
   "outputs": [],
   "source": [
    "def legal_Move(x,y):\n",
    "    if brett[x][y] == ' ':\n",
    "        return True\n",
    "    else:\n",
    "        return False"
   ]
  },
  {
   "cell_type": "markdown",
   "metadata": {
    "deletable": false,
    "editable": false,
    "run_control": {
     "frozen": true
    }
   },
   "source": [
    "**e)** Lag en funksjon som sjekker at input fra brukeren er riktig, altså at man ikke skriver inn rare tegn, eller skriver inn koordinater utenfor spillebrettet."
   ]
  },
  {
   "cell_type": "code",
   "execution_count": 5,
   "metadata": {},
   "outputs": [],
   "source": [
    "def get_Input(navn,merke):\n",
    "    print(navn,\"(\",merke,\")\",\"sin tur.\")\n",
    "    z = input(\"Skriv inn ditt trekk; i,j: \")\n",
    "    while True:\n",
    "        if len(z)== 3 and(ord(z[2]) >= 49 and ord(z[2]) <=51) and ( ord(z[0]) >= 49 and ord(z[0]) <=51):\n",
    "            y = int(z[2])-1\n",
    "            x = int(z[0])-1\n",
    "            if legal_Move(x,y):\n",
    "                return x,y\n",
    "            else:\n",
    "                print(\"Ugyldig trekk!\")\n",
    "        else:\n",
    "            print(\"Ugyldig input!\")\n",
    "        print(navn,\"(\",merke,\")\",\"sin tur.\")\n",
    "        z = input(\"Skriv inn ditt trekk; i,j: \")"
   ]
  },
  {
   "cell_type": "markdown",
   "metadata": {
    "deletable": false,
    "editable": false,
    "run_control": {
     "frozen": true
    }
   },
   "source": [
    "**f)** Sett dette sammen til et fullverdig 3 på rad spill!"
   ]
  },
  {
   "cell_type": "code",
   "execution_count": 6,
   "metadata": {},
   "outputs": [
    {
     "name": "stdout",
     "output_type": "stream",
     "text": [
      "     1   2   3\n",
      "   -------------\n",
      " 1 |   |   |   |\n",
      "   -------------\n",
      " 2 |   |   |   |\n",
      "   -------------\n",
      " 3 |   |   |   |\n",
      "   -------------\n",
      "Sep ( x ) sin tur.\n",
      "Ugyldig input!\n",
      "Sep ( x ) sin tur.\n",
      "Ugyldig input!\n",
      "Sep ( x ) sin tur.\n",
      "Ugyldig input!\n",
      "Sep ( x ) sin tur.\n",
      "Ugyldig input!\n",
      "Sep ( x ) sin tur.\n",
      "Ugyldig input!\n",
      "Sep ( x ) sin tur.\n",
      "Ugyldig input!\n",
      "Sep ( x ) sin tur.\n",
      "Ugyldig input!\n",
      "Sep ( x ) sin tur.\n",
      "Ugyldig input!\n",
      "Sep ( x ) sin tur.\n",
      "Ugyldig input!\n",
      "Sep ( x ) sin tur.\n",
      "Ugyldig input!\n",
      "Sep ( x ) sin tur.\n",
      "Ugyldig input!\n",
      "Sep ( x ) sin tur.\n",
      "Ugyldig input!\n",
      "Sep ( x ) sin tur.\n",
      "Ugyldig input!\n",
      "Sep ( x ) sin tur.\n",
      "Ugyldig input!\n",
      "Sep ( x ) sin tur.\n",
      "Ugyldig input!\n",
      "Sep ( x ) sin tur.\n",
      "Ugyldig input!\n",
      "Sep ( x ) sin tur.\n",
      "Ugyldig input!\n",
      "Sep ( x ) sin tur.\n",
      "Ugyldig input!\n",
      "Sep ( x ) sin tur.\n",
      "Ugyldig input!\n",
      "Sep ( x ) sin tur.\n",
      "Ugyldig input!\n",
      "Sep ( x ) sin tur.\n",
      "Ugyldig input!\n",
      "Sep ( x ) sin tur.\n",
      "Ugyldig input!\n",
      "Sep ( x ) sin tur.\n",
      "Ugyldig input!\n",
      "Sep ( x ) sin tur.\n",
      "Ugyldig input!\n",
      "Sep ( x ) sin tur.\n",
      "Ugyldig input!\n",
      "Sep ( x ) sin tur.\n",
      "Ugyldig input!\n",
      "Sep ( x ) sin tur.\n",
      "Ugyldig input!\n",
      "Sep ( x ) sin tur.\n",
      "Ugyldig input!\n",
      "Sep ( x ) sin tur.\n",
      "Ugyldig input!\n",
      "Sep ( x ) sin tur.\n",
      "Ugyldig input!\n",
      "Sep ( x ) sin tur.\n",
      "Ugyldig input!\n",
      "Sep ( x ) sin tur.\n",
      "Ugyldig input!\n",
      "Sep ( x ) sin tur.\n",
      "Ugyldig input!\n",
      "Sep ( x ) sin tur.\n",
      "Ugyldig input!\n",
      "Sep ( x ) sin tur.\n",
      "Ugyldig input!\n",
      "Sep ( x ) sin tur.\n",
      "Ugyldig input!\n",
      "Sep ( x ) sin tur.\n",
      "Ugyldig input!\n",
      "Sep ( x ) sin tur.\n",
      "Ugyldig input!\n",
      "Sep ( x ) sin tur.\n",
      "Ugyldig input!\n",
      "Sep ( x ) sin tur.\n",
      "Ugyldig input!\n",
      "Sep ( x ) sin tur.\n",
      "Ugyldig input!\n",
      "Sep ( x ) sin tur.\n",
      "Ugyldig input!\n",
      "Sep ( x ) sin tur.\n",
      "Ugyldig input!\n",
      "Sep ( x ) sin tur.\n",
      "Ugyldig input!\n",
      "Sep ( x ) sin tur.\n",
      "Ugyldig input!\n",
      "Sep ( x ) sin tur.\n",
      "Ugyldig input!\n",
      "Sep ( x ) sin tur.\n",
      "Ugyldig input!\n",
      "Sep ( x ) sin tur.\n",
      "Ugyldig input!\n",
      "Sep ( x ) sin tur.\n"
     ]
    }
   ],
   "source": [
    "brett = [[' ',' ',' '],[' ',' ',' '],[' ',' ',' ']]\n",
    "def main():\n",
    "    navn = get_Players()\n",
    "    merke = ['x','o']\n",
    "    print_Board()\n",
    "    i = 0\n",
    "    j = 0\n",
    "    while True:\n",
    "             x,y = get_Input(navn[i],merke[i])\n",
    "             brett[x][y] = merke[i]\n",
    "             if has_Won(x,y,merke[i]):\n",
    "                 print_Board()\n",
    "                 print(\"Spiller\",navn[i], \"har vunnet.\\nGratulerer!\")\n",
    "                 return\n",
    "             elif j == 8:\n",
    "                 print_Board()\n",
    "                 print(\"Det ble uavgjort!\")\n",
    "                 return\n",
    "                 \n",
    "             print_Board()\n",
    "             i = (i+1)%2\n",
    "             j += 1\n",
    "main()"
   ]
  }
 ],
 "metadata": {
  "kernelspec": {
   "display_name": "Python 3.10.0 ('.venv': venv)",
   "language": "python",
   "name": "python3"
  },
  "language_info": {
   "codemirror_mode": {
    "name": "ipython",
    "version": 3
   },
   "file_extension": ".py",
   "mimetype": "text/x-python",
   "name": "python",
   "nbconvert_exporter": "python",
   "pygments_lexer": "ipython3",
   "version": "3.10.0"
  },
  "toc": {
   "base_numbering": 1,
   "nav_menu": {},
   "number_sections": false,
   "sideBar": true,
   "skip_h1_title": false,
   "title_cell": "Table of Contents",
   "title_sidebar": "Contents",
   "toc_cell": false,
   "toc_position": {},
   "toc_section_display": true,
   "toc_window_display": false
  },
  "vscode": {
   "interpreter": {
    "hash": "f4aba26d267655b48f503c42d1d85e548697804d81a01ab4c1b97aa9d4975a22"
   }
  }
 },
 "nbformat": 4,
 "nbformat_minor": 2
}
