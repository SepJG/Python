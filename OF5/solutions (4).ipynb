{
 "cells": [
  {
   "cell_type": "markdown",
   "metadata": {},
   "source": [
    "# Øvingsforelesning 5 - ITGK\n",
    "\n",
    "### Mer om funksjoner\n",
    "\n",
    "Husk at hvis du skal bruke en funksjon definert i en annen celle må den cellen kjøres først!"
   ]
  },
  {
   "cell_type": "markdown",
   "metadata": {},
   "source": [
    "## Oppgaver fra forrige gang vi kan gjenbruke"
   ]
  },
  {
   "cell_type": "markdown",
   "metadata": {},
   "source": [
    "### Oppgave 6\n",
    "\n",
    "Funksjon som tar inn et (positivt) heltall fra bruker, med validering"
   ]
  },
  {
   "cell_type": "code",
   "execution_count": null,
   "metadata": {},
   "outputs": [],
   "source": [
    "def int_input(prompt):\n",
    "    value = input(prompt)\n",
    "\n",
    "    while not value.isdigit():\n",
    "        value = input(\"Ikke et tall! Prøv på nytt: \")\n",
    "    \n",
    "    return int(value)"
   ]
  },
  {
   "cell_type": "markdown",
   "metadata": {},
   "source": [
    "Flere av de følgenede oppgavene er oppgaver vi ikke rakk forrige uke. Vi tar de denne uken også fordi de demonstrer mye om hvorfor vi bruker funksjoner."
   ]
  },
  {
   "cell_type": "markdown",
   "metadata": {},
   "source": [
    "## Oppgave - Terningspill \n",
    "### Oppgave 1\n",
    "*Vi skal lage et enkelt terningspill. I spillet trenger vi mulighet til å trille en terning*"
   ]
  },
  {
   "cell_type": "markdown",
   "metadata": {},
   "source": [
    "* Lag en funksjon som triller en terning, dvs. returnerer et tall fra og med 1 til og med 6\n",
    "\n",
    "Hint: \n",
    "```python\n",
    "import random\n",
    "num = random.randint(1, 6)\n",
    "```"
   ]
  },
  {
   "cell_type": "code",
   "execution_count": null,
   "metadata": {
    "collapsed": true
   },
   "outputs": [],
   "source": [
    "import random\n",
    "\n",
    "def roll_dice():\n",
    "    result = random.randint(1, 6)\n",
    "    return result"
   ]
  },
  {
   "cell_type": "markdown",
   "metadata": {},
   "source": [
    "#### Trill noen terninger\n",
    "\n",
    "Du kan bruke denne testkoden til å se om funksjonen din over fungerer, gitt at du har navngitt den `roll_dice`"
   ]
  },
  {
   "cell_type": "code",
   "execution_count": null,
   "metadata": {},
   "outputs": [],
   "source": [
    "for i in range(10):\n",
    "    print(roll_dice())"
   ]
  },
  {
   "cell_type": "markdown",
   "metadata": {},
   "source": [
    "### Oppgave 2\n",
    "*En runde i spillet består av at spilleren gjetter hvor mye hen til sammen kommer til å trille, før 6 terninger trilles. Hvis hen gjettet riktig, får hen 3 poeng. Hvis hen var innenfor 5 fra riktig verdi, får hen 1 poeng.*\n",
    "\n",
    "* Lag en funksjon for å beregne poeng gitt spilleren, basert på spillerens gjett og verdien til de trillede terningene. \n",
    "\n",
    "* Lag så en funksjon for en runde, som spør spilleren om å gjette, triller terninger, og returnerer poengsummen for den runden. \n"
   ]
  },
  {
   "cell_type": "code",
   "execution_count": null,
   "metadata": {
    "collapsed": true
   },
   "outputs": [],
   "source": [
    "def check_score(guess, result):\n",
    "    score = 0\n",
    "\n",
    "    if guess == result:\n",
    "        score = 3\n",
    "    elif abs(guess - result) <= 5:\n",
    "        score = 1\n",
    "        \n",
    "    return score\n",
    "\n",
    "def play_round():\n",
    "    guess = int_input(\"Gjett hva summen blir: \")\n",
    "\n",
    "    total = 0\n",
    "    for i in range(6):\n",
    "        total += roll_dice()\n",
    "    \n",
    "    print(f\"Sum av terninger er {total}\")\n",
    "    score = check_score(guess, total)\n",
    "    print(f\"Poengsum for denne runden: {score}\")\n",
    "    return score"
   ]
  },
  {
   "cell_type": "markdown",
   "metadata": {},
   "source": [
    "Denne kodesnutten demonstrerer tenkt bruk av funksjonen"
   ]
  },
  {
   "cell_type": "code",
   "execution_count": null,
   "metadata": {},
   "outputs": [],
   "source": [
    "print(check_score(25, 25)) # 3\n",
    "print(check_score(25, 29)) # 1\n",
    "print(check_score(19, 25)) # 0"
   ]
  },
  {
   "cell_type": "code",
   "execution_count": null,
   "metadata": {},
   "outputs": [],
   "source": [
    "print(f\"Poeng for runden: {play_round()}\")"
   ]
  },
  {
   "cell_type": "markdown",
   "metadata": {},
   "source": [
    "### Oppgave 3\n",
    "*Til slutt vil vi ha mulighet til å spille hele spillet*\n",
    "\n",
    "* Husk: main() kaller de andre funksjonene og står for kommunikasjon med bruker\n",
    "\n",
    "* Spør spilleren først hvor mange runder h*n vil spille, og kjør så gjennom `<antall>` mange runder. Hold kontroll på poengsummen til brukeren, og skriv den ut til slutt. \n",
    "\n",
    "Ekstraoppgave:\n",
    "* Utvid spillet til å være for to spillere \n"
   ]
  },
  {
   "cell_type": "code",
   "execution_count": null,
   "metadata": {
    "collapsed": true
   },
   "outputs": [],
   "source": [
    "def main():\n",
    "    rounds = int_input(\"Hvor mange runder vil du spille? \")\n",
    "\n",
    "    score = 0\n",
    "\n",
    "    for i in range(1, rounds + 1):\n",
    "        print(f\"Runde {i}:\")\n",
    "        score += play_round()\n",
    "\n",
    "    print(f\"Total poengsum: {score}\")\n",
    "\n",
    "main()"
   ]
  },
  {
   "cell_type": "markdown",
   "metadata": {},
   "source": [
    "## Oppgave 4\n",
    "\n",
    "Lag en funksjon omkrets som gjør følgende:\n",
    "* Tar inn et tall radius som parameter\n",
    "* Returnerer omkretsen til en sirkel med radius `<radius>`\n",
    "$$O = 2 \\pi r$$\n",
    "\n",
    "Lag en funksjon areal som gjør følgende:\n",
    "* Tar inn et tall radius som parameter\n",
    "* Returnerer omkretsen til en sirkel med areal `<radius>`\n",
    "\n",
    "\n",
    "$$A = \\pi r^2$$"
   ]
  },
  {
   "cell_type": "code",
   "execution_count": null,
   "metadata": {
    "collapsed": true
   },
   "outputs": [],
   "source": [
    "from math import pi\n",
    "\n",
    "def omkrets(radius):\n",
    "    o = 2 * pi * radius\n",
    "    return o\n",
    "\n",
    "def areal(radius):\n",
    "    a = pi * radius ** 2\n",
    "    return a    "
   ]
  },
  {
   "cell_type": "markdown",
   "metadata": {},
   "source": [
    "Eksempel testkode:"
   ]
  },
  {
   "cell_type": "code",
   "execution_count": null,
   "metadata": {},
   "outputs": [],
   "source": [
    "print(f\"Omkrets med radius 2: {omkrets(2):.2f}\") # Skal være 12.57\n",
    "print(f\"Areal med radius 2: {areal(2):.2f}\") # Skal være 12.57"
   ]
  },
  {
   "cell_type": "markdown",
   "metadata": {},
   "source": [
    "### Oppgave 5\n",
    "\n",
    "Lag en main()-funksjon som gjør følgende:\n",
    "1. Tar inn en radius fra bruker\n",
    "2. Regner ut omkretsen av en sirkel med radius `<radius>`\n",
    "3. Regner ut arealet av en sirkel med radius `<radius>`\n",
    "4. Skriver ut resultatet fra del (2) og (3)\n"
   ]
  },
  {
   "cell_type": "code",
   "execution_count": null,
   "metadata": {
    "collapsed": true
   },
   "outputs": [],
   "source": [
    "def main():\n",
    "    radius = float(input(\"Skriv inn radius: \"))\n",
    "\n",
    "    o = omkrets(radius)\n",
    "    a = areal(radius)\n",
    "\n",
    "    print(f\"For en sirkel med radius {radius}\")\n",
    "    print(f\"  - er omkretsen {o}\")\n",
    "    print(f\"  - er arealet {a}\")\n",
    "\n",
    "main()"
   ]
  },
  {
   "cell_type": "markdown",
   "metadata": {},
   "source": [
    "## Oppgave 6"
   ]
  },
  {
   "cell_type": "markdown",
   "metadata": {},
   "source": [
    "* Skriv en funksjon som tar inn et heltall, og returnerer `True` hvis tallet er et primtall, ellers `False`\n",
    "\n",
    "* **Husk:** Et tall er et primtall hvis det ikke er delelig på noen andre tall enn seg selv og 1\n"
   ]
  },
  {
   "cell_type": "code",
   "execution_count": null,
   "metadata": {},
   "outputs": [],
   "source": [
    "def is_prime(num):\n",
    "    for i in range(2, num):\n",
    "        if num % i == 0:\n",
    "            return False\n",
    "    return True"
   ]
  },
  {
   "cell_type": "markdown",
   "metadata": {},
   "source": [
    "#### Raskere metode\n",
    "\n",
    "Her unngår vi å sjekke alle partall, og sjekker kun opp til kvadratroten av tallen."
   ]
  },
  {
   "cell_type": "code",
   "execution_count": null,
   "metadata": {},
   "outputs": [],
   "source": [
    "def is_prime(num):\n",
    "    # Grunntilfelle. 2 er eneste primtall som er et partall\n",
    "    if num > 2 and num % 2 == 0:\n",
    "        return False\n",
    "\n",
    "    # Vi sjekker alle oddetall fra 3 til sqrt(num) + 1. Vi trenger ikke sjekke\n",
    "    # høyere enn dette, fordi hvis num er delelig på et tall større enn sqrt(num)\n",
    "    # så er det også delelig på et tall mindre enn sqrt(num) siden sqrt(num) ** 2 = num\n",
    "    for i in range(3, int(num ** 1/2) + 1, 2):\n",
    "        if num % i == 0:\n",
    "            return False\n",
    "\n",
    "    return True"
   ]
  },
  {
   "cell_type": "markdown",
   "metadata": {},
   "source": [
    "Testkode:"
   ]
  },
  {
   "cell_type": "code",
   "execution_count": null,
   "metadata": {},
   "outputs": [],
   "source": [
    "for i in range(1, 11):\n",
    "    print(f\"{i}: {is_prime(i)}\")"
   ]
  },
  {
   "cell_type": "markdown",
   "metadata": {},
   "source": [
    "## Oppgave 7\n",
    "\n",
    "Vi ønsker å finne alle primtall i et gitt interval\n",
    "\n",
    " - Lag en funksjon som tar inn to heltall, og printer alle primtallene mellom dem (inklusiv)"
   ]
  },
  {
   "cell_type": "code",
   "execution_count": null,
   "metadata": {},
   "outputs": [],
   "source": [
    "def find_primes(low, high):\n",
    "    for i in range(low, high + 1):\n",
    "        if is_prime(i):\n",
    "            print(i)"
   ]
  },
  {
   "cell_type": "markdown",
   "metadata": {},
   "source": [
    "Testkode:"
   ]
  },
  {
   "cell_type": "code",
   "execution_count": null,
   "metadata": {},
   "outputs": [],
   "source": [
    "low = int_input(\"Skriv inn nedre grense: \")\n",
    "high = int_input(\"Skriv inn øvre grense: \")\n",
    "find_primes(low, high)"
   ]
  },
  {
   "cell_type": "markdown",
   "metadata": {},
   "source": [
    "## Oppgave 8\n",
    "\n",
    "Vi har lyst til å formatere et antall sekunder på et mer leselig format\n",
    "\n",
    " - Lag en funksjon `sec_to_time` som har en input-parameter `s` som er antall sekunder angitt som et heltall og som skal regne om dette til formatet `t:m:s`, og returnere resultatet som en tekststreng. Her står `t` for time, `m` for minutt og `s` for sekunder. Hvis tiden er mindre enn 1 time skal den returnere `m:s`, ellers skal den returnere `t:m:s`.\n",
    " - Eks. på riktig output: `0:45`, `2:23`, `12:04`, `1:02:09`\n",
    " - Legg merke til at hvis antall sekunder (og minutter hvis det er over en time) er mindre enn 10 skal det det skrives en 0 først.\n"
   ]
  },
  {
   "cell_type": "code",
   "execution_count": null,
   "metadata": {},
   "outputs": [],
   "source": [
    "def add_leading_zeros(tall):\n",
    "    if tall < 10:\n",
    "        return \"0\" + str(tall)\n",
    "    else:\n",
    "        return str(tall)\n",
    "\n",
    "def sec_to_time(sec):\n",
    "    # Resten av divisjon av sekunder med 60 gir antall sekunder når vi trekker fra hele minutter\n",
    "    result_sec = sec % 60\n",
    "\n",
    "    # Gjør om til hele minutter\n",
    "    sec -= result_sec\n",
    "    # Deler på 60 for å få antall minutter. Benytt heltallsdivisjon for å unngå å gjøre om tallet\n",
    "    # til et flyttall\n",
    "    minutt = sec // 60\n",
    "    \n",
    "    # Resten av divisjon av minutter med 60 gir antall minutter når vi trekker fra hele timer\n",
    "    result_min = minutt % 60\n",
    "\n",
    "    minutt -= result_min\n",
    "    result_timer = minutt // 60\n",
    "\n",
    "    # Dersom det er under 1 time skal vi bruke et annet format\n",
    "    if result_timer == 0:\n",
    "        return f\"{result_min}:{add_leading_zeros(result_sec)}\"\n",
    "    else:\n",
    "        return f\"{result_timer}:{add_leading_zeros(result_min)}:{add_leading_zeros(result_sec)}\"\n"
   ]
  },
  {
   "cell_type": "markdown",
   "metadata": {},
   "source": [
    "Testkode:"
   ]
  },
  {
   "cell_type": "code",
   "execution_count": null,
   "metadata": {},
   "outputs": [],
   "source": [
    "print(sec_to_time(60)) # 1:00\n",
    "print(sec_to_time(61)) # 1:01\n",
    "print(sec_to_time(3599)) # 59:59\n",
    "print(sec_to_time(3600)) # 1:00:00\n",
    "print(sec_to_time(3661)) # 1:01:01"
   ]
  }
 ],
 "metadata": {
  "kernelspec": {
   "display_name": "Python 3.10.6 64-bit",
   "language": "python",
   "name": "python3"
  },
  "language_info": {
   "codemirror_mode": {
    "name": "ipython",
    "version": 3
   },
   "file_extension": ".py",
   "mimetype": "text/x-python",
   "name": "python",
   "nbconvert_exporter": "python",
   "pygments_lexer": "ipython3",
   "version": "3.10.6"
  },
  "vscode": {
   "interpreter": {
    "hash": "b0fa6594d8f4cbf19f97940f81e996739fb7646882a419484c72d19e05852a7e"
   }
  }
 },
 "nbformat": 4,
 "nbformat_minor": 2
}
