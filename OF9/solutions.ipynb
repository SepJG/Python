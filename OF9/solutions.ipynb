{
 "cells": [
  {
   "cell_type": "markdown",
   "metadata": {},
   "source": [
    "# Øvingsforelesning 9 - ITGK\n",
    "Algoritmer og rekursjon"
   ]
  },
  {
   "cell_type": "markdown",
   "metadata": {},
   "source": [
    "### Oppgave 1: Værmelding v2\n",
    "\n",
    "I tidligere oppgaver hadde værmeldingene denne formen: `[[\"mandag\", \"sol\"],\n",
    "[\"tirsdag\", \"sol\"], [\"onsdag\", \"regn\"], [\"torsdag\", \"overskyet\"], [\"fredag\", \"regn\"],\n",
    "[\"lørdag\", \"regn\"], [\"søndag\", \"overskyet\"]]`.\n",
    "\n",
    "En annen måte å representere en ukes værmelding er ved å bruke dictionaries.\n",
    "\n",
    "Lag en funksjon som tar inn en liste på den formen vi har brukt før, og returner en dictionary som kan aksessere været ved ukedager som nøkkel. Fremdeles antar vi at vi ikke har flere av samme dag i listen.\n",
    "\n"
   ]
  },
  {
   "cell_type": "code",
   "execution_count": null,
   "metadata": {},
   "outputs": [],
   "source": [
    "weather = [[\"mandag\", \"sol\"],\n",
    "[\"tirsdag\", \"sol\"], [\"onsdag\", \"regn\"], [\"torsdag\", \"overskyet\"], [\"fredag\", \"regn\"],\n",
    "[\"lørdag\", \"regn\"], [\"søndag\", \"overskyet\"]]\n",
    "\n",
    "def convert_weather_data(weather_data):\n",
    "    result = {}\n",
    "\n",
    "    for day in weather_data:\n",
    "        weekday = day[0]\n",
    "        day_weather = day[1]\n",
    "        result[weekday] = day_weather\n",
    "\n",
    "    return result\n",
    "\n",
    "weather = convert_weather_data(weather)\n",
    "print(weather)\n",
    "print(weather[\"onsdag\"])"
   ]
  },
  {
   "cell_type": "markdown",
   "metadata": {},
   "source": [
    "### Oppgave 2: Float v2\n",
    "\n",
    "Python har ikke en `is_float(s)`-funksjon. \n",
    "\n",
    "Vi ønsker å implementere (lage) en slik funksjon ved hjelp av **try-except**."
   ]
  },
  {
   "cell_type": "code",
   "execution_count": null,
   "metadata": {},
   "outputs": [],
   "source": [
    "def is_float(s):\n",
    "    try:\n",
    "        float(s)\n",
    "        return True\n",
    "    except ValueError:\n",
    "        return False\n",
    "\n",
    "print(is_float(\"-2.1\"))"
   ]
  },
  {
   "cell_type": "markdown",
   "metadata": {},
   "source": [
    "### Oppgave 3: Read/write fil\n",
    "\n",
    "Vi har listen `weather_data`: `[[\"mandag”, \"sol\", 2], [“tirsdag”, \"regn\", 13], [“onsdag”, \"vind\", 5], [“torsdag”, \"torden\", 1]]`.\n",
    "\n",
    "Lag en funksjon som tar inn værdata og lagrer dette i en tekstfil.\n",
    "\n",
    "I tillegg skal du lage en funksjon for å lese denne tekstfilen og hente ut data på samme format som det var før det ble lagret. "
   ]
  },
  {
   "cell_type": "code",
   "execution_count": null,
   "metadata": {},
   "outputs": [],
   "source": [
    "#mandag,sol,2\n",
    "#tirsdag,regn,13\n",
    "#onsdag,vind,5\n",
    "\n",
    "def write_to_file(weather_data, filename):\n",
    "    with open(filename, \"w\") as fil:\n",
    "        for weather in weather_data:\n",
    "            streng = weather[0] + \",\" + weather[1] + \",\" + str(weather[2]) + \"\\n\"\n",
    "            fil.write(streng)\n",
    "\n",
    "weather_data = [[\"mandag\", \"sol\", 2], [\"tirsdag\", \"regn\", 13], [\"onsdag\", \"vind\", 5], [\"torsdag\", \"torden\", 1]]\n",
    "weather_fil = \"test.csv\"\n",
    "write_to_file(weather_data, weather_fil)"
   ]
  },
  {
   "cell_type": "code",
   "execution_count": null,
   "metadata": {},
   "outputs": [],
   "source": [
    "def read_from_file(filename):\n",
    "    result = []\n",
    "\n",
    "    with open(filename, \"r\") as fil:\n",
    "        lines = fil.readlines()\n",
    "        for line in lines:\n",
    "            line = line.strip()\n",
    "            items = line.split(\",\")\n",
    "            items[2] = int(items[2])\n",
    "            result.append(items)\n",
    "    \n",
    "    return result\n",
    "\n",
    "print(read_from_file(weather_fil))"
   ]
  },
  {
   "cell_type": "markdown",
   "metadata": {},
   "source": [
    "### Oppgave 4\n",
    "\n",
    "Lag en **rekursiv funksjon** som tar inn et heltall som parameter, og returnerer fakulteten av tallet"
   ]
  },
  {
   "cell_type": "code",
   "execution_count": null,
   "metadata": {},
   "outputs": [],
   "source": [
    "def factorial(n):\n",
    "    if n == 0:\n",
    "        return 1\n",
    "    return n * factorial(n - 1)\n",
    "\n",
    "print(factorial(5))"
   ]
  },
  {
   "cell_type": "markdown",
   "metadata": {},
   "source": [
    "### Oppgave 5\n",
    "\n",
    "Binomialkoeffisienten til to tall `n` og `k` er gitt ved $\\binom{n}{k} = \\frac{n!}{ k!( n-k)!}$ der $n! = n \\cdot (n - 1) \\cdot (n - 2) \\cdot ... \\cdot 2 \\cdot 1$. Lag en funksjon som tar inn to tall og finner binomialkoeffisienten deres."
   ]
  },
  {
   "cell_type": "code",
   "execution_count": null,
   "metadata": {},
   "outputs": [],
   "source": [
    "def binomial_coefficient(n, k):\n",
    "    return factorial(n) / (factorial(k) * factorial(n - k))\n",
    "\n",
    "print(binomial_coefficient(5, 3))"
   ]
  },
  {
   "cell_type": "markdown",
   "metadata": {},
   "source": [
    "### Oppgave 6\n",
    "\n",
    "Lag en funksjon som tar inn en liste som parameter. Listen kan inneholde tall eller andre lister, som igjen kan inneholde tall eller aldre lister, osv. \n",
    "\n",
    "Funksjonen skal returnere summen av alle tallene i listen, inkludert tallene i indre lister\n",
    "\n",
    "Eksempel: `sum_list([1,3,[5,3], [6,[4,2]]])` = 24"
   ]
  },
  {
   "cell_type": "code",
   "execution_count": null,
   "metadata": {},
   "outputs": [],
   "source": [
    "def sum_list(liste):\n",
    "    total = 0\n",
    "\n",
    "    for element in liste:\n",
    "        if isinstance(element, list):\n",
    "            total += sum_list(element)        \n",
    "        else:\n",
    "            total += element\n",
    "\n",
    "    return total\n",
    "\n",
    "sample = [1, 3, 4, [5, 6]]\n",
    "\n",
    "print(sum_list(sample))\n",
    "print(sum_list([1,3,[5,3], [6,[4,2]]]))"
   ]
  },
  {
   "cell_type": "markdown",
   "metadata": {},
   "source": [
    "## Eksamen TDT4109 Høst 2019\n",
    "\n",
    "Denne eksamenen var **ikke** hjemmeeksamen, og hadde **ikke** mulighet til å kjøre kode.\n",
    "\n",
    "## Oppgave 3 - Programmering\n",
    "\n",
    "I denne oppgaven skal det lages funksjoner til et system for å håndtere anmeldelser av filmer.\n",
    "\n",
    "Bruk funksjoner fra tidligere oppgaver der det er naturlig, og du kan bruke disse funksjonene selv om du ikke har løst de tidligere oppgavene.\n",
    "\n",
    "Datastrukturen som brukes i denne oppgaven er en dictionary som tar vare på all informasjon om filmene, og er på følgende format:\n",
    "`db[title]=[year, genre, age, country, score, comment]`\n",
    "\n",
    "Eks datastrukturen med ett innslag (filmen E.T.):\n",
    "```python\n",
    ">>> db = {}\n",
    ">>> db[\"E.T.\"] = [1982, \"Sci-Fi\", 5, \"United States\", 98, \"Great movie\"]\n",
    ">>> print(db)\n",
    "{'E.T.': [1982, 'Sci-Fi', 5, 'United States', 98, 'Great movie']}\n",
    "```\n",
    "Følgende to tuppel brukes i denne oppgaven til å spesifisere filmsjangere og gyldige land:"
   ]
  },
  {
   "cell_type": "code",
   "execution_count": null,
   "metadata": {},
   "outputs": [],
   "source": [
    "GENRES = (\"Action\", \"Adventure\", \"Adult\", \"Animation\", \"Comedy\", \"Crime\", \"Documentary\", \"Drama\",\n",
    "\"Fantasy\", \"Family\", \"Film-Noir\", \"Horror\", \"Musical\", \"Mystery\", \"Romance\", \"Sci-Fi\", \"Short\", \"Thriller\", \"War\",\n",
    "\"Western\")\n",
    "\n",
    "COUNTRIES = (\"Afghanistan\", \"Albania\", \"Algeria\", \"Andorra\", \"Angola\", \"Antigua & Deps\", \"Argentina\",\n",
    "\"Armenia\", \"Australia\", \"Austria\", \"Azerbaijan\", \"Bahamas\", \"Bahrain\", \"Bangladesh\", \"Barbados\", \"Belarus\",\n",
    "\"Belgium\", \"Belize\", \"Benin\", \"Bhutan\", \"Bolivia\", \"Bosnia Herzegovina\", \"Botswana\", \"Brazil\", \"Brunei\",\n",
    "\"Bulgaria\", \"Burkina\", \"Burundi\", \"Cambodia\", \"Cameroon\", \"Canada\", \"Cape Verde\", \"Central African Rep\",\n",
    "\"Chad\", \"Chile\", \"China\", \"Colombia\", \"Comoros\", \"Congo\", \"Congo {Democratic Rep}\", \"Costa Rica\",\n",
    "\"Croatia\", \"Cuba\", \"Cyprus\", \"Czech Republic\", \"Denmark\", \"Djibouti\", \"Dominica\", \"Dominican Republic\",\n",
    "\"East Timor\", \"Ecuador\", \"Egypt\", \"El Salvador\", \"Equatorial Guinea\", \"Eritrea\", \"Estonia\", \"Ethiopia\", \"Fiji\",\n",
    "\"Finland\", \"France\", \"Gabon\", \"Gambia\", \"Georgia\", \"Germany\", \"Ghana\", \"Greece\", \"Grenada\", \"Guatemala\",\n",
    "\"Guinea\", \"Guinea-Bissau\", \"Guyana\", \"Haiti\", \"Honduras\", \"Hungary\", \"Iceland\", \"India\", \"Indonesia\", \"Iran\",\n",
    "\"Iraq\", \"Ireland (Republic)\", \"Israel\", \"Italy\", \"Ivory Coast\", \"Jamaica\", \"Japan\", \"Jordan\", \"Kazakhstan\",\n",
    "\"Kenya\", \"Kiribati\", \"Korea North\", \"Korea South\", \"Kosovo\", \"Kuwait\", \"Kyrgyzstan\", \"Laos\", \"Latvia\",\n",
    "\"Lebanon\", \"Lesotho\", \"Liberia\", \"Libya\", \"Liechtenstein\", \"Lithuania\", \"Luxembourg\", \"Macedonia\",\n",
    "\"Madagascar\", \"Malawi\", \"Malaysia\", \"Maldives\", \"Mali\", \"Malta\", \"Marshall Islands\", \"Mauritania\", \"Mauritius\",\n",
    "\"Mexico\", \"Micronesia\", \"Moldova\", \"Monaco\", \"Mongolia\", \"Montenegro\", \"Morocco\", \"Mozambique\",\n",
    "\"Myanmar (Burma)\", \"Namibia\", \"Nauru\", \"Nepal\", \"Netherlands\", \"New Zealand\", \"Nicaragua\", \"Niger\",\n",
    "\"Nigeria\", \"Norway\", \"Oman\", \"Pakistan\", \"Palau\", \"Panama\", \"Papua New Guinea\", \"Paraguay\", \"Peru\",\n",
    "\"Philippines\", \"Poland\", \"Portugal\", \"Qatar\", \"Romania\", \"Russian Federation\", \"Rwanda\", \"St Kitts & Nevis\",\n",
    "\"St Lucia\", \"Saint Vincent & the Grenadines\", \"Samoa\", \"San Marino\", \"Sao Tome & Principe\", \"Saudi Arabia\",\n",
    "\"Senegal\", \"Serbia\", \"Seychelles\", \"Sierra Leone\", \"Singapore\", \"Slovakia\", \"Slovenia\", \"Solomon Islands\",\n",
    "\"Somalia\", \"South Africa\", \"South Sudan\", \"Spain\", \"Sri Lanka\", \"Sudan\", \"Suriname\", \"Swaziland\", \"Sweden\",\n",
    "\"Switzerland\", \"Syria\", \"Taiwan\", \"Tajikistan\", \"Tanzania\", \"Thailand\", \"Togo\", \"Tonga\", \"Trinidad & Tobago\",\n",
    "\"Tunisia\", \"Turkey\", \"Turkmenistan\", \"Tuvalu\", \"Uganda\", \"Ukraine\", \"United Arab Emirates\", \"United Kingdom\",\n",
    " \"United States\", \"Uruguay\", \"Uzbekistan\", \"Vanuatu\", \"Vatican City\", \"Venezuela\", \"Vietnam\",\n",
    "\"Yemen\", \"Zambia\", \"Zimbabwe\")"
   ]
  },
  {
   "cell_type": "markdown",
   "metadata": {},
   "source": [
    "### Oppgave 3.1\n",
    "\n",
    "Skriv funksjonen `input_text` med tre parametere `prompt`, `min_char` og `max_char`. Funksjonen skal spørre om tekst-input fra brukeren med et spørsmål angitt av parameteren prompt som skal være av minimum lengde `min_char` og maksimum lengde `max_char` angitt i antall karakterer. Funksjonen skal fortsette å spørre brukeren om å skrive inn et svar inntil svaret har passe lengde. Hvis svaret er for kort, skal `\"Text is too short!\"` med et innrykk skrives til skjerm. Hvis svaret er for langt, skal `\"Text is too long!\"` med innrykk skrives til skjerm. Funksjonen skal returnere en tekststreng.\n",
    "\n",
    "Eksempel på kjøring:\n",
    "```python\n",
    ">>> title = input_text(\"Title of the film: \", 3, 20)\n",
    "Enter text: T\n",
    "    Text is too short!\n",
    "Enter text: This is a great movie with a long title indeeed\n",
    "    Text is too long!\n",
    "Enter text: Spiderman 3\n",
    ">>> print(title)\n",
    "Spiderman 3\n",
    "```"
   ]
  },
  {
   "cell_type": "code",
   "execution_count": null,
   "metadata": {},
   "outputs": [],
   "source": [
    "def input_text(prompt, min_char, max_char):\n",
    "    streng = input(prompt)\n",
    "    length = len(streng)\n",
    "\n",
    "    if length < min_char:\n",
    "        print(\"\\tText is too short!\")\n",
    "        return input_text(prompt, min_char, max_char)\n",
    "    \n",
    "    if length > max_char:\n",
    "        print(\"\\tText is too long!\")\n",
    "        return input_text(prompt, min_char, max_char)\n",
    "    \n",
    "    return streng\n",
    "\n",
    "print(input_text(\"Title of the film: \", 3, 20))"
   ]
  },
  {
   "cell_type": "markdown",
   "metadata": {},
   "source": [
    "### Oppgave 3.2\n",
    "\n",
    "Skriv funksjonen `input_num` som har tre parametere `prompt`, `min_num` og `max_num`. Funksjonen skal spørre brukeren om å skrive inn et heltall med spørsmål spesifisert av prompt. Funksjonen skal forsette å spørre brukeren inntil tallet er større eller lik `min_num`, mindre eller lik `max_num` og at brukeren ikke skriver inn noen annet enn et heltall (f.eks. tekst eller flyttall).\n",
    "\n",
    "Hvis input fra bruker ikke er et heltall, skal `\"Must be an integer\"` med innrykk bli skrevet til skjermen. Hvis input fra bruker er et tall mindre enn min_num eller større enn max_num, skal `\"Must be a number between [min_num] og [max_num]\"` med innrykk skrives til skjerm. \n",
    "\n",
    "Funksjonen skal returnere et heltall.\n",
    "\n",
    "Eksempel på kall av funksjonen `input_num`:\n",
    "```python\n",
    ">>> age = input_num(\"Age rating (0 - 18): \", 0, 18)\n",
    "Age rating (0 - 18): Eight\n",
    "    Must be an integer\n",
    "Age rating (0 - 18): 19\n",
    "    Must be a number between 0 og 18\n",
    "Age rating (0 - 18): -1\n",
    "    Must be a number between 0 og 18\n",
    "Age rating (0 - 18): 15\n",
    ">>> print(age)\n",
    "15\n",
    "```"
   ]
  },
  {
   "cell_type": "code",
   "execution_count": null,
   "metadata": {},
   "outputs": [],
   "source": [
    "def is_int(s):\n",
    "    try:\n",
    "        int(s)\n",
    "        return True\n",
    "    except ValueError:\n",
    "        return False\n",
    "\n",
    "def input_num(prompt, min_num, max_num):\n",
    "    while True:\n",
    "        streng = input(prompt)\n",
    "        if not is_int(streng):\n",
    "            print(\"\\tMust be an integer\")\n",
    "            continue\n",
    "            \n",
    "        num = int(streng)\n",
    "        if num < min_num or num > max_num:\n",
    "            print(f\"\\tMust be a number between {min_num} and {max_num}\")\n",
    "            continue\n",
    "\n",
    "        return num\n",
    "\n",
    "print(input_num(\"Age rating (0 - 18): \", 0, 18))"
   ]
  },
  {
   "cell_type": "markdown",
   "metadata": {},
   "source": [
    "### Oppgave 3.3\n",
    "\n",
    "Skriv funksjonen `input_selection` som har to parametere `prompt` og `selections`. Funksjonen skal hente tekst-input fra brukeren med et spørsmål spesifisert av `prompt`. Funksjonen skal spørre brukeren om input helt til brukeren har gitt et svar som befinner seg i tuplet selections. \n",
    "\n",
    "Hvis brukeren skriver et svar som ikke er lik noen av elementene i tuplet, skal funksjonen skrive til skjerm `\"Not a valid choice!\"` med innrykk\". Videre skal funksjonen skrive til skjerm `\"Options that start with XX\"` der `XX` er de to første bokstavene av det brukeren skrev inn. Funksjonen skal så liste ut alle elementene i `selections` som starter med de to første bokstavene av det brukeren skrev inn. Funksjonen skal returnere en tekststreng.\n",
    "\n",
    "Eksempel på kall av funksjonen `input_selection` som benytter seg av tuplet `COUNTRIES` definert i starten av\n",
    "oppgaven:\n",
    "```python\n",
    ">>> country = input_selection(\"Country: \", COUNTRIES)\n",
    "Country: Norge\n",
    "    Not a valid choice!\n",
    "Options that start with No\n",
    "Norway\n",
    "Country: United\n",
    "    Not a valid choice!\n",
    "Options that start with Un\n",
    "United Arab Emirates\n",
    "United Kingdom\n",
    "United States\n",
    "Country: United Kingdom\n",
    ">>> print(country)\n",
    "United Kingdom\n",
    "```"
   ]
  },
  {
   "cell_type": "code",
   "execution_count": 46,
   "metadata": {},
   "outputs": [
    {
     "name": "stdout",
     "output_type": "stream",
     "text": [
      "Norge\n",
      "\tNot a valid choice!\n",
      "Options that start with No:\n",
      "Norway\n",
      "United\n",
      "\tNot a valid choice!\n",
      "Options that start with Un:\n",
      "United Arab Emirates\n",
      "United Kingdom\n",
      "United States\n",
      "United Kingdom\n"
     ]
    }
   ],
   "source": [
    "def input_selection(prompt, selections):\n",
    "    sel = input(prompt)\n",
    "    if sel in selections:\n",
    "        return sel\n",
    "\n",
    "    print(sel)\n",
    "    print(\"\\tNot a valid choice!\")\n",
    "\n",
    "    # min call handles the case where sel has a lenght less than\n",
    "    # 2, which would cause error otherwise\n",
    "    start = sel[:min(2, len(sel))]\n",
    "    \n",
    "    print(f\"Options that start with {start}:\")\n",
    "    for selection in selections:\n",
    "        if selection.startswith(start):\n",
    "            print(selection)\n",
    "    \n",
    "    return input_selection(prompt, selections)\n",
    "\n",
    "print(input_selection(\"Country: \", COUNTRIES))"
   ]
  },
  {
   "cell_type": "markdown",
   "metadata": {},
   "source": [
    "### Oppgave 3.4\n",
    "\n",
    "Skriv funksjonen `enter_title` som har ingen parametere. Funksjonen skal benytte seg av funksjonene i de tidligere oppgavene (3.1-3.3) for å spørre om input fra brukeren om følgende:\n",
    "\n",
    " - \"Title: \" (tittel på film) på mellom 1 og 100 tegn.\n",
    " - \"Year: \" (året filmen ble utgitt) angitt mellom år 1900 og 2019.\n",
    " - \"Genre: \" (sjanger for filmen) angitt som en av sjangrene i tuplet GENRES.\n",
    " - \"Age rating (0-18): \" (aldersgrense for filmen) angitt mellom 0 og 18 år.\n",
    " - \"Country: \" (landet filmen ble laget) angitt som et lovlig land i tuplet COUNTRIES.\n",
    " - \"Score (0-100): \" (vurdering av filmen) angitt mellom 0 og 100.\n",
    " - \"Comment: \" (kort kommentar til vurdering av filmen) på mellom 10 og 100 tegn.\n",
    "\n",
    "Funksjonen skal returnere et tuppel av resultatet av input fra brukeren på de sju punktene ovenfor.\n",
    "\n",
    "Eksempel på kall av funksjonen `enter_title`:\n",
    "```python\n",
    ">>> movie = enter_title()\n",
    "Enter the folowing data about the film\n",
    "Title: Spider-Man 3\n",
    "Year: 2007\n",
    "Genre: Sci-Fi\n",
    "Age rating (0-18): 12\n",
    "Country: United States\n",
    "Score (0-100): 63\n",
    "Comment: OK, but no the best Spider-Man film\n",
    ">>> print(movie)\n",
    "('Spider-Man 3', 2007, 'Sci-Fi', 12, 'United States', 63, 'OK, but not the best Spider-Man film')\n",
    "```"
   ]
  },
  {
   "cell_type": "code",
   "execution_count": 47,
   "metadata": {},
   "outputs": [
    {
     "name": "stdout",
     "output_type": "stream",
     "text": [
      "('Spider-Man 3', 2007, 'Sci-Fi', 12, 'United States', 63, 'OK, but not the best')\n"
     ]
    }
   ],
   "source": [
    "def enter_title():\n",
    "    title = input_text(\"Title: \", 1, 100)\n",
    "    year = input_num(\"Year: \", 1900, 2019)\n",
    "    genre = input_selection(\"Genre: \", GENRES)\n",
    "    age_rating = input_num(\"Age rating: \", 0, 18)\n",
    "    country = input_selection(\"Country: \", COUNTRIES)\n",
    "    score = input_num(\"Score: \", 0, 100)\n",
    "    comment = input_text(\"Comment: \", 10, 1000)\n",
    "    return title, year, genre, age_rating, country, score, comment\n",
    "\n",
    "print(enter_title())"
   ]
  }
 ],
 "metadata": {
  "kernelspec": {
   "display_name": "Python 3.10.0 ('.venv': venv)",
   "language": "python",
   "name": "python3"
  },
  "language_info": {
   "codemirror_mode": {
    "name": "ipython",
    "version": 3
   },
   "file_extension": ".py",
   "mimetype": "text/x-python",
   "name": "python",
   "nbconvert_exporter": "python",
   "pygments_lexer": "ipython3",
   "version": "3.10.0"
  },
  "orig_nbformat": 4,
  "vscode": {
   "interpreter": {
    "hash": "f4aba26d267655b48f503c42d1d85e548697804d81a01ab4c1b97aa9d4975a22"
   }
  }
 },
 "nbformat": 4,
 "nbformat_minor": 2
}
