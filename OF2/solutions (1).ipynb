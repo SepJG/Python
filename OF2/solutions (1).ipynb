{
 "cells": [
  {
   "cell_type": "markdown",
   "metadata": {},
   "source": [
    "# Øvingsforelesning 2 - ITGK"
   ]
  },
  {
   "cell_type": "markdown",
   "metadata": {},
   "source": [
    "### Logiske uttrykk, betingelser og if-setninger"
   ]
  },
  {
   "cell_type": "markdown",
   "metadata": {},
   "source": [
    "## Eksempel\n",
    "\n",
    "### Ulike måter å formatere strenger på"
   ]
  },
  {
   "cell_type": "code",
   "execution_count": null,
   "metadata": {},
   "outputs": [],
   "source": [
    "some_val = \"Hello\"\n",
    "some_other_val = 2\n",
    "\n",
    "# F-strings\n",
    "print(f\"Value 1: {some_val}, value 2: {some_other_val * 2}\")\n",
    "\n",
    "# String concatenation (sammensetning)\n",
    "print(\"Value 1: \" + some_val + \", value 2: \" + str(some_other_val * 2))\n",
    "\n",
    "# .format()\n",
    "print(\"Value 1: {}, value 2: {}\".format(some_val, some_other_val * 2))\n",
    "\n",
    "# print med flere argumenter (automatiske mellomrom)\n",
    "# Legg her merke til mellomrommet som kommer etter første verdi\n",
    "print(\"Value 1:\", some_val, \", value 2:\", some_other_val * 2)"
   ]
  },
  {
   "cell_type": "markdown",
   "metadata": {},
   "source": [
    "## Oppgave 1: Repetisjon"
   ]
  },
  {
   "cell_type": "markdown",
   "metadata": {},
   "source": [
    "**Lag et program som gjør følgende:**\n",
    "1. Spør om to tall fra brukeren og lagrer disse som variabler\n",
    "2. Finner ut hvilket av tallene som er det minste\n",
    "3. Skriver ut \"(z) er det minste tallet av (x) og (y)\""
   ]
  },
  {
   "cell_type": "code",
   "execution_count": null,
   "metadata": {
    "collapsed": true
   },
   "outputs": [],
   "source": [
    "tall1 = int(input(\"Skriv inn tall 1: \"))\n",
    "tall2 = int(input(\"Skriv inn tall 2: \"))\n",
    "\n",
    "minste = min(tall1, tall2)\n",
    "\n",
    "print(f\"{minste} er det minste tallet av {tall1} og {tall2}\")"
   ]
  },
  {
   "cell_type": "markdown",
   "metadata": {},
   "source": [
    "# Importere moduler\n",
    "\n",
    "Disse gjør begge det samme. I eksempel 1 vil alt som er importert kreve at man skriver `math` forann, men her importerer vi hele `math`-modulen. I eksempel 2 vil man kun importere `pi`, og `pi` vil fungere som en globalt tilgjengelig variabel"
   ]
  },
  {
   "cell_type": "code",
   "execution_count": null,
   "metadata": {},
   "outputs": [],
   "source": [
    "import math\n",
    "print(math.pi)"
   ]
  },
  {
   "cell_type": "code",
   "execution_count": null,
   "metadata": {},
   "outputs": [],
   "source": [
    "from math import pi\n",
    "print(pi)"
   ]
  },
  {
   "cell_type": "markdown",
   "metadata": {},
   "source": [
    "## Oppgave 2: Repetisjon"
   ]
  },
  {
   "cell_type": "markdown",
   "metadata": {},
   "source": [
    "**Lag et program som gjør følgende:**\n",
    "1. Ber om radius og høyde fra en bruker og lagrer dette i variabler \n",
    "2. Regner ut volumet til en sylinder med denne høyden og radiusen\n",
    "3. Skriver ut volumet med fem desimalers nøyaktighet"
   ]
  },
  {
   "cell_type": "markdown",
   "metadata": {},
   "source": [
    "*Hint:* \n",
    "* $V = \\pi r^2 h$\n",
    "* `round(tall, desimaler)`"
   ]
  },
  {
   "cell_type": "code",
   "execution_count": null,
   "metadata": {
    "collapsed": true
   },
   "outputs": [],
   "source": [
    "from math import pi\n",
    "\n",
    "radius = float(input(\"Skriv inn radius: \"))\n",
    "height = float(input(\"Skriv inn høyde: \"))\n",
    "\n",
    "volume = pi * radius ** 2 * height\n",
    "volume = round(volume, 5)\n",
    "\n",
    "print(f\"Volumet av sylinderen er {volume}\")"
   ]
  },
  {
   "cell_type": "markdown",
   "metadata": {},
   "source": [
    "## Boolske uttrykk"
   ]
  },
  {
   "cell_type": "code",
   "execution_count": null,
   "metadata": {},
   "outputs": [],
   "source": [
    "a = True\n",
    "b = False\n",
    "x = 23\n",
    "y = 26\n",
    "\n",
    "z = x + 2 == y\n",
    "print(z)\n",
    "w = not((a and b) or x != y)\n",
    "print(w)\n",
    "u = a is not b and ((y - 4) <= x)\n",
    "print(u)"
   ]
  },
  {
   "cell_type": "markdown",
   "metadata": {},
   "source": [
    "## Oppgave 3"
   ]
  },
  {
   "cell_type": "markdown",
   "metadata": {},
   "source": [
    "**Skriv et program som gjør følgende:** \n",
    "1. Spør en bruker om tre tall, ett om gangen\n",
    "2. Sjekker om summen av de to første er lik det tredje\n",
    "3. Skriver ut resultatet til bruker\n"
   ]
  },
  {
   "cell_type": "markdown",
   "metadata": {},
   "source": [
    "*Hint:* \n",
    "* `a + b == c`\n"
   ]
  },
  {
   "cell_type": "code",
   "execution_count": null,
   "metadata": {
    "collapsed": true
   },
   "outputs": [],
   "source": [
    "tall1 = int(input(\"Skriv inn tall 1: \"))\n",
    "tall2 = int(input(\"Skriv inn tall 2: \"))\n",
    "tall3 = int(input(\"Skriv inn tall 3: \"))\n",
    "\n",
    "print(f\"{tall1} + {tall2} = {tall3}? {tall1 + tall2 == tall3}\")"
   ]
  },
  {
   "cell_type": "markdown",
   "metadata": {},
   "source": [
    "## Oppgave 4"
   ]
  },
  {
   "cell_type": "markdown",
   "metadata": {},
   "source": [
    "Skriv et program som tar inn et tall og sjekker om det er et partall <br>\n",
    "\n",
    "*Hint:*\n",
    "* Sjekk om resten er 0 når det deles på 2\n",
    "\n",
    "**Ekstraoppgave**\n",
    "* Skriv ut om det er partall eller oddetall\n"
   ]
  },
  {
   "cell_type": "code",
   "execution_count": null,
   "metadata": {
    "collapsed": true
   },
   "outputs": [],
   "source": [
    "tall = int(input(\"Skriv inn et tall: \"))\n",
    "\n",
    "partall = tall % 2 == 0\n",
    "\n",
    "# Dette er nok til å ha fullført ekstraoppgaven\n",
    "print(f\"{tall} er et partall: {partall}\")"
   ]
  },
  {
   "cell_type": "markdown",
   "metadata": {},
   "source": [
    "**Ekstraoppgave** (`if-else`-statement)"
   ]
  },
  {
   "cell_type": "code",
   "execution_count": null,
   "metadata": {},
   "outputs": [],
   "source": [
    "tall = int(input(\"Skriv inn et tall: \"))\n",
    "\n",
    "if tall % 2 == 0:\n",
    "    print(f\"{tall} er et partall\")\n",
    "else:\n",
    "    print(f\"{tall} er et oddetall\")"
   ]
  },
  {
   "cell_type": "markdown",
   "metadata": {},
   "source": [
    "**Ekstraoppgave** (inline `if-else` statement)\n",
    "\n",
    "Dette er ikke pensum, men det er jo alltid kult å se noe nytt. Dette gir akkurat samme resultat som koden over. Eneste forskjellen er at det er mindre kode å skrive"
   ]
  },
  {
   "cell_type": "code",
   "execution_count": null,
   "metadata": {},
   "outputs": [],
   "source": [
    "tall = int(input(\"Skriv inn et tall: \"))\n",
    "\n",
    "# Her har vi puttet en if-setning på formen <verdi> if <betingelse> else <annen-verdi>\n",
    "print(f\"{tall} er et {'partall' if tall % 2 == 0 else 'oddetall'}\")    "
   ]
  },
  {
   "cell_type": "markdown",
   "metadata": {},
   "source": [
    "## Oppgave 5"
   ]
  },
  {
   "cell_type": "markdown",
   "metadata": {},
   "source": [
    "Lag et program som ber om et passord og sjekker om det er likt et passord som du har lagret  i en variabel i koden. <br>\n",
    "\n",
    "*Hint:*\n",
    "* a == b\n",
    "* Start med å opprette en variabel “passord” som inneholder passordet ditt.\n",
    "\n",
    "**Ekstraoppgave**\n",
    "* Sjekk om det er likt uavhengig av små eller store bokstaver\n"
   ]
  },
  {
   "cell_type": "code",
   "execution_count": null,
   "metadata": {
    "collapsed": true
   },
   "outputs": [],
   "source": [
    "passord = \"Secret123\"\n",
    "\n",
    "attempt = input(\"Passord: \")\n",
    "\n",
    "print(f\"Riktig passord: {attempt == passord}\")"
   ]
  },
  {
   "cell_type": "markdown",
   "metadata": {},
   "source": [
    "**Ekstraoppgave**\n",
    "\n",
    "Her kan vi bruke streng-funksjonene [#lower()](https://docs.python.org/3/library/stdtypes.html#str.lower) eller [#upper()](https://docs.python.org/3/library/stdtypes.html#str.upper) for å gjøre om strengene til små eller store bokstaver, og deretter sammenligne dem."
   ]
  },
  {
   "cell_type": "code",
   "execution_count": null,
   "metadata": {},
   "outputs": [],
   "source": [
    "passord = \"Secret123\"\n",
    "\n",
    "attempt = input(\"Passord: \")\n",
    "\n",
    "# Her blir strengene gjort om til små bokstaver før de sammenlignes. Da vil det ikke ha noe å si\n",
    "# om man skriver f. eks. \"seCret123\" fordi dette blir gjort om til \"secret123\", og det samme blir\n",
    "# passord. Dermed er de like uavhengig av små eller store bokstaver (case-insensitive).\n",
    "print(f\"Riktig passord: {attempt.lower() == passord.lower()}\")"
   ]
  },
  {
   "cell_type": "markdown",
   "metadata": {},
   "source": [
    "## Oppgave 6 "
   ]
  },
  {
   "cell_type": "markdown",
   "metadata": {},
   "source": [
    "Lag et program som tar inn et tall og skriver ut ` \"(tall) er et partall\"` hvis det er et partall <br>\n",
    "\n",
    "*Hint:*\n",
    "* `if <logisk uttrykk>:`\n",
    "\n",
    "**Ekstraoppgave:**\n",
    "* Print ut «<tall> er et oddetall» hvis det er oddetall\n"
   ]
  },
  {
   "cell_type": "code",
   "execution_count": null,
   "metadata": {
    "collapsed": true
   },
   "outputs": [],
   "source": [
    "tall = int(input(\"Skriv inn et tall: \"))\n",
    "\n",
    "if tall % 2 == 0:\n",
    "    print(f\"{tall} er et partall\")"
   ]
  },
  {
   "cell_type": "markdown",
   "metadata": {},
   "source": [
    "**Ekstraoppgave** (uten `else`)"
   ]
  },
  {
   "cell_type": "code",
   "execution_count": null,
   "metadata": {},
   "outputs": [],
   "source": [
    "tall = int(input(\"Skriv inn et tall: \"))\n",
    "\n",
    "if tall % 2 == 0:\n",
    "    print(f\"{tall} er et partall\")\n",
    "\n",
    "if tall % 2 == 1:\n",
    "    print(f\"{tall} er et oddetall\")"
   ]
  },
  {
   "cell_type": "markdown",
   "metadata": {},
   "source": [
    "**Ekstraoppgave** (med `else`)\n",
    "\n",
    "Vi kan her også bruke inline `if` som vist tidligere om vi ønsker."
   ]
  },
  {
   "cell_type": "code",
   "execution_count": null,
   "metadata": {},
   "outputs": [],
   "source": [
    "tall = int(input(\"Skriv inn et tall: \"))\n",
    "\n",
    "if tall % 2 == 0:\n",
    "    print(f\"{tall} er et partall\")\n",
    "else:\n",
    "    print(f\"{tall} er et oddetall\")"
   ]
  },
  {
   "cell_type": "markdown",
   "metadata": {},
   "source": [
    "## Oppgave 7 \n",
    "Lag et program som spør om et etternavn. Hvis det er likt ditt etternavn skal det skrive ut `«Dette er en match!!»`"
   ]
  },
  {
   "cell_type": "code",
   "execution_count": null,
   "metadata": {
    "collapsed": true
   },
   "outputs": [],
   "source": [
    "eget_etternavn = \"Tanberg\"\n",
    "\n",
    "etternavn = input(\"Skriv inn ditt etternavn: \")\n",
    "\n",
    "if eget_etternavn == etternavn:\n",
    "    print(\"Dette er en match!!\")"
   ]
  },
  {
   "cell_type": "markdown",
   "metadata": {},
   "source": [
    "## Oppgave 8 \n",
    "Lag et program som tar inn to tall. Programmet skal skrive ut `”(tall1) er større enn eller lik (tall2)”` eller`”(tall1) er mindre enn (tall2)” `avhengig av tallene. <br>\n",
    "\n",
    "*Hint:*\n",
    "* `tall1 > tall2`\n",
    "\n",
    "**Ekstraoppgave:**\n",
    "* Utvid programmet til å gi en spesiell beskjed dersom tallene er like\n"
   ]
  },
  {
   "cell_type": "code",
   "execution_count": null,
   "metadata": {
    "collapsed": true
   },
   "outputs": [],
   "source": [
    "tall1 = int(input(\"Skriv inn tall 1: \"))\n",
    "tall2 = int(input(\"Skriv inn tall 2: \"))\n",
    "\n",
    "if tall1 >= tall2:\n",
    "    print(f\"{tall1} er større enn eller lik {tall2}\")\n",
    "else:\n",
    "    print(f\"{tall1} er mindre enn {tall2}\")"
   ]
  },
  {
   "cell_type": "markdown",
   "metadata": {},
   "source": [
    "**Ekstraoppgave** (med nøstede `if`-setninger)"
   ]
  },
  {
   "cell_type": "code",
   "execution_count": null,
   "metadata": {},
   "outputs": [],
   "source": [
    "tall1 = int(input(\"Skriv inn tall 1: \"))\n",
    "tall2 = int(input(\"Skriv inn tall 2: \"))\n",
    "\n",
    "if tall1 >= tall2:\n",
    "    if tall1 == tall2:\n",
    "        print(f\"{tall1} er lik {tall2}\")\n",
    "    else:\n",
    "        print(f\"{tall1} er større enn eller lik {tall2}\")\n",
    "else:\n",
    "    print(f\"{tall1} er mindre enn {tall2}\")"
   ]
  },
  {
   "cell_type": "markdown",
   "metadata": {},
   "source": [
    "**Ekstraoppgave** (med `elif`)\n",
    "\n",
    "Se oppgave 10"
   ]
  },
  {
   "cell_type": "markdown",
   "metadata": {},
   "source": [
    "## Oppgave 9\n",
    "Kjell trenger help til å bestemme hva han skal ha med til lunsj. Han har en regel han vil følge, men sliter med å huske den. Regelen er: \n",
    "* På mandag, onsdag og fredag spiser han brødskive med geitost\n",
    "* På tirsdag og torsdag spiser han rundstykke med salami\n",
    "\n",
    "Lag et program der Kjell kan skrive inn hvilken ukedag et er, og deretter få vite hva han skal ha til lunsj\n"
   ]
  },
  {
   "cell_type": "code",
   "execution_count": null,
   "metadata": {
    "collapsed": true
   },
   "outputs": [],
   "source": [
    "ukedag = input(\"Hvilken ukedag er det? \")\n",
    "\n",
    "if ukedag == \"mandag\" or ukedag == \"onsdag\" or ukedag == \"fredag\":\n",
    "    print(\"Brødskive med geitost\")\n",
    "else:\n",
    "    if ukedag == \"tirsdag\" or ukedag == \"torsdag\": \n",
    "        print(\"Rundstykke med salami\")\n",
    "    else:\n",
    "        print(f\"{ukedag} er ikke gyldig input!!\")"
   ]
  },
  {
   "cell_type": "markdown",
   "metadata": {},
   "source": [
    "## Oppgave 10\n",
    "**Lage et program som gjør følgende:**\n",
    "* Tar inn to tall (kalt `tall1` og `tall2`). \n",
    "* Dersom de er like skal programmet skrive ut `”Gratulerer, tallene er like” `\n",
    "* Hvis `tall1` er større enn `tall2` skal det skrive ut ”`Tall1 er <differanse mellom tallene> større enn tall2`”. \n",
    "* Dersom `tall2` er større enn `tall1` skal programmet skrive ut ”`Tall1 er <differanse mellom tallene> mindre enn tall2`”.\n",
    "* Til slutt skal programmet skrive ut ”`Takk for denne gang`” \n"
   ]
  },
  {
   "cell_type": "code",
   "execution_count": null,
   "metadata": {
    "collapsed": true
   },
   "outputs": [],
   "source": [
    "tall1 = int(input(\"Skriv inn tall 1: \"))\n",
    "tall2 = int(input(\"Skriv inn tall 2: \"))\n",
    "\n",
    "if tall1 == tall2:\n",
    "    print(\"Gratulerer, tallene er like!\")\n",
    "elif tall1 > tall2:\n",
    "    diff = tall1 - tall2\n",
    "    print(f\"{tall1} er {diff} større enn {tall2}\")\n",
    "else:\n",
    "    diff = tall2 - tall1\n",
    "    print(f\"{tall1} er {diff} mindre enn {tall2}\")\n",
    "\n",
    "print(\"Takk for denne gang\")\n",
    "    "
   ]
  },
  {
   "cell_type": "markdown",
   "metadata": {},
   "source": [
    "## Oppgave 11\n",
    "Lag et program som tar inn en tekststreng fra brukeren. Ut i fra strengen kan følgende fire ting skje\n",
    "<br>\n",
    "1. Dersom strengen er lik `”IalwaysCheat”` skal programmet skrive ut `”Juksing er ikke lov, prøv igjen senere” `\n",
    "2. Ellers, dersom lengden på strengen er større enn 4 og mindre enn 10 skal programmet skrive ut `”Dette var en streng med perfekt lengde”`. \n",
    " * `len(streng)` gir lengden på strengen med navn ”streng”. \n",
    "3. Ellers, hvis strengen starter på `”hei”` og har mer enn 6 tegn skal programmet skrive ut `”Hei på deg også”`\n",
    " * Hint: streng.startswith(\"hei\") gir True hvis strengen starter med ”hei” \n",
    "4. Ellers skal programmet skrive ut `”Dette var en kjedelig streng”`\n"
   ]
  },
  {
   "cell_type": "code",
   "execution_count": null,
   "metadata": {
    "collapsed": true
   },
   "outputs": [],
   "source": [
    "streng = input(\"Skriv inn en streng: \")\n",
    "\n",
    "if streng == \"IalwaysCheat\":\n",
    "    print(\"Juksing er ikke lov, prøv igjen senere\")\n",
    "elif 4 < len(streng) < 10:\n",
    "    print(\"Dette var en streng med perfekt lengde\") \n",
    "elif streng.startswith(\"hei\") and len(streng) > 6:\n",
    "    print(\"Hei på deg også\")\n",
    "else:\n",
    "    print(\"Dette var en kjedelig streng\")"
   ]
  },
  {
   "cell_type": "markdown",
   "metadata": {},
   "source": [
    "# Bonusoppgave\n",
    "\n",
    "Lag et program som spør brukeren hvor mye tid de sover hver dag.\n",
    "\n",
    " - Dersom brukeren svarer et tall over 24 skal du printe at de lyver.\n",
    " - Dersom de ikke lyver skal du spørre hvor mange timer de bruker på skolen hver dag.\n",
    " - Dersom summen av tiden de bruker på skole og søvn er over 24 timer skal de få beskjed om at de lyver. \n",
    " - Dersom de ikke lyver skal de få et spørsmål om de jobber. \n",
    " - Dersom de ikke jobber skal programmet printe ut hvor mye tid i døgnet som er igjen til fritid. \n",
    " - Dersom de jobber må programmet spørre hvor mye tid de bruker på jobb hver dag.\n",
    " - Dersom summen av jobb, skole og søvn er over 24 timer så lyver de, og da skal programmet si fra. \n",
    " - Dersom de ikke lyver skal programmet printe ut hvor mye tid i døgnet som er igjen til fritid. \n",
    "\n"
   ]
  },
  {
   "cell_type": "code",
   "execution_count": null,
   "metadata": {},
   "outputs": [],
   "source": [
    "sleep = int(input(\"Hvor mange timer sover du hver dag? \"))\n",
    "\n",
    "if sleep > 24:\n",
    "    print(\"Du lyver!\")\n",
    "else:\n",
    "    school = int(input(\"Hvor mange timer bruker du på skolen hver dag?\"))\n",
    "\n",
    "    total = sleep + school\n",
    "\n",
    "    if total > 24:\n",
    "        print(\"Du lyver!\")\n",
    "    else:\n",
    "        working = input(\"Har du jobb? [ja/nei]\") == \"ja\" \n",
    "\n",
    "        if not working:\n",
    "            print(f\"Du har {24 - total} timer til fritid\")\n",
    "        else:\n",
    "            work_hours = int(input(\"Hvor mange timer jobber du hver dag?\"))\n",
    "\n",
    "            total += work_hours\n",
    "\n",
    "            if total > 24:\n",
    "                print(\"Du lyver!\")\n",
    "            else:\n",
    "                print(f\"Du har {24 - total} timer til fritid\")\n",
    "                "
   ]
  }
 ],
 "metadata": {
  "kernelspec": {
   "display_name": "Python 3.10.5 64-bit",
   "language": "python",
   "name": "python3"
  },
  "language_info": {
   "codemirror_mode": {
    "name": "ipython",
    "version": 3
   },
   "file_extension": ".py",
   "mimetype": "text/x-python",
   "name": "python",
   "nbconvert_exporter": "python",
   "pygments_lexer": "ipython3",
   "version": "3.10.5"
  },
  "vscode": {
   "interpreter": {
    "hash": "e7370f93d1d0cde622a1f8e1c04877d8463912d04d973331ad4851f04de6915a"
   }
  }
 },
 "nbformat": 4,
 "nbformat_minor": 2
}
