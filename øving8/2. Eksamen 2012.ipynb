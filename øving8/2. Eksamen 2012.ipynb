{
 "cells": [
  {
   "cell_type": "markdown",
   "metadata": {
    "deletable": false,
    "editable": false,
    "run_control": {
     "frozen": true
    }
   },
   "source": [
    " <nav class=\"navbar navbar-default\">\n",
    "  <div class=\"container-fluid\">\n",
    "    <div class=\"navbar-header\">\n",
    "      <a class=\"navbar-brand\" href=\"_Oving8.ipynb\">Øving 8</a>\n",
    "    </div>\n",
    "    <ul class=\"nav navbar-nav\">\n",
    "    <li ><a href=\"Rekursjon.ipynb\">Rekursjon </a></li>\n",
    "    <li class=\"active\"><a href=\"Eksamen%202012.ipynb\">Eksamen Python 2012</a></li>\n",
    "    <li ><a href=\"Sudoku.ipynb\">Sudoku</a></li>\n",
    "    <li ><a href=\"Sjakk.ipynb\">Sjakk</a></li>\n",
    "    </ul>\n",
    "  </div>\n",
    "</nav>\n",
    "\n",
    "\n",
    "# Eksamen 2012"
   ]
  },
  {
   "cell_type": "markdown",
   "metadata": {
    "deletable": false,
    "editable": false,
    "hide_input": true,
    "run_control": {
     "frozen": true
    }
   },
   "source": [
    "## Oppgave 1 - Teori (25%)"
   ]
  },
  {
   "cell_type": "markdown",
   "metadata": {
    "deletable": false,
    "editable": false,
    "run_control": {
     "frozen": true
    }
   },
   "source": [
    "Noen av flervalgsoppgavene som ikke var pensum er fjernet. For å få opp alle flervalgsoppgavene, `trykk på denne boksen, pil ned, og så ctrl + enter`. Merk at dersom du gjør dette igjen etter å startet en besvarelse vil besvarelsen din forsvinne. Dette gjelder kun flervalgsoppgaven. Trykk `Widgets->Save Notebook Widget State` for å lagre flervalgsoppgavene.  Du kan trykke `Cell->All Output->Toggle Scrolling` for å få alle oppgavene i et stort vindu."
   ]
  },
  {
   "cell_type": "code",
   "execution_count": 1,
   "metadata": {
    "hide_input": true,
    "scrolled": true
   },
   "outputs": [
    {
     "name": "stdout",
     "output_type": "stream",
     "text": [
      "\u001b[1m 1)Hva kjennetegner komprimeringsalgoritmer som er tapsløs (lossless)? \u001b[0m\n"
     ]
    },
    {
     "data": {
      "application/vnd.jupyter.widget-view+json": {
       "model_id": "ae824df99dd7493e8090b9f6fce64e45",
       "version_major": 2,
       "version_minor": 0
      },
      "text/plain": [
       "RadioButtons(layout=Layout(width='1500px'), options=('a)Den opprinnelige datamengden kan gjenskapes nøyaktig.'…"
      ]
     },
     "metadata": {},
     "output_type": "display_data"
    },
    {
     "data": {
      "application/vnd.jupyter.widget-view+json": {
       "model_id": "28f894568afc40f28c8625e6c6fa87a1",
       "version_major": 2,
       "version_minor": 0
      },
      "text/plain": [
       "Output()"
      ]
     },
     "metadata": {},
     "output_type": "display_data"
    },
    {
     "name": "stdout",
     "output_type": "stream",
     "text": [
      "\u001b[1m 2)Hva sier Nyquist-regelen om samplingsfrekvensen? \u001b[0m\n"
     ]
    },
    {
     "data": {
      "application/vnd.jupyter.widget-view+json": {
       "model_id": "9716c8149fbd43339d4d6fc9d6a7d8dc",
       "version_major": 2,
       "version_minor": 0
      },
      "text/plain": [
       "RadioButtons(layout=Layout(width='1500px'), options=('a)Samplingsfrekvensen må være minst halvparten av den hø…"
      ]
     },
     "metadata": {},
     "output_type": "display_data"
    },
    {
     "data": {
      "application/vnd.jupyter.widget-view+json": {
       "model_id": "1516db31295c4b71a181982e72b7cfe8",
       "version_major": 2,
       "version_minor": 0
      },
      "text/plain": [
       "Output()"
      ]
     },
     "metadata": {},
     "output_type": "display_data"
    },
    {
     "name": "stdout",
     "output_type": "stream",
     "text": [
      "\u001b[1m 3)Hva er oppgaven til en programteller (program counter): \u001b[0m\n"
     ]
    },
    {
     "data": {
      "application/vnd.jupyter.widget-view+json": {
       "model_id": "469759e1a39f40868d82927159076f94",
       "version_major": 2,
       "version_minor": 0
      },
      "text/plain": [
       "RadioButtons(layout=Layout(width='1500px'), options=('a)Den holder rede på antall kodelinjer i et program.', '…"
      ]
     },
     "metadata": {},
     "output_type": "display_data"
    },
    {
     "data": {
      "application/vnd.jupyter.widget-view+json": {
       "model_id": "c9983166b6c44191b401db0cc014a4b4",
       "version_major": 2,
       "version_minor": 0
      },
      "text/plain": [
       "Output()"
      ]
     },
     "metadata": {},
     "output_type": "display_data"
    },
    {
     "name": "stdout",
     "output_type": "stream",
     "text": [
      "\u001b[1m 4)Hvor mange symboler kan kodes med 10 bit? \u001b[0m\n"
     ]
    },
    {
     "data": {
      "application/vnd.jupyter.widget-view+json": {
       "model_id": "a26d6516fcf6482ba9a50af951a11e0e",
       "version_major": 2,
       "version_minor": 0
      },
      "text/plain": [
       "RadioButtons(layout=Layout(width='1500px'), options=('a)10.', 'b)512.', 'c)1024.', 'd)Ingen.\\n'), value='a)10.…"
      ]
     },
     "metadata": {},
     "output_type": "display_data"
    },
    {
     "data": {
      "application/vnd.jupyter.widget-view+json": {
       "model_id": "8038f13ee8604df6825271a386597953",
       "version_major": 2,
       "version_minor": 0
      },
      "text/plain": [
       "Output()"
      ]
     },
     "metadata": {},
     "output_type": "display_data"
    },
    {
     "name": "stdout",
     "output_type": "stream",
     "text": [
      "\u001b[1m 6)Hvorfor digitalisere nettverk? \u001b[0m\n"
     ]
    },
    {
     "data": {
      "application/vnd.jupyter.widget-view+json": {
       "model_id": "1abf7ac9c7aa441087000703b758a30d",
       "version_major": 2,
       "version_minor": 0
      },
      "text/plain": [
       "RadioButtons(layout=Layout(width='1500px'), options=('a)Ønske om å kombinere tjenester.', 'b)Enklere å utnytte…"
      ]
     },
     "metadata": {},
     "output_type": "display_data"
    },
    {
     "data": {
      "application/vnd.jupyter.widget-view+json": {
       "model_id": "711db67d169d4936ad56ac310252492d",
       "version_major": 2,
       "version_minor": 0
      },
      "text/plain": [
       "Output()"
      ]
     },
     "metadata": {},
     "output_type": "display_data"
    },
    {
     "name": "stdout",
     "output_type": "stream",
     "text": [
      "\u001b[1m 7)Hva er et Denial of Service–angrep? \u001b[0m\n"
     ]
    },
    {
     "data": {
      "application/vnd.jupyter.widget-view+json": {
       "model_id": "be198487f3244b8ba40af74d0a9f0f02",
       "version_major": 2,
       "version_minor": 0
      },
      "text/plain": [
       "RadioButtons(layout=Layout(width='1500px'), options=('a)Å sende så mange forespørsler til en tjener (server) a…"
      ]
     },
     "metadata": {},
     "output_type": "display_data"
    },
    {
     "data": {
      "application/vnd.jupyter.widget-view+json": {
       "model_id": "8bf8ba8e89a44b8081569d432113da3c",
       "version_major": 2,
       "version_minor": 0
      },
      "text/plain": [
       "Output()"
      ]
     },
     "metadata": {},
     "output_type": "display_data"
    },
    {
     "name": "stdout",
     "output_type": "stream",
     "text": [
      "\u001b[1m 8)Hva vil det si at vi at vi har “random access” (tilfeldig tilgang) til minnet? \u001b[0m\n"
     ]
    },
    {
     "data": {
      "application/vnd.jupyter.widget-view+json": {
       "model_id": "c96340a876794a7c9d3ea5f12090c8ff",
       "version_major": 2,
       "version_minor": 0
      },
      "text/plain": [
       "RadioButtons(layout=Layout(width='1500px'), options=('a)Alldatai minnet kan hentes direkteuansett hvor det bef…"
      ]
     },
     "metadata": {},
     "output_type": "display_data"
    },
    {
     "data": {
      "application/vnd.jupyter.widget-view+json": {
       "model_id": "8e26f1e7e37a4fed8316799f6370f87f",
       "version_major": 2,
       "version_minor": 0
      },
      "text/plain": [
       "Output()"
      ]
     },
     "metadata": {},
     "output_type": "display_data"
    },
    {
     "name": "stdout",
     "output_type": "stream",
     "text": [
      "\u001b[1m 9)Hva vil det si at en datamaskin er deterministisk? \u001b[0m\n"
     ]
    },
    {
     "data": {
      "application/vnd.jupyter.widget-view+json": {
       "model_id": "97a95fe68d77476c87e193a90c04bea8",
       "version_major": 2,
       "version_minor": 0
      },
      "text/plain": [
       "RadioButtons(layout=Layout(width='1500px'), options=('a)Den har en pessimistisk livsanskuelse som avviser fri …"
      ]
     },
     "metadata": {},
     "output_type": "display_data"
    },
    {
     "data": {
      "application/vnd.jupyter.widget-view+json": {
       "model_id": "1e3127670d7842cea0c44c01108e1749",
       "version_major": 2,
       "version_minor": 0
      },
      "text/plain": [
       "Output()"
      ]
     },
     "metadata": {},
     "output_type": "display_data"
    },
    {
     "name": "stdout",
     "output_type": "stream",
     "text": [
      "\u001b[1m 10)Hvilke av alternativene under er mulige tolkninger av PandA-mønstre? \u001b[0m\n"
     ]
    },
    {
     "data": {
      "application/vnd.jupyter.widget-view+json": {
       "model_id": "e93fac50db4f474a8768801788b8b4ce",
       "version_major": 2,
       "version_minor": 0
      },
      "text/plain": [
       "RadioButtons(layout=Layout(width='1500px'), options=('a)True og False.', 'b)Ja og Nei.', 'c)+ og –.', 'd)Alle …"
      ]
     },
     "metadata": {},
     "output_type": "display_data"
    },
    {
     "data": {
      "application/vnd.jupyter.widget-view+json": {
       "model_id": "859d42491bdd46bf85adc6247633b4d7",
       "version_major": 2,
       "version_minor": 0
      },
      "text/plain": [
       "Output()"
      ]
     },
     "metadata": {},
     "output_type": "display_data"
    },
    {
     "name": "stdout",
     "output_type": "stream",
     "text": [
      "\u001b[1m 11)Når vi studerer algoritmers effektivitet, ser vi på hvordan kjøretiden utvikler seg i forhold til mengden av input.  Vi gjør analyser av bestefall, verstefall og gjennomsnittstilfellet.  Hvorfor er det spesielt interessant å analysere en algoritmes kjøretid i verste fall? \u001b[0m\n"
     ]
    },
    {
     "data": {
      "application/vnd.jupyter.widget-view+json": {
       "model_id": "25d50c540a2648a488ffd3d7a696ecd2",
       "version_major": 2,
       "version_minor": 0
      },
      "text/plain": [
       "RadioButtons(layout=Layout(width='1500px'), options=('a)Det setter en øvre grense for hvor lang tid det tar å …"
      ]
     },
     "metadata": {},
     "output_type": "display_data"
    },
    {
     "data": {
      "application/vnd.jupyter.widget-view+json": {
       "model_id": "5f14798b18e04e3a80ad5b15f8d077eb",
       "version_major": 2,
       "version_minor": 0
      },
      "text/plain": [
       "Output()"
      ]
     },
     "metadata": {},
     "output_type": "display_data"
    },
    {
     "name": "stdout",
     "output_type": "stream",
     "text": [
      "\u001b[1m 12)Vi deler inn algoritmer i klasser basert på de funksjoner som beskriver deres utvikling i kjøretid best. Hvilken algoritme er i klassen Θ(log(n)): \u001b[0m\n"
     ]
    },
    {
     "data": {
      "application/vnd.jupyter.widget-view+json": {
       "model_id": "9d91dc75f4dc44dbab51cfe0f401bf18",
       "version_major": 2,
       "version_minor": 0
      },
      "text/plain": [
       "RadioButtons(layout=Layout(width='1500px'), options=('a)Innstikksortering (Insertion sort).', 'b)Binærsøk (bin…"
      ]
     },
     "metadata": {},
     "output_type": "display_data"
    },
    {
     "data": {
      "application/vnd.jupyter.widget-view+json": {
       "model_id": "7a6a7af3842a459b935699be20f3ec44",
       "version_major": 2,
       "version_minor": 0
      },
      "text/plain": [
       "Output()"
      ]
     },
     "metadata": {},
     "output_type": "display_data"
    },
    {
     "name": "stdout",
     "output_type": "stream",
     "text": [
      "\u001b[1m 13)Hva er et datagram? \u001b[0m\n"
     ]
    },
    {
     "data": {
      "application/vnd.jupyter.widget-view+json": {
       "model_id": "d0f4770e55494fc695b8bd298c3915de",
       "version_major": 2,
       "version_minor": 0
      },
      "text/plain": [
       "RadioButtons(layout=Layout(width='1500px'), options=('a)Et telegram som er skrevet på data.', 'b)Vekten på en …"
      ]
     },
     "metadata": {},
     "output_type": "display_data"
    },
    {
     "data": {
      "application/vnd.jupyter.widget-view+json": {
       "model_id": "fc30dc4682ad44cb95b0c939809abc92",
       "version_major": 2,
       "version_minor": 0
      },
      "text/plain": [
       "Output()"
      ]
     },
     "metadata": {},
     "output_type": "display_data"
    },
    {
     "name": "stdout",
     "output_type": "stream",
     "text": [
      "\u001b[1m 14)Fargene som vises på en dataskjerm representeres oftemed 24 bits RGB-koding. Fargen blå vil da representeres som: \u001b[0m\n"
     ]
    },
    {
     "data": {
      "application/vnd.jupyter.widget-view+json": {
       "model_id": "1053a536e7194320b1a47edfa10c40d0",
       "version_major": 2,
       "version_minor": 0
      },
      "text/plain": [
       "RadioButtons(layout=Layout(width='1500px'), options=('a)0000 0000 0000 0000 0000 0000.', 'b)1111 1111 0000 000…"
      ]
     },
     "metadata": {},
     "output_type": "display_data"
    },
    {
     "data": {
      "application/vnd.jupyter.widget-view+json": {
       "model_id": "43b0bd95957e45e1aaddb574fceced21",
       "version_major": 2,
       "version_minor": 0
      },
      "text/plain": [
       "Output()"
      ]
     },
     "metadata": {},
     "output_type": "display_data"
    },
    {
     "name": "stdout",
     "output_type": "stream",
     "text": [
      "\u001b[1m 15)Når vi overfører data over internett oppstår det ofte feil på grunn av forstyrrelser på linjene. For å oppdage slike feil brukes ofte  \u001b[0m\n"
     ]
    },
    {
     "data": {
      "application/vnd.jupyter.widget-view+json": {
       "model_id": "e23ff9e813354b86b01d126e066c3ce8",
       "version_major": 2,
       "version_minor": 0
      },
      "text/plain": [
       "RadioButtons(layout=Layout(width='1500px'), options=('a)NIC (Network Interface Card).', 'b)ISP (Internet Servi…"
      ]
     },
     "metadata": {},
     "output_type": "display_data"
    },
    {
     "data": {
      "application/vnd.jupyter.widget-view+json": {
       "model_id": "1ddac99fe3b94636a1b8ee19212f2835",
       "version_major": 2,
       "version_minor": 0
      },
      "text/plain": [
       "Output()"
      ]
     },
     "metadata": {},
     "output_type": "display_data"
    },
    {
     "name": "stdout",
     "output_type": "stream",
     "text": [
      "\u001b[1m 16)En mikroprosessor utfører de samme femoppgavene om og om igjen. Hvilken rekkefølge av stegeneunder beskriver korrektrekkefølge på dette F/E-kretsløpet (F/E cycle)? \u001b[0m\n"
     ]
    },
    {
     "data": {
      "application/vnd.jupyter.widget-view+json": {
       "model_id": "659fc430d945474fb4e63c25a0a69efc",
       "version_major": 2,
       "version_minor": 0
      },
      "text/plain": [
       "RadioButtons(layout=Layout(width='1500px'), options=('a)Information Fetch –Data Fetch –Instruction Decode –Ins…"
      ]
     },
     "metadata": {},
     "output_type": "display_data"
    },
    {
     "data": {
      "application/vnd.jupyter.widget-view+json": {
       "model_id": "995c1fb2707c4fb08692a9f6159f89b9",
       "version_major": 2,
       "version_minor": 0
      },
      "text/plain": [
       "Output()"
      ]
     },
     "metadata": {},
     "output_type": "display_data"
    },
    {
     "name": "stdout",
     "output_type": "stream",
     "text": [
      "\u001b[1m 18)Hva er DAC? \u001b[0m\n"
     ]
    },
    {
     "data": {
      "application/vnd.jupyter.widget-view+json": {
       "model_id": "97b51e7bda9e4747aba9ac54b31010ce",
       "version_major": 2,
       "version_minor": 0
      },
      "text/plain": [
       "RadioButtons(layout=Layout(width='1500px'), options=('a)Et program som hjelper med beregninger (data-assisted …"
      ]
     },
     "metadata": {},
     "output_type": "display_data"
    },
    {
     "data": {
      "application/vnd.jupyter.widget-view+json": {
       "model_id": "a81e0e39d19841ca98930ea26d2071c6",
       "version_major": 2,
       "version_minor": 0
      },
      "text/plain": [
       "Output()"
      ]
     },
     "metadata": {},
     "output_type": "display_data"
    },
    {
     "name": "stdout",
     "output_type": "stream",
     "text": [
      "\u001b[1m 19)Rekursjon betyr at  \u001b[0m\n"
     ]
    },
    {
     "data": {
      "application/vnd.jupyter.widget-view+json": {
       "model_id": "d77322e126ae47a19a41ac5270a6faac",
       "version_major": 2,
       "version_minor": 0
      },
      "text/plain": [
       "RadioButtons(layout=Layout(width='1500px'), options=('a)En funksjon kaller seg selv.', 'b)Kjøretiden til progr…"
      ]
     },
     "metadata": {},
     "output_type": "display_data"
    },
    {
     "data": {
      "application/vnd.jupyter.widget-view+json": {
       "model_id": "3f8074925da14f19812cd2b72f0f08e8",
       "version_major": 2,
       "version_minor": 0
      },
      "text/plain": [
       "Output()"
      ]
     },
     "metadata": {},
     "output_type": "display_data"
    },
    {
     "name": "stdout",
     "output_type": "stream",
     "text": [
      "\u001b[1m 20)Ranger effektivitetsklassene Θ(n3), Θ(n), Θ(log(n))og Θ(n2) etter effektivitet, der minst effektiv først og deretter mer og mer effektiv  \u001b[0m\n"
     ]
    },
    {
     "data": {
      "application/vnd.jupyter.widget-view+json": {
       "model_id": "10c3ef526bbe41f3bcafe20ff550e773",
       "version_major": 2,
       "version_minor": 0
      },
      "text/plain": [
       "RadioButtons(layout=Layout(width='1500px'), options=('a)Θ(n3), Θ(n2), Θ(n), Θ(log(n)).', 'b)Θ(n3), Θ(n), Θ(n2)…"
      ]
     },
     "metadata": {},
     "output_type": "display_data"
    },
    {
     "data": {
      "application/vnd.jupyter.widget-view+json": {
       "model_id": "d67d09553f4d49e6a81d975b82e7912c",
       "version_major": 2,
       "version_minor": 0
      },
      "text/plain": [
       "Output()"
      ]
     },
     "metadata": {},
     "output_type": "display_data"
    }
   ],
   "source": [
    "import os\n",
    "import sys\n",
    "module_path = os.path.abspath(os.path.join('../..'))\n",
    "if module_path not in sys.path:\n",
    "    sys.path.append(module_path)\n",
    "    \n",
    "from Resources.mc_generator import *\n",
    "\n",
    "generate_multiple_no_answer('eksamen2012teori.txt')"
   ]
  },
  {
   "cell_type": "markdown",
   "metadata": {
    "deletable": false,
    "editable": false,
    "run_control": {
     "frozen": true
    }
   },
   "source": [
    "## Oppgave 2 -  Grunnleggende programmering (20%)"
   ]
  },
  {
   "cell_type": "markdown",
   "metadata": {
    "deletable": false,
    "editable": false,
    "run_control": {
     "frozen": true
    }
   },
   "source": [
    "***I denne versjonen har vi fjernet fjervalgsoppgavene som til vanlig teller 25% av eksamen. Topp prosentscore er da altså 75%.***\n",
    "\n",
    "Du kan anta at alle fuksjonene mottar gyldige input-verdier."
   ]
  },
  {
   "cell_type": "markdown",
   "metadata": {
    "deletable": false,
    "editable": false,
    "run_control": {
     "frozen": true
    }
   },
   "source": [
    "### Oppgave 2 a) (5%)"
   ]
  },
  {
   "cell_type": "markdown",
   "metadata": {
    "deletable": false,
    "editable": false,
    "run_control": {
     "frozen": true
    }
   },
   "source": [
    "Lag funksjonen **summerOlympics** som har inn-parametere **firstYear** og **lastYear**. Funksjonen skal returnere variabelen **years**,som er ei list emed alle OL-årene fra og med **firstYear** til og med **lastYear** (inkludert framtidige planlagte år for sommer-OL). Fra og med OL i London i 1948,har sommer-OL vært arrangert hvert fjerde år. Du kan anta at **firstYear** ≥ 1948.\n",
    "\n",
    "Eksempel på kjøring av funksjonen og hva den returnerer:\n",
    "\n",
    "```python\n",
    ">>>years = summerOlympics(1999,2012)\n",
    ">>> years\n",
    "[2000, 2004, 2008, 2012]\n",
    ">>>\n",
    "```"
   ]
  },
  {
   "cell_type": "code",
   "execution_count": 8,
   "metadata": {},
   "outputs": [
    {
     "name": "stdout",
     "output_type": "stream",
     "text": [
      "years: [1948, 1952, 1956, 1960, 1964, 1968, 1972, 1976, 1980, 1984, 1988, 1992, 1996, 2000, 2004, 2008, 2012]\n"
     ]
    }
   ],
   "source": [
    "def summerOlympics(firstYear,lastYear):\n",
    "    years = []\n",
    "    for i in range(firstYear, lastYear + 1, 4):\n",
    "        years.append(i)\n",
    "    return years\n",
    "print(f\"years: {summerOlympics(1948,2012)}\")"
   ]
  },
  {
   "cell_type": "markdown",
   "metadata": {
    "deletable": false,
    "editable": false,
    "run_control": {
     "frozen": true
    }
   },
   "source": [
    "### Oppgave 2b) (7.5%)"
   ]
  },
  {
   "cell_type": "markdown",
   "metadata": {
    "deletable": false,
    "editable": false,
    "run_control": {
     "frozen": true
    }
   },
   "source": [
    "Lag funksjonen **`findAge`** som har inn-parametere **bYear**, **bMonth**, **bDay** som er tre heltall som beskriver dato for en fødselsdag. Funksjonen skal returnere **age** som beskriver hvor gammel en person med oppgitt fødselsdag (**bYear**, **bMonth** og **bDay**) er i dag angitt i hele år.\n",
    "\n",
    "For å finne år, måned og dag for i dag ***skal du bruke*** en eksisterende funksjon som heter `current_date()`.Funksjonen returnerer tre heltall på formatet **(yyyy,mm,dd)**. \n",
    "\n",
    "Eksempel på bruk av funksjonen **current_date**:  \n",
    "`(yyyy,mm,dd)= current_date()` gir i dag yyyy=2012,mm=12, dd=11.\n",
    "\n",
    "Eksempel på kjøring av funksjonen **`findAge`** og hva den returnerer:\n",
    "\n",
    "```python\n",
    ">>> age = findAge(2000,12,15)\n",
    ">>> age\n",
    "11\n",
    ">>>\n",
    "```"
   ]
  },
  {
   "cell_type": "code",
   "execution_count": 12,
   "metadata": {
    "ExecuteTime": {
     "end_time": "2019-07-05T10:58:13.647340Z",
     "start_time": "2019-07-05T10:58:13.641077Z"
    }
   },
   "outputs": [],
   "source": [
    "from datetime import datetime\n",
    "def current_date():\n",
    "    yyyy = int(datetime.today().strftime('%Y'))\n",
    "    mm = int(datetime.today().strftime('%m'))\n",
    "    dd = int(datetime.today().strftime('%d'))\n",
    "    return yyyy,mm,dd"
   ]
  },
  {
   "cell_type": "code",
   "execution_count": 37,
   "metadata": {},
   "outputs": [
    {
     "data": {
      "text/plain": [
       "21"
      ]
     },
     "execution_count": 37,
     "metadata": {},
     "output_type": "execute_result"
    }
   ],
   "source": [
    "from datetime import datetime\n",
    "def findAge(bYear,bMonth,bDay):\n",
    "    yyyy = int(datetime.today().strftime('%Y'))\n",
    "    mm = int(datetime.today().strftime('%m'))\n",
    "    dd = int(datetime.today().strftime('%d'))\n",
    "    if yyyy - bYear < 1:\n",
    "        return 0\n",
    "    elif bYear < yyyy:\n",
    "        if bMonth >= mm and bDay >= dd:\n",
    "            return yyyy - bYear - 1\n",
    "        else:\n",
    "            return yyyy - bYear \n",
    "\n",
    "findAge(2001,9,26)"
   ]
  },
  {
   "cell_type": "markdown",
   "metadata": {
    "deletable": false,
    "editable": false,
    "run_control": {
     "frozen": true
    }
   },
   "source": [
    "### Oppgave 2c) (7.5 %)"
   ]
  },
  {
   "cell_type": "markdown",
   "metadata": {
    "deletable": false,
    "editable": false,
    "run_control": {
     "frozen": true
    }
   },
   "source": [
    "Lag en funksjon **`printAgeDiff`** som tar en parameter **table**,som er en to-dimensjonal tabell (liste av lister) der hver rekke beskriver personer med fornavn, etternavn, fødselsår, fødselsmåned og fødselsdato. Funksjonen skal bruke funksjonen **`findAge`** fra oppgave 2b til å sammenlikne alderen i hele år på etterfølgende personer i tabellen (rekke for rekke) og gjøre følgende:\n",
    "\n",
    "* Hvis person n og person n+1 har samme alder angitt i antall hele år, skal følgende skrives ut til skjerm:  \n",
    "``<fornavnn> <etternavnn> is at the same age as <fornavnn+1> <etternavnn+1>``\n",
    "* Hvis person n er eldre enn person n+1 angitt i antall hele år, skal følgende skrives ut til skjerm:  \n",
    "``<fornavnn> <etternavnn> is older than <fornavnn+1> <etternavn n+1>``\n",
    "* Hvis person n er yngre enn person n+1 angitt i antall hele år, skal følgende skrives ut til skjerm:  \n",
    "``<fornavnn> <etternavnn> is younger than <fornavnn+1> <etternavnn+1>``\n",
    "\n",
    "Eksempel på en to-dimensjonal tabell som beskriver fire kjente personer:"
   ]
  },
  {
   "cell_type": "code",
   "execution_count": 38,
   "metadata": {},
   "outputs": [],
   "source": [
    "table=[['Justin','Bieber',1994,3,1],\n",
    "       ['Donald','Duck',1934,8,1],\n",
    "       ['George','Clooney',1961,5,6],\n",
    "       ['Eddie','Murphy',1961,4,3]]"
   ]
  },
  {
   "cell_type": "markdown",
   "metadata": {
    "deletable": false,
    "editable": false,
    "run_control": {
     "frozen": true
    }
   },
   "source": [
    "Eksempel på kjøring av funksjonen **`printAgeDiff`** med tabellen **table**, som inneholder listene for bieber, donald, george og eddie:\n",
    "\n",
    "```python\n",
    ">>>printAgeDiff(table)\n",
    "Justin Bieber is younger than Donald Duck\n",
    "Donald Duck is older than George Clooney\n",
    "George Clooney is at the same age as Eddie Murphy\n",
    ">>>\n",
    "```"
   ]
  },
  {
   "cell_type": "code",
   "execution_count": 40,
   "metadata": {},
   "outputs": [
    {
     "name": "stdout",
     "output_type": "stream",
     "text": [
      "Justin Bieber is younger than Donald Duck\n",
      "Donald Duck is older than George Clooney\n",
      "George Clooney is at the same age as Eddie Murphy\n"
     ]
    }
   ],
   "source": [
    "def printAgeDiff(persons):\n",
    "    diff = persons[0]\n",
    "    n = len(persons)\n",
    "    for i in range(1,n):\n",
    "        current = persons[i]\n",
    "        dAge=findAge(diff[2],diff[3],diff[4])\n",
    "        cAge=findAge(current[2],current[3],current[4])\n",
    "        if(dAge==cAge):\n",
    "            print(diff[0],diff[1],\"is at the same age as\",current[0],current[1])\n",
    "        elif(dAge>cAge):\n",
    "            print(diff[0],diff[1],\"is older than\",current[0],current[1])\n",
    "        else:\n",
    "            print(diff[0],diff[1],\"is younger than\",current[0],current[1])\n",
    "        diff = persons[i]\n",
    "        \n",
    "printAgeDiff(table)"
   ]
  },
  {
   "cell_type": "markdown",
   "metadata": {
    "deletable": false,
    "editable": false,
    "run_control": {
     "frozen": true
    }
   },
   "source": [
    "## Oppgave 3 - Kodeforståelse (15%)"
   ]
  },
  {
   "cell_type": "markdown",
   "metadata": {
    "deletable": false,
    "editable": false,
    "run_control": {
     "frozen": true
    }
   },
   "source": [
    "### Oppgave 3a) (5%)"
   ]
  },
  {
   "cell_type": "markdown",
   "metadata": {
    "deletable": false,
    "editable": false,
    "run_control": {
     "frozen": true
    }
   },
   "source": [
    "Hva returneres hvis funksjonen `fu1(1234)`med kode som vist under kjøres?\n",
    "\n",
    "```python\n",
    "def fu1(a):\n",
    "    r = 0\n",
    "    while(a>0):\n",
    "        s = a%10\n",
    "        r = r + s\n",
    "        a = (a-s)/10\n",
    "return r\n",
    "```"
   ]
  },
  {
   "cell_type": "markdown",
   "metadata": {},
   "source": [
    "10"
   ]
  },
  {
   "cell_type": "markdown",
   "metadata": {
    "deletable": false,
    "editable": false,
    "run_control": {
     "frozen": true
    }
   },
   "source": [
    "### Oppgave 3b) (5%)"
   ]
  },
  {
   "cell_type": "markdown",
   "metadata": {
    "deletable": false,
    "editable": false,
    "run_control": {
     "frozen": true
    }
   },
   "source": [
    "Hva blir verdiene til a,b,c og d etter kallet  \n",
    "`(a, b, c, d) = fu2(’Ut pa tur, aldri sur’)`  \n",
    "med koden som vist under?\n",
    "\n",
    "```python\n",
    "    def fu2(input):\n",
    "        r = 0\n",
    "        s = 0\n",
    "        t = 0\n",
    "        u = 0\n",
    "        n = len(input)\n",
    "        for c in input:\n",
    "            if(c.isalpha()):\n",
    "                r = r + 1\n",
    "            elif(c.isdigit()):\n",
    "                s = s + 1\n",
    "            elif(c==' '):\n",
    "                t = t + 1\n",
    "            else:\n",
    "                u = u + 1\n",
    "        r = 100*r/n\n",
    "        s = 100*s/n\n",
    "        t = 100*t/n\n",
    "        u = 100*u/n\n",
    "        return(r,s,t,u)\n",
    "```"
   ]
  },
  {
   "cell_type": "markdown",
   "metadata": {},
   "source": [
    "(70, 0, 20, 5)"
   ]
  },
  {
   "cell_type": "markdown",
   "metadata": {
    "deletable": false,
    "editable": false,
    "run_control": {
     "frozen": true
    }
   },
   "source": [
    "### Oppgave 3c) (5%)"
   ]
  },
  {
   "cell_type": "markdown",
   "metadata": {
    "deletable": false,
    "editable": false,
    "run_control": {
     "frozen": true
    }
   },
   "source": [
    "Hva returneres av kallet `fu3(100)`med koden som vist under?\n",
    "```python\n",
    "def fu3(a):\n",
    "    if(a<=2):\n",
    "        r = 1\n",
    "    else:\n",
    "        r = 1 + fu3(a/2)\n",
    "    return r\n",
    "    \n",
    "```"
   ]
  },
  {
   "cell_type": "markdown",
   "metadata": {},
   "source": [
    "7"
   ]
  },
  {
   "cell_type": "markdown",
   "metadata": {
    "deletable": false,
    "editable": false,
    "run_control": {
     "frozen": true
    }
   },
   "source": [
    "## Oppgave 4 - Programmering (40%)"
   ]
  },
  {
   "cell_type": "markdown",
   "metadata": {
    "deletable": false,
    "editable": false,
    "run_control": {
     "frozen": true
    }
   },
   "source": [
    "Denne oppgaven fokuserer på behandling av data fra fire vær sensorer som måler en verdi per døgn av følgende data:\n",
    "\n",
    "* Temperatur: Angis som heltall i Celsius fra -50C til + 50C\n",
    "* Nedbør: Angis som heltall i mm nedbør per døgn fra 0 til 2000mm\n",
    "* Luftfuktighet. Angis som heltall fra 0 til 100%\n",
    "* Vindstyrke: Angis som heltall fra 0 til 50 meter per sekund\n",
    "\n",
    "Hvis ikke noe annet er oppgitt kan du anta korrekt input til funksjonene."
   ]
  },
  {
   "cell_type": "markdown",
   "metadata": {
    "deletable": false,
    "editable": false,
    "run_control": {
     "frozen": true
    }
   },
   "source": [
    "### Oppgave 4a) (5%)"
   ]
  },
  {
   "cell_type": "markdown",
   "metadata": {
    "deletable": false,
    "editable": false,
    "run_control": {
     "frozen": true
    }
   },
   "source": [
    "Lag en funksjon **`cold_days`** som tar imot parameteren **templist**, som en liste av temperaturer, og returnerer variabelen **days**,som angir antall døgn der temperaturen var under 0 grader.\n",
    "\n",
    "Eksempel på kall av funksjonen og hva den returnerer:\n",
    "```python\n",
    ">>> days = cold_days([1,-5,3,0,-6,-3,15,0])\n",
    ">>> days\n",
    "3\n",
    ">>>\n",
    "```"
   ]
  },
  {
   "cell_type": "code",
   "execution_count": 3,
   "metadata": {},
   "outputs": [
    {
     "name": "stdout",
     "output_type": "stream",
     "text": [
      "4\n"
     ]
    }
   ],
   "source": [
    "def cold_days(templist):\n",
    "    days = 0\n",
    "    for temp in templist:\n",
    "        if temp < 0:\n",
    "            days = days + 1\n",
    "    return days\n",
    "\n",
    "print(cold_days([1,-5,3,0,-6,-3,15,-2]))"
   ]
  },
  {
   "cell_type": "markdown",
   "metadata": {
    "deletable": false,
    "editable": false,
    "run_control": {
     "frozen": true
    }
   },
   "source": [
    "### Oppgave 4 b) (5 %)"
   ]
  },
  {
   "cell_type": "markdown",
   "metadata": {
    "deletable": false,
    "editable": false,
    "run_control": {
     "frozen": true
    }
   },
   "source": [
    "Lag en funksjon **`cap_data`** som har inn-parameterne **array** (liste med data), **min_value** (minimumsverdi) og **max_value** (maksimumsverdi). Funksjonen skal returnere ei ny liste **result** der alle elementer i lista **array** som har verdi mindre enn **min_value** skal settes lik **min_value** og alle elementer i lista **array** som har verdi høyere enn **max_value** skal settes lik **max_value**.\n",
    "\n",
    "Eksempel på kall av funksjonen og hva den returnerer:\n",
    "```python\n",
    ">>>A=[-70,30,0,90,23,-12,95,12]\n",
    ">>>result = cap_data(A,-50,50)\n",
    ">>>result\n",
    "[-50,30,0,50,23,-12,50,12]\n",
    ">>>\n",
    "```\n",
    "\n",
    "Legg merke til hvilke verdier som endres."
   ]
  },
  {
   "cell_type": "code",
   "execution_count": 5,
   "metadata": {},
   "outputs": [
    {
     "data": {
      "text/plain": [
       "[-60, 30, 0, 50, 23, -12, 50, 12]"
      ]
     },
     "execution_count": 5,
     "metadata": {},
     "output_type": "execute_result"
    }
   ],
   "source": [
    "def cap_data(array, min_value, max_value):\n",
    "    result = []\n",
    "    n = len(array)\n",
    "    for i in range(n):\n",
    "        if array[i]>max_value:\n",
    "            result.append(max_value)\n",
    "        elif array[i]<min_value:\n",
    "            result.append(min_value)\n",
    "        else:\n",
    "            result.append(array[i])\n",
    "    return result\n",
    "\n",
    "array = [-70,30,0,90,23,-12,95,12]\n",
    "cap_data(array,-60,50)"
   ]
  },
  {
   "cell_type": "markdown",
   "metadata": {
    "deletable": false,
    "editable": false,
    "run_control": {
     "frozen": true
    }
   },
   "source": [
    "### Oppgave 4c) (10%)"
   ]
  },
  {
   "cell_type": "markdown",
   "metadata": {
    "deletable": false,
    "editable": false,
    "run_control": {
     "frozen": true
    }
   },
   "source": [
    "Lag en funksjon **`generate_testdatasom`** har inn-parameterne **N**, **min_value** (minimumsverdi)og **max_value** (maksimumsverdi). Funksjonen skal returnere tabellen **result** som består av **N** unike *tall* (heltall) som blir trukket tilfeldig der {**min_value** ≤ *tall* ≤ **max_value**}. Unik betyr her at ingen elementer i tabellen **result** skal ha samme verdi. Du kan anta at antall mulige verdier i intervallet tallet blir trukket fra alltid vil være større enn **N**.\n",
    "\n",
    "Eksempel på kall av funksjonen og hva den returnerer:\n",
    "```python\n",
    ">>> result = generate_testdata(10,-5,10)\n",
    ">>> result\n",
    "[-5,3,7,9,-3,4,2,0,-1,5]\n",
    ">>>\n",
    "```"
   ]
  },
  {
   "cell_type": "code",
   "execution_count": 6,
   "metadata": {},
   "outputs": [
    {
     "data": {
      "text/plain": [
       "[2, 6, -1, -5, 1, 3, 7, 4, 10, 0]"
      ]
     },
     "execution_count": 6,
     "metadata": {},
     "output_type": "execute_result"
    }
   ],
   "source": [
    "import random\n",
    "\n",
    "def generate_testdata(N, min_value, max_value):\n",
    "    result = []\n",
    "    while N>0:\n",
    "        value = random.randint(min_value,max_value)\n",
    "        if value not in result:\n",
    "            result.append(value)\n",
    "            N = N -1\n",
    "    return result\n",
    "\n",
    "generate_testdata(10,-5,10)"
   ]
  },
  {
   "cell_type": "markdown",
   "metadata": {
    "deletable": false,
    "editable": false,
    "run_control": {
     "frozen": true
    }
   },
   "source": [
    "### Oppgave 4d) (5%)"
   ]
  },
  {
   "cell_type": "markdown",
   "metadata": {
    "deletable": false,
    "editable": false,
    "run_control": {
     "frozen": true
    }
   },
   "source": [
    "Lag en funksjon **`create_db`** som har inn-parameterne **temp**, **rain**, **humidity** og **wind**,som er fire tabeller av samme størrelse (likt antall elementer) med data for temperatur, nedbør, luftfuktighet og vind.\n",
    "\n",
    "Funksjonen skal lage og returnere *dictionarien* **weather**,der nøkkelen er ett heltall som starter med verdien 1 og teller oppover (representerer dagen for måling). Hvert innslag i *dictionarien* skal være en liste av verdier for temperatur, nedbør, luftfuktighet og vind. Verdiene for **weather** med nøkkel 1 skal inneholde værdata for dag 1, **weather** med nøkkel2 skal inneholde værdata for dag 2 og så videre.\n",
    "\n",
    "Eksempel på kall av funksjonen og hva den returnerer:\n",
    "```python\n",
    ">>> temp = [1,5,3]\n",
    ">>> rain = [0,30,120]\n",
    ">>> humidity = [30,50,65]\n",
    ">>> wind = [3,5,7]\n",
    ">>> weather = create_db(temp,rain,humidity,wind)\n",
    ">>> weather\n",
    "{1: [1, 0, 30, 3], 2: [5, 30, 50, 5], 3: [3, 120, 65, 7]}\n",
    ">>>\n",
    "``` "
   ]
  },
  {
   "cell_type": "code",
   "execution_count": 9,
   "metadata": {},
   "outputs": [
    {
     "data": {
      "text/plain": [
       "{1: [1, 0, 30, 3], 2: [5, 30, 50, 5], 3: [3, 120, 65, 7]}"
      ]
     },
     "execution_count": 9,
     "metadata": {},
     "output_type": "execute_result"
    }
   ],
   "source": [
    "def create_db(temp, rain, humidity, wind):\n",
    "    n = len(temp)\n",
    "    weather = {}\n",
    "    for i in range(n):\n",
    "        weather[i+1] = [temp[i], rain[i], humidity[i], wind[i]]\n",
    "    return weather\n",
    "\n",
    "temp = [1,5,3]\n",
    "rain = [0,30,120]\n",
    "humidity = [30,50,65]\n",
    "wind = [3,5,7]\n",
    "weather = create_db(temp, rain, humidity, wind)\n",
    "weather"
   ]
  },
  {
   "cell_type": "markdown",
   "metadata": {
    "deletable": false,
    "editable": false,
    "run_control": {
     "frozen": true
    }
   },
   "source": [
    "### Oppgave 4e) (5%)"
   ]
  },
  {
   "cell_type": "markdown",
   "metadata": {
    "deletable": false,
    "editable": false,
    "run_control": {
     "frozen": true
    }
   },
   "source": [
    "Lag en funksjon **`print_db`** som har inn-parameteren **weather**,som er en dictionary som beskrevet i oppgave 4d. Funksjonen skal skrive ut innholdet i **weather** på skjerm etter følgende format og med overskrift som vist på utskriften nederst i deloppgaven:\n",
    "* Day(dag) –høyrejustert med 4 tegn\n",
    "* Temp (temperatur)–høyrejustert med 6 tegn\n",
    "* Rain (nedbør)–høyrejustert med 6 tegn\n",
    "* Humidity (luftfuktighet)–høyrejustert med 10 tegn\n",
    "* Wind (vind)–høyrejustert med 6 tegn\n",
    "\n",
    "Eksempel på kall av funksjonen ved bruk av dictionarien fra oppgave 4d:\n",
    "```p\n",
    ">>> print_db(weather)\n",
    "Day | Temp | rain | humidity | wind\n",
    "====+======+======+==========+======\n",
    "   1      1      0         30      5\n",
    "   2      5     30         50      3\n",
    "   3      3    120         65      7\n",
    ">>>\n",
    "```"
   ]
  },
  {
   "cell_type": "code",
   "execution_count": 22,
   "metadata": {},
   "outputs": [
    {
     "name": "stdout",
     "output_type": "stream",
     "text": [
      "DAY | temp | rain | humidity | wind \n",
      "====+======+======+==========+======\n",
      "   1      1      0         30      3\n",
      "   2      5     30         50      5\n",
      "   3      3    120         65      7\n"
     ]
    }
   ],
   "source": [
    "def print_db(weather):\n",
    "    print(\"DAY | temp | rain | humidity | wind \")\n",
    "    print(\"====+======+======+==========+======\")\n",
    "    for day in weather:\n",
    "        temp = weather[day][0]\n",
    "        rain = weather[day][1]\n",
    "        humidity = weather[day][2]\n",
    "        wind = weather[day][3]\n",
    "        print(format(day,'4d'),format(temp,'6d'),\n",
    "              format(rain,'6d'),format(humidity,'10d'),\n",
    "              format(wind,'6d'))\n",
    "\n",
    "print_db(weather)"
   ]
  },
  {
   "cell_type": "markdown",
   "metadata": {
    "deletable": false,
    "editable": false,
    "run_control": {
     "frozen": true
    }
   },
   "source": [
    "### Oppgave 4f) (10%)"
   ]
  },
  {
   "cell_type": "markdown",
   "metadata": {
    "deletable": false,
    "editable": false,
    "run_control": {
     "frozen": true
    }
   },
   "source": [
    "Lag funksjonen **`strange_weather`** som har inn-parameterne **temp** og **rain**,som er to tabeller med data for temperaturer og regn av lik størrelse (samme antall elementer). Funksjonen skal returnere **start** (startdag)og **stop** (sluttdag)for det lengste intervallet der det er minusgrader, samt at temperaturen faller samtidig som nedbørsmengden stiger i etterfølgende dager. Indekseringen av dager starter på 1. Hvis ingen etterfølgende dager har denne karakteristikken, returneres (0,0).\n",
    "\n",
    "Eksempel på kall av funksjonen(med intervall som oppfyller kravet uthevet):\n",
    "```python\n",
    ">>> temp=[1,3, 4,-5,-6,-7,-8,-9,3,0]\n",
    ">>> rain=[0,20,30,0,10,30,50,0,5,2]\n",
    ">>> (start, stop) = strange_weather(temp,rain)\n",
    ">>> start\n",
    "4\n",
    ">>> stop\n",
    "7\n",
    ">>>\n",
    "```"
   ]
  },
  {
   "cell_type": "code",
   "execution_count": 33,
   "metadata": {
    "ExecuteTime": {
     "end_time": "2019-07-05T12:00:04.448245Z",
     "start_time": "2019-07-05T12:00:04.442468Z"
    }
   },
   "outputs": [
    {
     "data": {
      "text/plain": [
       "(4, 7)"
      ]
     },
     "execution_count": 33,
     "metadata": {},
     "output_type": "execute_result"
    }
   ],
   "source": [
    "def strange_weather(temp, rain):\n",
    "    counter = 0\n",
    "    record = 0\n",
    "    start = 0 \n",
    "    stop = 0\n",
    "    tempstart = 0\n",
    "    N = len(temp)\n",
    "    for i in range(0,N-1):\n",
    "        if(temp[i]<0 and (temp[i]>temp[i+1]) and (rain[i]<rain[i+1])):\n",
    "            counter = counter + 1\n",
    "            if(counter==1):\n",
    "                tempstart = i \n",
    "            if(counter>record):\n",
    "                record = counter \n",
    "                start = tempstart \n",
    "                stop = i+1 # Stops at the next item in the table \n",
    "        else:\n",
    "            counter = 0\n",
    "    if(record == 0):\n",
    "        return(0,0)\n",
    "    else:\n",
    "        return(start+1,stop+1)\n",
    "\n",
    "temp=[1,3, 4,-5,-6,-7,-8,-9,3,0]\n",
    "rain=[0,20,30,0,10,30,50,0,5,2]\n",
    "strange_weather(temp,rain)\n"
   ]
  }
 ],
 "metadata": {
  "kernelspec": {
   "display_name": "Python 3 (ipykernel)",
   "language": "python",
   "name": "python3"
  },
  "language_info": {
   "codemirror_mode": {
    "name": "ipython",
    "version": 3
   },
   "file_extension": ".py",
   "mimetype": "text/x-python",
   "name": "python",
   "nbconvert_exporter": "python",
   "pygments_lexer": "ipython3",
   "version": "3.9.7"
  },
  "toc": {
   "base_numbering": 1,
   "nav_menu": {},
   "number_sections": false,
   "sideBar": true,
   "skip_h1_title": false,
   "title_cell": "Table of Contents",
   "title_sidebar": "Contents",
   "toc_cell": false,
   "toc_position": {},
   "toc_section_display": true,
   "toc_window_display": false
  },
  "vscode": {
   "interpreter": {
    "hash": "a1d88f1d6af7274392319340ad589157e5034eb25853bd7ff5b502ff0dd39369"
   }
  }
 },
 "nbformat": 4,
 "nbformat_minor": 4
}
